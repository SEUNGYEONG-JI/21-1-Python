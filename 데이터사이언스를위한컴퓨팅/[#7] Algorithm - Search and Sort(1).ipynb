{
 "cells": [
  {
   "cell_type": "markdown",
   "id": "general-cartridge",
   "metadata": {},
   "source": [
    "# 1-1 Linear Search - While"
   ]
  },
  {
   "cell_type": "code",
   "execution_count": 1,
   "id": "medical-chick",
   "metadata": {},
   "outputs": [],
   "source": [
    "def linear_search_while(L:list, value)->int:\n",
    "    i = 0\n",
    "    while i < len(L) and L[i]!=value:\n",
    "        i += 1\n",
    "    if i == len(L):\n",
    "        return -1\n",
    "    else:\n",
    "        return i"
   ]
  },
  {
   "cell_type": "markdown",
   "id": "welcome-detector",
   "metadata": {},
   "source": [
    "# 1-2 Linear Search - for loop"
   ]
  },
  {
   "cell_type": "code",
   "execution_count": 2,
   "id": "grateful-tiger",
   "metadata": {},
   "outputs": [],
   "source": [
    "def linear_search_for(L:list, value)->int:\n",
    "    for i in range(len(L)):\n",
    "        if L[i] == value:\n",
    "            return i\n",
    "    return -1 "
   ]
  },
  {
   "cell_type": "markdown",
   "id": "breathing-mambo",
   "metadata": {},
   "source": [
    "# time perf"
   ]
  },
  {
   "cell_type": "code",
   "execution_count": 3,
   "id": "mobile-yahoo",
   "metadata": {},
   "outputs": [],
   "source": [
    "import time\n",
    "t_start = time.perf_counter()\n"
   ]
  },
  {
   "cell_type": "markdown",
   "id": "annual-destruction",
   "metadata": {},
   "source": [
    "# 1-3 Binary Search"
   ]
  },
  {
   "cell_type": "code",
   "execution_count": null,
   "id": "pressed-performer",
   "metadata": {},
   "outputs": [],
   "source": [
    "def binary_search(L:list, value)->int:\n",
    "    start, end = 0, len(L)-1\n",
    "    while start < end:\n",
    "        mid = (start+end)//2\n",
    "        if L[mid] < value:\n",
    "            start = mid+1\n",
    "        elif L[mid] >= value:\n",
    "            end = mid-1\n",
    "    if start < len(L) and L[start] == value:\n",
    "        return start\n",
    "    else:\n",
    "        return -1"
   ]
  },
  {
   "cell_type": "code",
   "execution_count": null,
   "id": "going-foundation",
   "metadata": {},
   "outputs": [],
   "source": [
    "binary_search([1,2,3],2)"
   ]
  },
  {
   "cell_type": "code",
   "execution_count": null,
   "id": "south-killing",
   "metadata": {},
   "outputs": [],
   "source": []
  },
  {
   "cell_type": "markdown",
   "id": "global-wrestling",
   "metadata": {},
   "source": [
    "# 2-1 Selection Sort"
   ]
  },
  {
   "cell_type": "code",
   "execution_count": null,
   "id": "suffering-assembly",
   "metadata": {},
   "outputs": [],
   "source": [
    "def selection_sort(L:list)->None:\n",
    "    for i in range(len(L)-1):\n",
    "        minimum = i\n",
    "        for j in range(i+1,len(L)):\n",
    "            if L[minimum] > L[j]:\n",
    "                minimum = j\n",
    "        L[i],L[minimum] = L[minimum],L[i]        \n",
    "        \n",
    "                \n",
    "        "
   ]
  },
  {
   "cell_type": "code",
   "execution_count": null,
   "id": "lasting-dynamics",
   "metadata": {},
   "outputs": [],
   "source": [
    "L = [2,3,1,2,41,5,2,2,4,5,2]\n",
    "selection_sort(L)"
   ]
  },
  {
   "cell_type": "code",
   "execution_count": 4,
   "id": "hollywood-preliminary",
   "metadata": {},
   "outputs": [
    {
     "data": {
      "text/plain": [
       "[1, 2, 2, 2, 2, 2, 3, 4, 5, 5, 41]"
      ]
     },
     "execution_count": 4,
     "metadata": {},
     "output_type": "execute_result"
    }
   ],
   "source": [
    "L = [2,3,1,2,41,5,2,2,4,5,2]\n",
    "selection_sort(L)\n",
    "L"
   ]
  },
  {
   "cell_type": "markdown",
   "id": "eligible-class",
   "metadata": {},
   "source": [
    "# 2-2 Insertion Sort"
   ]
  },
  {
   "cell_type": "code",
   "execution_count": 1,
   "id": "caring-twenty",
   "metadata": {},
   "outputs": [],
   "source": [
    "def insert(L:list, last_index:int):\n",
    "    for i in range(last_index,0,-1):\n",
    "        if L[i] < L[i-1]:\n",
    "            L[i] , L[i-1] = L[i-1], L[i]\n",
    "        else:\n",
    "            break\n",
    "\n",
    "def insertion_sort(L:list)->None:\n",
    "    for i in range(1,len(L)):\n",
    "        #L[i]를 앞에 sort된 부분에 적절한 곳에 넣어줘야한다.\n",
    "        insert(L,i)\n",
    "        "
   ]
  },
  {
   "cell_type": "code",
   "execution_count": 6,
   "id": "appropriate-invasion",
   "metadata": {},
   "outputs": [],
   "source": [
    "L = [1,2,3,1,2,3,5,6,7,8,8,10,123,112,32,12,4]\n",
    "insertion_sort(L)"
   ]
  },
  {
   "cell_type": "code",
   "execution_count": 7,
   "id": "bulgarian-engineering",
   "metadata": {},
   "outputs": [
    {
     "data": {
      "text/plain": [
       "[1, 1, 2, 2, 3, 3, 4, 5, 6, 7, 8, 8, 10, 12, 32, 112, 123]"
      ]
     },
     "execution_count": 7,
     "metadata": {},
     "output_type": "execute_result"
    }
   ],
   "source": [
    "L"
   ]
  },
  {
   "cell_type": "markdown",
   "id": "noticed-advisory",
   "metadata": {},
   "source": [
    "# list가 대부분 sorting 되어있으면 insertion sort가 더 빠르고, 무작위로 되어있는 경우  selection sort가 더 빠르다."
   ]
  },
  {
   "cell_type": "code",
   "execution_count": null,
   "id": "regulation-appeal",
   "metadata": {},
   "outputs": [],
   "source": []
  }
 ],
 "metadata": {
  "kernelspec": {
   "display_name": "Python 3",
   "language": "python",
   "name": "python3"
  },
  "language_info": {
   "codemirror_mode": {
    "name": "ipython",
    "version": 3
   },
   "file_extension": ".py",
   "mimetype": "text/x-python",
   "name": "python",
   "nbconvert_exporter": "python",
   "pygments_lexer": "ipython3",
   "version": "3.9.1"
  }
 },
 "nbformat": 4,
 "nbformat_minor": 5
}
