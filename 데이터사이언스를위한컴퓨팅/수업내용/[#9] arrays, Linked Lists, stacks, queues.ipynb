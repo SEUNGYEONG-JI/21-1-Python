{
 "cells": [
  {
   "cell_type": "markdown",
   "id": "engaging-deadline",
   "metadata": {},
   "source": [
    "# Arryas"
   ]
  },
  {
   "cell_type": "code",
   "execution_count": 2,
   "id": "confirmed-scenario",
   "metadata": {},
   "outputs": [],
   "source": [
    "L =[]\n",
    "L.insert(0,'df')"
   ]
  },
  {
   "cell_type": "code",
   "execution_count": 8,
   "id": "enabling-salvation",
   "metadata": {},
   "outputs": [
    {
     "data": {
      "text/plain": [
       "['32f', 'df', '32f', 'df']"
      ]
     },
     "execution_count": 8,
     "metadata": {},
     "output_type": "execute_result"
    }
   ],
   "source": [
    "L"
   ]
  },
  {
   "cell_type": "code",
   "execution_count": 7,
   "id": "advised-maker",
   "metadata": {},
   "outputs": [],
   "source": [
    "L.insert(2,'32f')"
   ]
  },
  {
   "cell_type": "markdown",
   "id": "combined-starter",
   "metadata": {},
   "source": [
    "# Linked list"
   ]
  },
  {
   "cell_type": "code",
   "execution_count": 9,
   "id": "coated-playback",
   "metadata": {},
   "outputs": [],
   "source": [
    "class LinkedNode():\n",
    "    def __init__(self,x):\n",
    "        self.val = x\n",
    "        self.next = None"
   ]
  },
  {
   "cell_type": "code",
   "execution_count": 11,
   "id": "human-wesley",
   "metadata": {},
   "outputs": [],
   "source": [
    "a = LinkedNode(5)\n",
    "b = LinkedNode(7)\n",
    "a.next = b"
   ]
  },
  {
   "cell_type": "markdown",
   "id": "contained-uniform",
   "metadata": {},
   "source": [
    "## get size 비효율적인 것"
   ]
  },
  {
   "cell_type": "code",
   "execution_count": null,
   "id": "focused-patio",
   "metadata": {},
   "outputs": [],
   "source": [
    "class SLList():\n",
    "    def __init__(self)->None:\n",
    "        self.first = None\n",
    "\n",
    "    \n",
    "    def addFirst(self, x:int)->None:\n",
    "        newFirst = LinkedNode(x)\n",
    "        newFirst.next = self.first\n",
    "        self.first = newFirst\n",
    "        \n",
    "    def getFirst(self)->int:\n",
    "        if self.first:\n",
    "            return self.first.val\n",
    "        else:\n",
    "            return None\n",
    "        \n",
    "    #너무 비효율적이니까 size를 memory를 평소에 써서 정보 갖고 있자.    \n",
    "    def getsize(self)->int:\n",
    "        curNode = self.first\n",
    "        size = 0\n",
    "        while curNode != None:\n",
    "            size += 1\n",
    "            curNode = curNode.next\n",
    "        return size"
   ]
  },
  {
   "cell_type": "markdown",
   "id": "biblical-engineer",
   "metadata": {},
   "source": [
    "## size 변수 추가, append 방법 추가"
   ]
  },
  {
   "cell_type": "code",
   "execution_count": null,
   "id": "juvenile-retrieval",
   "metadata": {},
   "outputs": [],
   "source": [
    "class SLList():\n",
    "    def __init__(self)->None:\n",
    "        self.first = None\n",
    "        self.size = 0\n",
    "    \n",
    "    def addFirst(self, x:int)->None:\n",
    "        newFirst = LinkedNode(x)\n",
    "        newFirst.next = self.first\n",
    "        self.first = newFirst\n",
    "        self.size += 1\n",
    "        \n",
    "    def getFirst(self)->int:\n",
    "        if self.first:\n",
    "            return self.first.val\n",
    "        else:\n",
    "            return None\n",
    "        \n",
    "    #size를 memory를 평소에 써서 정보 갖고 있자.    \n",
    "    def getsize(self)->int:\n",
    "        return self.size\n",
    "    \n",
    "    \n",
    "    #append 코드 더럽다. sentinel 넣자\n",
    "    def append(self,x:int)->None:\n",
    "        self.size += 1\n",
    "        if self.first == None:\n",
    "            self.first = LinkedNode(x)\n",
    "        else:\n",
    "            curNode = self.first\n",
    "            while curNode.next != None :\n",
    "                curNode = curNode.next\n",
    "            curNode.next = LinkedNode(x)"
   ]
  },
  {
   "cell_type": "markdown",
   "id": "oriented-stocks",
   "metadata": {},
   "source": [
    "## sentinel 추가"
   ]
  },
  {
   "cell_type": "code",
   "execution_count": 12,
   "id": "loaded-plate",
   "metadata": {},
   "outputs": [],
   "source": [
    "class SLList():\n",
    "    def __init__(self)->None:\n",
    "        self.sentinel = LinkedNode(0)\n",
    "        self.size = 0\n",
    "    \n",
    "    def addFirst(self, x:int)->None:\n",
    "        newFirst = LinkedNode(x)\n",
    "        newFirst.next = self.sentinel.next\n",
    "        self.sentinel.next = newFirst\n",
    "        self.size += 1\n",
    "        \n",
    "    def getFirst(self)->int:\n",
    "        if self.sentinel.next:\n",
    "            return self.sentinel.next.val\n",
    "        else:\n",
    "            return None\n",
    "        \n",
    "    #size를 memory를 평소에 써서 정보 갖고 있자.    \n",
    "    def getsize(self)->int:\n",
    "        return self.size\n",
    "    \n",
    "    def append(self,x:int)->None:\n",
    "        self.size += 1\n",
    "        curNode = self.sentinel\n",
    "        while curNode.next!=None:\n",
    "            curNode = curNode.next\n",
    "        curNode.next = LinkedNode(x)"
   ]
  },
  {
   "cell_type": "markdown",
   "id": "played-scoop",
   "metadata": {},
   "source": [
    "# Implement stack by using single linked list of LinkedNodes"
   ]
  },
  {
   "cell_type": "code",
   "execution_count": 13,
   "id": "powerful-drove",
   "metadata": {},
   "outputs": [],
   "source": [
    "class LinkedNode():\n",
    "    def __init__(self,x:int)->None:\n",
    "        self.val = x\n",
    "        self.next = None"
   ]
  },
  {
   "cell_type": "code",
   "execution_count": null,
   "id": "decimal-fields",
   "metadata": {},
   "outputs": [],
   "source": [
    "class stack():\n",
    "    def __init__(self)->None:\n",
    "        self.first = None\n",
    "        self.size = 0\n",
    "    \n",
    "    def push(self,x:int)->None:\n",
    "        newNode = LinkedNode(x)\n",
    "        newNode.next = self.first\n",
    "        self.first = newNode\n",
    "        self.size += 1\n",
    "        \n",
    "        \n",
    "    def pop(self)->None:\n",
    "        curNode = self.first\n",
    "        if not curNode:\n",
    "            return\n",
    "        \n",
    "        elif curNode and not curNode.next:\n",
    "            self.first = None\n",
    "        \n",
    "        else:\n",
    "            while curNode.next != None:\n",
    "                curNode = curNode.next\n",
    "                \n",
    "        \n",
    "    def top(self)->int:\n",
    "        \n",
    "        \n",
    "    def getSize(self)->Int:\n",
    "        return self.size\n",
    "    \n",
    "    def isEmpty(self)->bool:\n",
    "        if self.first :\n",
    "            return False\n",
    "        else:\n",
    "            return True\n",
    "    \n",
    "    \n",
    "    \n",
    "    \n",
    "    \n",
    "    \n",
    "        "
   ]
  }
 ],
 "metadata": {
  "kernelspec": {
   "display_name": "Python 3",
   "language": "python",
   "name": "python3"
  },
  "language_info": {
   "codemirror_mode": {
    "name": "ipython",
    "version": 3
   },
   "file_extension": ".py",
   "mimetype": "text/x-python",
   "name": "python",
   "nbconvert_exporter": "python",
   "pygments_lexer": "ipython3",
   "version": "3.9.1"
  }
 },
 "nbformat": 4,
 "nbformat_minor": 5
}
