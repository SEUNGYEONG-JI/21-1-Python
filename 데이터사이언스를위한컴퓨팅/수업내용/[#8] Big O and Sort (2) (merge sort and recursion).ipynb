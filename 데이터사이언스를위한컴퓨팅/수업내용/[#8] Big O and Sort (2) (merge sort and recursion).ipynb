{
 "cells": [
  {
   "cell_type": "markdown",
   "id": "average-freeze",
   "metadata": {},
   "source": [
    "# recursion"
   ]
  },
  {
   "cell_type": "code",
   "execution_count": 1,
   "id": "separated-occasions",
   "metadata": {},
   "outputs": [],
   "source": [
    "def facto(n:int)->int:\n",
    "    if n == 0:\n",
    "        return 1\n",
    "    else:\n",
    "        return n*facto(n-1)"
   ]
  },
  {
   "cell_type": "code",
   "execution_count": 7,
   "id": "grave-program",
   "metadata": {},
   "outputs": [],
   "source": [
    "def fibo(n:int)->int:\n",
    "    if n == 1:\n",
    "        return 1\n",
    "    elif n == 2:\n",
    "        return 1\n",
    "    else:\n",
    "        return fibo(n-1)+fibo(n-2)"
   ]
  },
  {
   "cell_type": "code",
   "execution_count": 9,
   "id": "insured-possible",
   "metadata": {},
   "outputs": [
    {
     "data": {
      "text/plain": [
       "55"
      ]
     },
     "execution_count": 9,
     "metadata": {},
     "output_type": "execute_result"
    }
   ],
   "source": [
    "fibo(10)"
   ]
  },
  {
   "cell_type": "markdown",
   "id": "checked-perfume",
   "metadata": {},
   "source": [
    "# Merge sort"
   ]
  },
  {
   "cell_type": "code",
   "execution_count": 13,
   "id": "subjective-sensitivity",
   "metadata": {},
   "outputs": [],
   "source": [
    "def merge(L:list, start:int, mid:int, end:int):\n",
    "    L1 = L[start:mid+1]\n",
    "    L2 = L[mid+1:end+1]\n",
    "    i=j=0\n",
    "    k = start\n",
    "    \n",
    "    while i < len(L1) and j < len(L2):\n",
    "        if L1[i] <= L2[j]:\n",
    "            L[k] = L1[i]\n",
    "            k += 1\n",
    "            i += 1\n",
    "        else:\n",
    "            L[k] = L2[j]\n",
    "            k += 1\n",
    "            j += 1\n",
    "    if j < len(L2):\n",
    "        L[k:end+1] = L2[j:]\n",
    "    elif i < len(L1):\n",
    "        L[k:end+1] = L1[i:]\n",
    "    \n",
    "\n",
    "def mergesort_help(L:list, start:int, end:int):\n",
    "    if start == end:\n",
    "        return\n",
    "    else:\n",
    "        mid = start +(end-start)//2\n",
    "        mergesort_help(L, start, mid)\n",
    "        mergesort_help(L, mid+1, end)\n",
    "        merge(L,start,mid,end)\n",
    "    \n",
    "def mergesort(L:list)->None:\n",
    "    mergesort_help(L,0,len(L))"
   ]
  },
  {
   "cell_type": "code",
   "execution_count": 14,
   "id": "million-edmonton",
   "metadata": {},
   "outputs": [],
   "source": [
    "L = [1,2,3,3,2,2,2,1,5,15,15,2,42,23,23,23,14,14,24,5,21452,51,232,3]\n",
    "mergesort(L)"
   ]
  },
  {
   "cell_type": "code",
   "execution_count": 15,
   "id": "bacterial-newsletter",
   "metadata": {},
   "outputs": [
    {
     "data": {
      "text/plain": [
       "[1,\n",
       " 1,\n",
       " 2,\n",
       " 2,\n",
       " 2,\n",
       " 2,\n",
       " 2,\n",
       " 3,\n",
       " 3,\n",
       " 3,\n",
       " 5,\n",
       " 5,\n",
       " 14,\n",
       " 14,\n",
       " 15,\n",
       " 15,\n",
       " 23,\n",
       " 23,\n",
       " 23,\n",
       " 24,\n",
       " 42,\n",
       " 51,\n",
       " 232,\n",
       " 21452]"
      ]
     },
     "execution_count": 15,
     "metadata": {},
     "output_type": "execute_result"
    }
   ],
   "source": [
    "L"
   ]
  },
  {
   "cell_type": "code",
   "execution_count": null,
   "id": "electronic-compound",
   "metadata": {},
   "outputs": [],
   "source": []
  }
 ],
 "metadata": {
  "kernelspec": {
   "display_name": "Python 3",
   "language": "python",
   "name": "python3"
  },
  "language_info": {
   "codemirror_mode": {
    "name": "ipython",
    "version": 3
   },
   "file_extension": ".py",
   "mimetype": "text/x-python",
   "name": "python",
   "nbconvert_exporter": "python",
   "pygments_lexer": "ipython3",
   "version": "3.9.1"
  }
 },
 "nbformat": 4,
 "nbformat_minor": 5
}
