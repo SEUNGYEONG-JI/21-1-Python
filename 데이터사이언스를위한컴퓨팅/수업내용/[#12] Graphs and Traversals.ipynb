{
 "cells": [
  {
   "cell_type": "code",
   "execution_count": 75,
   "id": "relevant-discount",
   "metadata": {},
   "outputs": [],
   "source": [
    "from collections import deque\n",
    "class undi_graph():\n",
    "    def __init__(self, V:list, E:list)->None:\n",
    "        self.V = V[:]\n",
    "        self.neighbor = {}\n",
    "        for v in V:\n",
    "            self.neighbor[v] = [v]\n",
    " \n",
    "        for (v,w) in E:\n",
    "            self.neighbor[v].append(w)\n",
    "            self.neighbor[w].append(v)\n",
    "        print(self.neighbor)   \n",
    "    \n",
    "    def __DFTHelp(self, visited:list, v:int)->None:\n",
    "        if not visited[v]:\n",
    "            visited[v] = True\n",
    "            #print(v) #preorder\n",
    "            for w in self.neighbor[v]:\n",
    "                self.__DFTHelp(visited,w)\n",
    "            print(v) #postorder\n",
    "        \n",
    "    def DFT(self) -> None:\n",
    "        if self.V:\n",
    "            visited = {}\n",
    "            for v in self.V:\n",
    "                visited[v] = False\n",
    "            for v in self.V:\n",
    "                self.__DFTHelp(visited, v)\n",
    "    \n",
    "\n",
    "    def BFT(self)->None:\n",
    "        if self.V:\n",
    "            visited = {}\n",
    "            for v in self.V:\n",
    "                visited[v] = False\n",
    "            q = deque([])\n",
    "            for v in self.V:\n",
    "                q.append(v)\n",
    "                while(q):\n",
    "                    cur = q.popleft()\n",
    "                    if not visited[cur]:\n",
    "                        visited[cur] = True\n",
    "                        print(cur)\n",
    "                        for w in self.neighbor[cur]:\n",
    "                            q.append(w)"
   ]
  },
  {
   "cell_type": "code",
   "execution_count": 76,
   "id": "magnetic-accuracy",
   "metadata": {},
   "outputs": [
    {
     "name": "stdout",
     "output_type": "stream",
     "text": [
      "[0, 1, 2, 3, 4, 5, 6, 7, 8, 9]\n"
     ]
    }
   ],
   "source": [
    "vertex = []\n",
    "for i in range(10):\n",
    "    vertex.append(i)\n",
    "print(vertex)\n",
    "edge = [(0,1),(1,4),(1,5),(4,6),(5,6),(6,9),(5,7),(7,8),(2,3)]\n"
   ]
  },
  {
   "cell_type": "code",
   "execution_count": 77,
   "id": "sporting-radical",
   "metadata": {},
   "outputs": [
    {
     "name": "stdout",
     "output_type": "stream",
     "text": [
      "{0: [0, 1], 1: [1, 0, 4, 5], 2: [2, 3], 3: [3, 2], 4: [4, 1, 6], 5: [5, 1, 6, 7], 6: [6, 4, 5, 9], 7: [7, 5, 8], 8: [8, 7], 9: [9, 6]}\n"
     ]
    }
   ],
   "source": [
    "graph = undi_graph(vertex, edge)"
   ]
  },
  {
   "cell_type": "code",
   "execution_count": 78,
   "id": "armed-biology",
   "metadata": {},
   "outputs": [
    {
     "name": "stdout",
     "output_type": "stream",
     "text": [
      "8\n",
      "7\n",
      "5\n",
      "9\n",
      "6\n",
      "4\n",
      "1\n",
      "0\n",
      "3\n",
      "2\n"
     ]
    }
   ],
   "source": [
    "graph.DFT()"
   ]
  },
  {
   "cell_type": "code",
   "execution_count": 79,
   "id": "incorporated-bouquet",
   "metadata": {},
   "outputs": [
    {
     "name": "stdout",
     "output_type": "stream",
     "text": [
      "0\n",
      "1\n",
      "4\n",
      "5\n",
      "6\n",
      "7\n",
      "9\n",
      "8\n",
      "2\n",
      "3\n"
     ]
    }
   ],
   "source": [
    "graph.BFT()"
   ]
  },
  {
   "cell_type": "code",
   "execution_count": null,
   "id": "mental-adobe",
   "metadata": {},
   "outputs": [],
   "source": []
  },
  {
   "cell_type": "code",
   "execution_count": null,
   "id": "every-flesh",
   "metadata": {},
   "outputs": [],
   "source": []
  }
 ],
 "metadata": {
  "kernelspec": {
   "display_name": "Python 3",
   "language": "python",
   "name": "python3"
  },
  "language_info": {
   "codemirror_mode": {
    "name": "ipython",
    "version": 3
   },
   "file_extension": ".py",
   "mimetype": "text/x-python",
   "name": "python",
   "nbconvert_exporter": "python",
   "pygments_lexer": "ipython3",
   "version": "3.9.1"
  }
 },
 "nbformat": 4,
 "nbformat_minor": 5
}
