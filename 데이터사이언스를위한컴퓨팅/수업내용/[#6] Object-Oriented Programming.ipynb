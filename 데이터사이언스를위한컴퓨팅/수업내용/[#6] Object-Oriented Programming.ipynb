{
 "cells": [
  {
   "cell_type": "code",
   "execution_count": 46,
   "id": "express-partnership",
   "metadata": {},
   "outputs": [],
   "source": [
    "class Member:\n",
    "    def __init__(self, name:str, address:str, email:str, DoB:str, affiliation:str)->None:\n",
    "        self.name = name\n",
    "        self.address = address\n",
    "        self.email = email\n",
    "        self.DoB = DoB\n",
    "        self.affiliation = affiliation\n",
    "        self.infoList = [self.name, self.address, self.email, self.DoB, self.affiliation]\n",
    "        \n",
    "    def printinfo(self):\n",
    "        print(self.infoList)\n",
    "        \n",
    "    def switch_affiliation(self, new_affiliation:str):\n",
    "        print(\"Member\", self.name, \"chnages affiliation from\", self.affiliation, \"to\", new_affiliation)\n",
    "        self.affiliation = new_affiliation\n",
    "\n",
    "class Student(Member):\n",
    "    def __init__(self, name:str, address:str, email:str, DoB:str, affiliation:str, student_num:str)->None:\n",
    "        super().__init__(name, address, email, DoB, affiliation)\n",
    "        self.student_num = student_num\n",
    "        self.advisor = \"\"\n",
    "        self.courses_taken = []\n",
    "        self.courses_taking = []\n",
    "        self.GPA = 0\n",
    "        self.infoList += [self.student_num, self.advisor, self.courses_taken, self.courses_taking, self.GPA]\n",
    "        \n",
    "    def switch_affiliation(self, new_affiliation:str):\n",
    "        print(\"Student\", self.name, \"chnages affiliation from\", self.affiliation, \"to\", new_affiliation)\n",
    "        self.affiliation = new_affiliation\n",
    "        \n",
    "        \n",
    "class Faculty(Member):\n",
    "    def __init__(self, name:str, address:str, email:str, DoB:str, affiliation:str, faculty_num:str)->None:\n",
    "        #Reuse parent's init function\n",
    "        super().__init__(name,address,email,DoB,affiliation)\n",
    "        #Faculty-specific init\n",
    "        self.faculty_num = faculty_num\n",
    "        self.advisees = []\n",
    "        self.courses_teaching = []\n",
    "        self.infoList += [self.faculty_num, self.advisees, self.courses_teaching]\n",
    "        \n",
    "    def switch_affiliation(self, new_affiliation:str):\n",
    "        print(\"Faculty\", self.name, \"chnages affiliation from\", self.affiliation, \"to\", new_affiliation)\n",
    "        self.affiliation = new_affiliation"
   ]
  },
  {
   "cell_type": "code",
   "execution_count": 48,
   "id": "assisted-horizontal",
   "metadata": {},
   "outputs": [],
   "source": [
    "a = Member(\"Hyung-Sin Kim\", \"SNU-GSDS\", \"hyungkim@snu.ac.kr\", \"0404\", \"GSDS\")\n",
    "b = Student(\"Keondo Park\",\"SNU-GSDS\", \"kkk@snu.ac.kr\", \"0101\", \"GSDS\", \"2020-11111\")\n",
    "c = Faculty(\"Hyung-Sin Kim\", \"SNU-GSDS\", \"hyungkim@snu.ac.kr\", \"0404\", \"GSDS\", \"A00000\")"
   ]
  },
  {
   "cell_type": "code",
   "execution_count": 28,
   "id": "experimental-training",
   "metadata": {},
   "outputs": [
    {
     "name": "stdout",
     "output_type": "stream",
     "text": [
      "<class '__main__.Member'> <class '__main__.Student'> <class '__main__.Faculty'>\n"
     ]
    }
   ],
   "source": [
    "print(type(a),type(b),type(c))"
   ]
  },
  {
   "cell_type": "code",
   "execution_count": 29,
   "id": "charitable-basic",
   "metadata": {},
   "outputs": [
    {
     "name": "stdout",
     "output_type": "stream",
     "text": [
      "['Hyung-Sin Kim', 'SNU-GSDS', 'hyungkim@snu.ac.kr', '0404', 'GSDS']\n",
      "['Keondo Park', 'SNU-GSDS', 'kkk@snu.ac.kr', '0101', 'GSDS', '2020-11111', '', [], [], 0]\n",
      "['Hyung-Sin Kim', 'SNU-GSDS', 'hyungkim@snu.ac.kr', '0404', 'GSDS', 'A00000', [], []]\n"
     ]
    }
   ],
   "source": [
    "a.printinfo()\n",
    "b.printinfo()\n",
    "c.printinfo()"
   ]
  },
  {
   "cell_type": "code",
   "execution_count": 49,
   "id": "prospective-journalism",
   "metadata": {},
   "outputs": [
    {
     "name": "stdout",
     "output_type": "stream",
     "text": [
      "Member Hyung-Sin Kim chnages affiliation from GSDS to math\n"
     ]
    }
   ],
   "source": [
    "a.switch_affiliation(\"math\")"
   ]
  },
  {
   "cell_type": "code",
   "execution_count": 50,
   "id": "organized-assets",
   "metadata": {},
   "outputs": [
    {
     "name": "stdout",
     "output_type": "stream",
     "text": [
      "Student Keondo Park chnages affiliation from GSDS to math\n"
     ]
    }
   ],
   "source": [
    "b.switch_affiliation(\"math\")"
   ]
  },
  {
   "cell_type": "code",
   "execution_count": 51,
   "id": "blessed-integration",
   "metadata": {},
   "outputs": [
    {
     "name": "stdout",
     "output_type": "stream",
     "text": [
      "Faculty Hyung-Sin Kim chnages affiliation from GSDS to English\n"
     ]
    }
   ],
   "source": [
    "c.switch_affiliation(\"English\")"
   ]
  },
  {
   "cell_type": "code",
   "execution_count": 52,
   "id": "pacific-princeton",
   "metadata": {},
   "outputs": [
    {
     "name": "stdout",
     "output_type": "stream",
     "text": [
      "['Hyung-Sin Kim', 'SNU-GSDS', 'hyungkim@snu.ac.kr', '0404', 'GSDS', 'A00000', [], []]\n"
     ]
    }
   ],
   "source": [
    "c.printinfo()"
   ]
  },
  {
   "cell_type": "markdown",
   "id": "loaded-dollar",
   "metadata": {},
   "source": [
    "# Practice"
   ]
  },
  {
   "cell_type": "code",
   "execution_count": 58,
   "id": "honest-nylon",
   "metadata": {},
   "outputs": [],
   "source": [
    "class Point:\n",
    "    def __init__(self,x,y)->None:\n",
    "        self.x = x\n",
    "        self.y = y\n",
    "        \n",
    "import math\n",
    "\n",
    "class Line:\n",
    "    \n",
    "    def __init__(self, Point1, Point2):\n",
    "        self.Point1 = Point1\n",
    "        self.Point2 = Point2\n",
    "    def slope(self):\n",
    "        return (self.Point2.y-self.Point1.y)/(self.Point2.x - self.Point1.x)\n",
    "    \n",
    "    def length(self):\n",
    "        return math.sqrt((self.Point2.y-self.Point1.y)**2 +(self.Point2.x - self.Point1.x)**2)"
   ]
  },
  {
   "cell_type": "code",
   "execution_count": 59,
   "id": "novel-replication",
   "metadata": {},
   "outputs": [],
   "source": [
    "line = Line(Point(1,1),Point(3,2))"
   ]
  },
  {
   "cell_type": "code",
   "execution_count": 60,
   "id": "indonesian-wallet",
   "metadata": {},
   "outputs": [
    {
     "data": {
      "text/plain": [
       "0.5"
      ]
     },
     "execution_count": 60,
     "metadata": {},
     "output_type": "execute_result"
    }
   ],
   "source": [
    "line.slope()"
   ]
  },
  {
   "cell_type": "code",
   "execution_count": 61,
   "id": "included-woman",
   "metadata": {},
   "outputs": [
    {
     "data": {
      "text/plain": [
       "2.23606797749979"
      ]
     },
     "execution_count": 61,
     "metadata": {},
     "output_type": "execute_result"
    }
   ],
   "source": [
    "line.length()"
   ]
  },
  {
   "cell_type": "code",
   "execution_count": null,
   "id": "unsigned-hepatitis",
   "metadata": {},
   "outputs": [],
   "source": []
  }
 ],
 "metadata": {
  "kernelspec": {
   "display_name": "Python 3",
   "language": "python",
   "name": "python3"
  },
  "language_info": {
   "codemirror_mode": {
    "name": "ipython",
    "version": 3
   },
   "file_extension": ".py",
   "mimetype": "text/x-python",
   "name": "python",
   "nbconvert_exporter": "python",
   "pygments_lexer": "ipython3",
   "version": "3.9.1"
  }
 },
 "nbformat": 4,
 "nbformat_minor": 5
}
