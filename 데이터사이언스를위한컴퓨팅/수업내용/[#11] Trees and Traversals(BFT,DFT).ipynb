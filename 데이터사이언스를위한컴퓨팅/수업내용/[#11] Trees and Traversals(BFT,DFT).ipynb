{
 "cells": [
  {
   "cell_type": "markdown",
   "id": "conservative-savings",
   "metadata": {},
   "source": [
    "# 1. BFT, DFT(pre, in, post order)"
   ]
  },
  {
   "cell_type": "code",
   "execution_count": 6,
   "id": "based-integral",
   "metadata": {},
   "outputs": [],
   "source": [
    "class TreeNode():\n",
    "    def __init__(self, x:int, k:int)->None:\n",
    "        self.val = x\n",
    "        self.arity = k\n",
    "        self.child = [None]*k\n",
    "\n",
    "\n",
    "\n",
    "class Tree():\n",
    "    def visit(self, node: TreeNode):\n",
    "        print(node.val)\n",
    "        \n",
    "    def BFT(self):\n",
    "        if self.root == None:\n",
    "            return None\n",
    "        \n",
    "        q = [self.root]\n",
    "        while q:\n",
    "            curNode = q.pop(0)\n",
    "            self.visit(curNode)\n",
    "            for childNode in curNode.child:\n",
    "                if childNode:\n",
    "                    q.append(childNode)\n",
    "\n",
    "    from collections import deque\n",
    "    def BFT_deque(self):\n",
    "        if self.root == None:\n",
    "            return None\n",
    "        #deque는 dobuly linked list라서 양방향 가능해서 push, pop 더 빠름\n",
    "        q = deque([self.root])\n",
    "        while q:\n",
    "            curNode = q.popleft(0)\n",
    "            self.visit(curNode)\n",
    "            for childNode in curNode.child:\n",
    "                if childNode:\n",
    "                    q.append(childNode)\n",
    "    \n",
    "    def __DFT_preorderHelp(self, curNode: TreeNode):\n",
    "        if curNode == None:\n",
    "            return\n",
    "        self.visit(curNode)\n",
    "        for childNode in curNode.child:\n",
    "            self.__DFT_preorderHelp(childNode)\n",
    "    \n",
    "    def DFT_preorder(self):\n",
    "        self.__DFT_preorderHelp(self.root)\n",
    "        \n",
    "        \n",
    "        \n",
    "    def __DFT_inorderHelp(self, curNode: TreeNode):\n",
    "        if curNode == None:\n",
    "            return\n",
    "        \n",
    "        for i in range(len(curNode.child)):\n",
    "            if i == 1: # usually i = mid, it means mid node 전까지 방문한 후 자신 방문\n",
    "                self.visit(curNode)\n",
    "            else:\n",
    "                self.DFT_inorderHelp(curNode.child[i])\n",
    "        \n",
    "        \n",
    "        \n",
    "    def DFT_inorder(self)\n",
    "        self.DFT_inorderHelp(self.root)\n",
    "        \n",
    "        \n",
    "        \n",
    "    def __DFT_postorderHelp(self, curNode:TreeNode):\n",
    "        #Base case\n",
    "        if curNode == None:\n",
    "            return\n",
    "        \n",
    "        #recursive case  \n",
    "        for i in range(len(curNode.child)):\n",
    "            self.__DFT_postorderHelp(childnode.child[i])     \n",
    "        self.visit(curNode)\n",
    "        \n",
    "        \n",
    "    def DFT_postorder(self):\n",
    "        self.__DFT_postorderHelp(self.root)"
   ]
  },
  {
   "cell_type": "code",
   "execution_count": 7,
   "id": "assigned-publicity",
   "metadata": {},
   "outputs": [
    {
     "data": {
      "text/plain": [
       "5"
      ]
     },
     "execution_count": 7,
     "metadata": {},
     "output_type": "execute_result"
    }
   ],
   "source": [
    "L = [None]*5\n",
    "len(L)"
   ]
  },
  {
   "cell_type": "code",
   "execution_count": null,
   "id": "enabling-temperature",
   "metadata": {},
   "outputs": [],
   "source": []
  },
  {
   "cell_type": "markdown",
   "id": "encouraging-casting",
   "metadata": {},
   "source": [
    "# 2. postorder로 filesize 구하기"
   ]
  },
  {
   "cell_type": "code",
   "execution_count": 9,
   "id": "continuous-knife",
   "metadata": {},
   "outputs": [],
   "source": [
    "class Tree():\n",
    "    def visit(self, node: TreeNode):\n",
    "        return node.val\n",
    "    \n",
    "    def __Help(self,curNode: TreeNode)->float:\n",
    "        ans = 0 \n",
    "        if curNode == None:\n",
    "            return 0\n",
    "        \n",
    "        for childNode in curNode.child:\n",
    "            ans += self.__Help(childnode)\n",
    "        ans += self.visit(curNode)\n",
    "        \n",
    "        return ans\n",
    "    \n",
    "    def postorder_filesize(self):\n",
    "        return __Help(self.foot)\n",
    "        \n"
   ]
  },
  {
   "cell_type": "code",
   "execution_count": null,
   "id": "recognized-despite",
   "metadata": {},
   "outputs": [],
   "source": []
  }
 ],
 "metadata": {
  "kernelspec": {
   "display_name": "Python 3",
   "language": "python",
   "name": "python3"
  },
  "language_info": {
   "codemirror_mode": {
    "name": "ipython",
    "version": 3
   },
   "file_extension": ".py",
   "mimetype": "text/x-python",
   "name": "python",
   "nbconvert_exporter": "python",
   "pygments_lexer": "ipython3",
   "version": "3.9.1"
  }
 },
 "nbformat": 4,
 "nbformat_minor": 5
}
