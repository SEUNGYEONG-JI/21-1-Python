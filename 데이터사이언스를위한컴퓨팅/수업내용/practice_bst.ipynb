{
 "cells": [
  {
   "cell_type": "code",
   "execution_count": 21,
   "id": "grand-rotation",
   "metadata": {},
   "outputs": [],
   "source": [
    "class TreeNode():\n",
    "    def __init__(self, x: int) -> None:\n",
    "        self.val = x\n",
    "        self.left = None\n",
    "        self.right = None\n",
    "\n",
    "class BST():\n",
    "    def __init__(self, root: TreeNode) -> None:\n",
    "        self.root = root\n",
    "    \n",
    "    def __searchHelp(self, curNode: TreeNode, x: int) -> TreeNode:\n",
    "        if curNode == None:\n",
    "            return curNode\n",
    "        if x == curNode.val:\n",
    "            return curNode\n",
    "        if x < curNode.val:\n",
    "            return self.__searchHelp(curNode.left, x)\n",
    "        else:\n",
    "            return self.__searchHelp(curNode.right, x)\n",
    "    \n",
    "    def search(self, x: int) -> TreeNode:\n",
    "        return self.__searchHelp(self.root, x)\n",
    "    \n",
    "    def __insertHelp(self, curNode: TreeNode, x: int) -> TreeNode:\n",
    "        if curNode == None:\n",
    "            return TreeNode(x)\n",
    "        if x < curNode.val:\n",
    "            curNode.left = self.__insertHelp(curNode.left, x)\n",
    "        else:\n",
    "            curNode.right = self.__insertHelp(curNode.right, x)\n",
    "        return curNode\n",
    "    \n",
    "    def insert(self, x: int) -> None:\n",
    "        self.root = self.__insertHelp(self.root, x)\n",
    "    \n",
    "##################from here to bottom, my code#########################    \n",
    "    \n",
    "    def __findleftmax(self, curNode:TreeNode)->TreeNode:\n",
    "        if curNode.right == None:\n",
    "            return curNode\n",
    "        \n",
    "        else:\n",
    "            return self.__findleftmax(curNode.right)\n",
    "            \n",
    "        \n",
    "    \n",
    "    def __deleteHelp(self, curNode : TreeNode, x: int) -> TreeNode:\n",
    "        if curNode == None:\n",
    "            return\n",
    "        \n",
    "        elif curNode.val < x:\n",
    "            curNode.right = self.__deleteHelp(curNode.right,x)\n",
    "        elif curNode.val > x:\n",
    "            curNode.left = self.__deleteHelp(curNode.left,x)\n",
    "            \n",
    "        elif curNode.val == x:\n",
    "            #1. no child\n",
    "            if curNode.left == None and curNode.right == None:\n",
    "                return None\n",
    "            \n",
    "            #2. one child\n",
    "            elif (curNode.left == None) and (curNode.right):\n",
    "                return curNode.right\n",
    "            \n",
    "            elif (curNode.left) and (curNode.right == None):\n",
    "                return curNode.left\n",
    "            \n",
    "            #3. two child case\n",
    "            else: #curNode.left and curNode.right :\n",
    "                newval = self.__findleftmax(curNode.left).val\n",
    "                self.__deleteHelp(curNode.left, newval)\n",
    "                curNode.val = newval\n",
    "                return curNode\n",
    "            \n",
    "    \n",
    "    def delete(self, x: int) -> None:\n",
    "        # Your code\n",
    "        self.__deleteHelp(self.root, x)\n",
    "        "
   ]
  },
  {
   "cell_type": "code",
   "execution_count": 22,
   "id": "provincial-devil",
   "metadata": {},
   "outputs": [],
   "source": [
    "tree1 = TreeNode(1)\n",
    "tree2 = TreeNode(2)\n",
    "tree3 = TreeNode(3)\n",
    "tree4 = TreeNode(4)\n",
    "tree5 = TreeNode(5)\n",
    "tree6 = TreeNode(6)\n",
    "tree7 = TreeNode(7)\n",
    "\n",
    "tree4.left  = tree2\n",
    "tree4.right = tree6\n",
    "\n",
    "tree2.left  = tree1\n",
    "tree2.right = tree3\n",
    "\n",
    "tree6.left  = tree5\n",
    "tree6.right = tree7"
   ]
  },
  {
   "cell_type": "code",
   "execution_count": 23,
   "id": "developing-hearing",
   "metadata": {},
   "outputs": [
    {
     "name": "stdout",
     "output_type": "stream",
     "text": [
      "7\n"
     ]
    }
   ],
   "source": [
    "myTree = BST(tree4)\n",
    "ans = myTree.search(7)\n",
    "if ans:\n",
    "    print(ans.val)\n",
    "else:\n",
    "    print(None)\n",
    "myTree.delete(4)"
   ]
  },
  {
   "cell_type": "code",
   "execution_count": 24,
   "id": "colored-animal",
   "metadata": {},
   "outputs": [
    {
     "data": {
      "text/plain": [
       "3"
      ]
     },
     "execution_count": 24,
     "metadata": {},
     "output_type": "execute_result"
    }
   ],
   "source": [
    "myTree.root.val"
   ]
  },
  {
   "cell_type": "code",
   "execution_count": null,
   "id": "accredited-closer",
   "metadata": {},
   "outputs": [],
   "source": []
  }
 ],
 "metadata": {
  "kernelspec": {
   "display_name": "Python 3",
   "language": "python",
   "name": "python3"
  },
  "language_info": {
   "codemirror_mode": {
    "name": "ipython",
    "version": 3
   },
   "file_extension": ".py",
   "mimetype": "text/x-python",
   "name": "python",
   "nbconvert_exporter": "python",
   "pygments_lexer": "ipython3",
   "version": "3.9.1"
  }
 },
 "nbformat": 4,
 "nbformat_minor": 5
}
