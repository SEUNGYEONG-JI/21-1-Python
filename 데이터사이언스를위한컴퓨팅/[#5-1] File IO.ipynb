{
 "cells": [
  {
   "cell_type": "markdown",
   "id": "anonymous-jungle",
   "metadata": {},
   "source": [
    "# Tuple 단 원소로 만들 때 , 넣기"
   ]
  },
  {
   "cell_type": "code",
   "execution_count": 11,
   "id": "important-twins",
   "metadata": {},
   "outputs": [
    {
     "data": {
      "text/plain": [
       "tuple"
      ]
     },
     "execution_count": 11,
     "metadata": {},
     "output_type": "execute_result"
    }
   ],
   "source": [
    "tupl = ()\n",
    "type(tupl)"
   ]
  },
  {
   "cell_type": "code",
   "execution_count": 12,
   "id": "progressive-benjamin",
   "metadata": {},
   "outputs": [
    {
     "data": {
      "text/plain": [
       "int"
      ]
     },
     "execution_count": 12,
     "metadata": {},
     "output_type": "execute_result"
    }
   ],
   "source": [
    "tupl = (1)\n",
    "type(tupl)"
   ]
  },
  {
   "cell_type": "code",
   "execution_count": 13,
   "id": "heard-relation",
   "metadata": {},
   "outputs": [
    {
     "data": {
      "text/plain": [
       "tuple"
      ]
     },
     "execution_count": 13,
     "metadata": {},
     "output_type": "execute_result"
    }
   ],
   "source": [
    "tupl = (1,)\n",
    "type(tupl)"
   ]
  },
  {
   "cell_type": "markdown",
   "id": "polished-clause",
   "metadata": {},
   "source": [
    "#  File IO"
   ]
  },
  {
   "cell_type": "markdown",
   "id": "sixth-madness",
   "metadata": {},
   "source": [
    "### with open() as file, os.getcwd()"
   ]
  },
  {
   "cell_type": "code",
   "execution_count": 18,
   "id": "functional-sunset",
   "metadata": {},
   "outputs": [
    {
     "name": "stdout",
     "output_type": "stream",
     "text": [
      "First line of text\n",
      "Second line of text\n",
      "Third line of text\n"
     ]
    }
   ],
   "source": [
    "file = open('file_example.txt', 'r') #open a file for reading\n",
    "contents = file.read() #reading the whole content as a string\n",
    "file.close() #close the file\n",
    "print(contents)"
   ]
  },
  {
   "cell_type": "code",
   "execution_count": 21,
   "id": "political-success",
   "metadata": {},
   "outputs": [
    {
     "data": {
      "text/plain": [
       "'First line of text\\nSecond line of text\\nThird line of text'"
      ]
     },
     "execution_count": 21,
     "metadata": {},
     "output_type": "execute_result"
    }
   ],
   "source": [
    "contents"
   ]
  },
  {
   "cell_type": "code",
   "execution_count": 37,
   "id": "fossil-composition",
   "metadata": {},
   "outputs": [
    {
     "name": "stdout",
     "output_type": "stream",
     "text": [
      "First line of text\n",
      "Second line of text\n",
      "Third line of text\n"
     ]
    }
   ],
   "source": [
    "with open('file_example.txt', 'r') as file:\n",
    "    contents = file.read()\n",
    "print(contents)\n"
   ]
  },
  {
   "cell_type": "code",
   "execution_count": 1,
   "id": "extra-guard",
   "metadata": {},
   "outputs": [
    {
     "data": {
      "text/plain": [
       "'G:\\\\내 드라이브\\\\21-1\\\\데이터사이언스를 위한 컴퓨팅\\\\coding'"
      ]
     },
     "execution_count": 1,
     "metadata": {},
     "output_type": "execute_result"
    }
   ],
   "source": [
    "import os\n",
    "os.getcwd()"
   ]
  },
  {
   "cell_type": "code",
   "execution_count": 46,
   "id": "korean-concord",
   "metadata": {},
   "outputs": [],
   "source": [
    "os.chdir(\"G:/내 드라이브/21-1/데이터사이언스를 위한 컴퓨팅/coding\")"
   ]
  },
  {
   "cell_type": "code",
   "execution_count": 30,
   "id": "checked-italy",
   "metadata": {},
   "outputs": [],
   "source": [
    "os.chdir(\"foo\")"
   ]
  },
  {
   "cell_type": "code",
   "execution_count": 47,
   "id": "neither-provincial",
   "metadata": {},
   "outputs": [
    {
     "data": {
      "text/plain": [
       "'G:\\\\내 드라이브\\\\21-1\\\\데이터사이언스를 위한 컴퓨팅\\\\coding'"
      ]
     },
     "execution_count": 47,
     "metadata": {},
     "output_type": "execute_result"
    }
   ],
   "source": [
    "os.getcwd()"
   ]
  },
  {
   "cell_type": "code",
   "execution_count": 55,
   "id": "latter-count",
   "metadata": {},
   "outputs": [],
   "source": [
    "os.chdir('..')"
   ]
  },
  {
   "cell_type": "code",
   "execution_count": 56,
   "id": "diverse-drinking",
   "metadata": {},
   "outputs": [
    {
     "data": {
      "text/plain": [
       "'G:\\\\'"
      ]
     },
     "execution_count": 56,
     "metadata": {},
     "output_type": "execute_result"
    }
   ],
   "source": [
    "os.getcwd()"
   ]
  },
  {
   "cell_type": "code",
   "execution_count": 57,
   "id": "still-mission",
   "metadata": {},
   "outputs": [
    {
     "ename": "FileNotFoundError",
     "evalue": "[Errno 2] No such file or directory: 'test.txt'",
     "output_type": "error",
     "traceback": [
      "\u001b[1;31m---------------------------------------------------------------------------\u001b[0m",
      "\u001b[1;31mFileNotFoundError\u001b[0m                         Traceback (most recent call last)",
      "\u001b[1;32m<ipython-input-57-93a3e4d48d27>\u001b[0m in \u001b[0;36m<module>\u001b[1;34m\u001b[0m\n\u001b[1;32m----> 1\u001b[1;33m \u001b[1;32mwith\u001b[0m \u001b[0mopen\u001b[0m\u001b[1;33m(\u001b[0m\u001b[1;34m'test.txt'\u001b[0m\u001b[1;33m,\u001b[0m\u001b[1;34m'w'\u001b[0m\u001b[1;33m)\u001b[0m \u001b[1;32mas\u001b[0m \u001b[0mfile\u001b[0m\u001b[1;33m:\u001b[0m\u001b[1;33m\u001b[0m\u001b[1;33m\u001b[0m\u001b[0m\n\u001b[0m\u001b[0;32m      2\u001b[0m     \u001b[0mfile\u001b[0m\u001b[1;33m.\u001b[0m\u001b[0mwrite\u001b[0m\u001b[1;33m(\u001b[0m\u001b[1;34m\"hello this is my test of current working directory\"\u001b[0m\u001b[1;33m)\u001b[0m\u001b[1;33m\u001b[0m\u001b[1;33m\u001b[0m\u001b[0m\n",
      "\u001b[1;31mFileNotFoundError\u001b[0m: [Errno 2] No such file or directory: 'test.txt'"
     ]
    }
   ],
   "source": [
    "with open('test.txt','w') as file:\n",
    "    file.write(\"hello this is my test of current working directory\")"
   ]
  },
  {
   "cell_type": "markdown",
   "id": "acceptable-sugar",
   "metadata": {},
   "source": [
    "### read() 옵션들 "
   ]
  },
  {
   "cell_type": "code",
   "execution_count": 40,
   "id": "graphic-thumb",
   "metadata": {},
   "outputs": [
    {
     "name": "stdout",
     "output_type": "stream",
     "text": [
      "First line of text\n",
      "\n",
      "Second line of text\n",
      "\n",
      "Third line of text\n"
     ]
    }
   ],
   "source": [
    "with open('file_example.txt', 'r') as file:\n",
    "    for line in file:\n",
    "        print(line)"
   ]
  },
  {
   "cell_type": "code",
   "execution_count": 46,
   "id": "senior-director",
   "metadata": {},
   "outputs": [],
   "source": [
    "import urllib.request\n",
    "url = \"https://robjhyndman.com/tsdldata/ecology1/hopedale.dat\"\n",
    "with urllib.request.urlopen(url) as file:\n",
    "    for line in file:\n",
    "        line = line.strip()\n",
    "        line = line.decode(\"utf-8\") #byte type 을 string으로 바꿔줌\n",
    "        #print(line)"
   ]
  },
  {
   "cell_type": "code",
   "execution_count": 54,
   "id": "official-northwest",
   "metadata": {},
   "outputs": [
    {
     "name": "stdout",
     "output_type": "stream",
     "text": [
      "Inhoe 2021-1111 A+\n",
      "\n",
      "Jaewook 2021-2222 A+\n",
      "\n"
     ]
    }
   ],
   "source": [
    "from typing import TextIO\n",
    "\n",
    "def skip_header(input_file: TextIO)-> None:\n",
    "    line = input_file.readline()\n",
    "    while line.startswith('#'):\n",
    "        line = input_file.readline()\n",
    "    return line # 유용한 첫 번째 줄을 삭제 안하기 위해서\n",
    "\n",
    "def process_file(input_file: TextIO)->None:\n",
    "    line = skip_header(input_file)\n",
    "    \n",
    "    #Do something useful\n",
    "    print(line)\n",
    "    contents = input_file.read()\n",
    "    print(contents)\n",
    "    \n",
    "\n",
    "with open(\"file_example2.txt\", 'r') as students:\n",
    "    process_file(students)"
   ]
  },
  {
   "cell_type": "markdown",
   "id": "fluid-package",
   "metadata": {},
   "source": [
    "### strip(), split()"
   ]
  },
  {
   "cell_type": "markdown",
   "id": "medium-wheel",
   "metadata": {},
   "source": [
    "### writhing, appending"
   ]
  },
  {
   "cell_type": "code",
   "execution_count": 41,
   "id": "military-commander",
   "metadata": {},
   "outputs": [],
   "source": [
    "with open(\"output2.txt\",'w') as output_file:\n",
    "    output_file.write(\"cccccc\") #parlai"
   ]
  },
  {
   "cell_type": "code",
   "execution_count": 65,
   "id": "leading-institution",
   "metadata": {},
   "outputs": [],
   "source": [
    "with open(\"output.txt\",'a') as output_file:\n",
    "    output_file.write(\"\\nComputing Foundations \\tfor Data Science\")"
   ]
  },
  {
   "cell_type": "markdown",
   "id": "southeast-camping",
   "metadata": {},
   "source": [
    "# HW"
   ]
  },
  {
   "cell_type": "markdown",
   "id": "direct-custody",
   "metadata": {},
   "source": [
    "#Annual Number of Lynx Trapped, MacKenzie River, 1821-1934\n",
    "#Original Source: Elton, C. and Nicholson, M. (1942)\n",
    "#\"The ten year cycle in numbers of Canadian lynx\",\n",
    "#J. Animal Ecology, Vol. 11, 215--244.\n",
    "#This is the famous data set which has been listed before in\n",
    "#various publications:\n",
    "#Cambell, M.J. and Walker, A.M. (1977) \"A survey of statistical work on\n",
    "#the MacKenzie River series of annual Canadian lynx trappings for the years\n",
    "#1821-1934 with a new analysis\", J.Roy.Statistical Soc. A 140, 432--436.\n",
    "\n",
    "  269.  321.  585.  871. 1475. 2821. 3928. # 5943. 4950. 2577.  523.   98.  These numbers are not valid\n",
    "  184.  279.  409. 2285. 2685. 3409. 1824.  409.  151.   45.   68.  213.        \n",
    "  546. 1033. 2129. 2536.  957.  361.  377.  225.  360.  731. 1638. 2725.        \n",
    " 2871. 2119.  684.  299.  236.  245.  552. 1623. 3311. 6721. 4245.  687.        \n",
    "#### This is a break line\n",
    "  255.  473.  358.  784. 1594. 1676. 2251. 1426.  756.  299.  201.  229.        \n",
    "  469.  736. 2042. 2811. 4431. 2511.  389. 73.   39.   49.   59.  188. \n",
    "  377. 1292. 4031. 3495.  587.  105.  153.  387.  758. 1307. # 3465. 6991. These numbers are not valid       \n",
    " 6313. 3794. 1836.  345.  382.  808. 1388. 2713. 3800. 3091. 2985. 3790.        \n",
    "  674.   81.   80.  108.  229.  399. 1132. 2432. 3574. 2935. 1537.  529.        \n",
    "  485.  662. 1000. 1590. 2657. 3396.              \n",
    " "
   ]
  },
  {
   "cell_type": "markdown",
   "id": "experimental-spouse",
   "metadata": {},
   "source": [
    "# Find maximum in this file"
   ]
  },
  {
   "cell_type": "code",
   "execution_count": 89,
   "id": "administrative-sugar",
   "metadata": {},
   "outputs": [],
   "source": [
    "with open('file_practice.txt','r') as file_input:\n",
    "    L = []\n",
    "    line = file_input.readline()\n",
    "    while line.startswith('#'):\n",
    "        line = file_input.readline()\n",
    "    \n",
    "    while line:\n",
    "        line = file_input.readline()\n",
    "        line = line.strip()\n",
    "        L.append(line.split('#')[0])\n",
    "        \n",
    "    contents = []\n",
    "    for line in L:\n",
    "        contents.append(line.split('\\n')[0])\n",
    "    \n",
    "    contents_final = []\n",
    "    for line in contents:\n",
    "        contents_final.extend(line.split('.'))\n",
    "    L1 = []\n",
    "    for val in contents_final:\n",
    "        val = val.strip()\n",
    "        if len(val) >0:\n",
    "            L1.append(int(val))\n",
    "           \n",
    "    "
   ]
  },
  {
   "cell_type": "code",
   "execution_count": 10,
   "id": "imperial-instrument",
   "metadata": {},
   "outputs": [],
   "source": [
    "with open(\"file_practice.txt\",'r') as input_file:\n",
    "    L = []\n",
    "    for line in input_file:\n",
    "        if line.startswith('#'):\n",
    "            continue\n",
    "        \n",
    "        val_line = line.split('#')[0].strip()\n",
    "            \n",
    "        val_num_str = val_line.split('.')\n",
    "            \n",
    "        for num_str in val_num_str:\n",
    "            if num_str:\n",
    "                num = int(num_str.strip())\n",
    "                L.append(num)"
   ]
  },
  {
   "cell_type": "code",
   "execution_count": 16,
   "id": "regulated-worship",
   "metadata": {},
   "outputs": [
    {
     "name": "stdout",
     "output_type": "stream",
     "text": [
      "6721\n"
     ]
    }
   ],
   "source": [
    "from typing import TextIO\n",
    "def process_file(input_file:TextIO)->int:\n",
    "    answer = 0\n",
    "    #1) ignore not valid lines\n",
    "    for line in input_file:\n",
    "        if line.startswith('#'):\n",
    "            continue\n",
    "    \n",
    "        #2) get valid lines\n",
    "        valid_line_str = line.split('#')[0].strip()\n",
    "    \n",
    "        #3) get valid num as str in List (here : empty '' is in the last of the list)\n",
    "        valid_num_str = valid_line_str.split('.')\n",
    "    \n",
    "        #4) get valid num as int\n",
    "        for num_str in valid_num_str:\n",
    "            if num_str:\n",
    "                num = int(num_str.strip())\n",
    "                if num> answer:\n",
    "                    answer = num\n",
    "    \n",
    "    return answer\n",
    "\n",
    "\n",
    "with open(\"file_practice.txt\",'r') as input_file:\n",
    "    answer = process_file(input_file)\n",
    "    print(answer)"
   ]
  },
  {
   "cell_type": "code",
   "execution_count": null,
   "id": "active-casino",
   "metadata": {},
   "outputs": [],
   "source": []
  }
 ],
 "metadata": {
  "kernelspec": {
   "display_name": "Python 3",
   "language": "python",
   "name": "python3"
  },
  "language_info": {
   "codemirror_mode": {
    "name": "ipython",
    "version": 3
   },
   "file_extension": ".py",
   "mimetype": "text/x-python",
   "name": "python",
   "nbconvert_exporter": "python",
   "pygments_lexer": "ipython3",
   "version": "3.9.1"
  }
 },
 "nbformat": 4,
 "nbformat_minor": 5
}
