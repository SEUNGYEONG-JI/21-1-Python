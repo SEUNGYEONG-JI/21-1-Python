{
 "cells": [
  {
   "cell_type": "markdown",
   "metadata": {},
   "source": [
    "# 1\n",
    "**Instruction**\n",
    "<Rock, scissors, paper>\n",
    "Input of P1 function is a list of games of Rock/Scissors/Paper of 3 players\n",
    "Each element of the input list is a list \n",
    "for which 1st element is player 1's choice, 2nd element is player 2's choice and 3rd element is player 3's choice.\n",
    "Each player's choice is one of 'R','S' and 'P'(R stands for rock, S for scissors, P for paper)\n",
    "Example of input list is as following:\n",
    "[['R','S','S'], ['R','R','P'], ['S','P','R']]\n",
    "\n",
    "Complete P1 function that returns the number of of player 1's wins \n",
    "- Assume 'R' wins 'S', 'S' wins 'P', 'P' wins 'R'.\n",
    "- If there are more than 1 winners and player 1 is one of the winners, it is counted as win. For example, ['P','R','P'] is win\n",
    "- If the choice of players are all different, it is \"Draw\". For example, ['S','P','R'] is \"Draw\"\n",
    "- If the choice of players are all same, it is also \"Draw\"\n",
    "\n",
    "#>>> P1([['R','S','S'], ['R','R','P'], ['S','P','R']]) # It is win-lose-draw\n",
    "1\n",
    "\n",
    "#>>> P1([['R', 'S', 'P'],['R', 'R', 'S'],['S', 'P', 'P']]) # It is draw-win-win\n",
    "2\n",
    "\n",
    "#>>> P1([['S', 'P', 'R'],['P', 'P', 'P'],['P', 'R', 'R'],['R', 'R', 'S'],['R', 'S', 'R']]) # It is draw-draw-win-win-win\n",
    "3\n"
   ]
  },
  {
   "cell_type": "code",
   "execution_count": 3,
   "metadata": {},
   "outputs": [],
   "source": [
    "def P1(game: list) -> int:        \n",
    "    count = 0\n",
    "    for i in range(len(game)):\n",
    "        other = {game[i][1],game[i][2]}\n",
    "        if (game[i][0] == 'R') and ('S' in other) and (other <={'R','S'}):\n",
    "            count +=1\n",
    "    \n",
    "        elif (game[i][0] == 'S') and ('P' in other) and (other <={'S','P'}):\n",
    "            count +=1  \n",
    "    \n",
    "        elif (game[i][0] == 'P') and ('R' in other) and (other <={'P','R'}):\n",
    "            count +=1\n",
    "\n",
    "    return count\n"
   ]
  },
  {
   "cell_type": "code",
   "execution_count": 4,
   "metadata": {},
   "outputs": [
    {
     "data": {
      "text/plain": [
       "1"
      ]
     },
     "execution_count": 4,
     "metadata": {},
     "output_type": "execute_result"
    }
   ],
   "source": [
    "P1([['R','S','S'], ['R','R','P'], ['S','P','R']])"
   ]
  },
  {
   "cell_type": "code",
   "execution_count": 5,
   "metadata": {},
   "outputs": [
    {
     "data": {
      "text/plain": [
       "2"
      ]
     },
     "execution_count": 5,
     "metadata": {},
     "output_type": "execute_result"
    }
   ],
   "source": [
    "P1([['R', 'S', 'P'],['R', 'R', 'S'],['S', 'P', 'P']])"
   ]
  },
  {
   "cell_type": "code",
   "execution_count": 6,
   "metadata": {},
   "outputs": [
    {
     "data": {
      "text/plain": [
       "3"
      ]
     },
     "execution_count": 6,
     "metadata": {},
     "output_type": "execute_result"
    }
   ],
   "source": [
    " P1([['S', 'P', 'R'],['P', 'P', 'P'],['P', 'R', 'R'],['R', 'R', 'S'],['R', 'S', 'R']])"
   ]
  },
  {
   "cell_type": "markdown",
   "metadata": {},
   "source": [
    "# 2\n",
    "**Instruction**\n",
    "<Factor into two prime numbers>\n",
    "Input of P2 function is natural number.\n",
    "P2 function returns whether the input nubmer could be factored into two prime numbers.\n",
    "Do not worry about invalid input.\n",
    "\n",
    "#>>> P2(6) #2 * 3\n",
    "True\n",
    "\n",
    "#>>> P2(9) #3 * 3\n",
    "True\n",
    "\n",
    "#>>> P2(12) # 2 * 2 * 3\n",
    "False\n",
    "\n",
    "#>>> P2(7) # 7\n",
    "False"
   ]
  },
  {
   "cell_type": "code",
   "execution_count": 57,
   "metadata": {},
   "outputs": [],
   "source": [
    "def is_prime(n:int)->bool:\n",
    "    if n == 1:\n",
    "        return False\n",
    "\n",
    "    elif n>=2:\n",
    "        i = 2\n",
    "        while n/i != n//i:\n",
    "            i+=1\n",
    "        if i == n:\n",
    "            return True\n",
    "        else:\n",
    "            return False\n",
    "\n",
    "\n",
    "def P2(n:int) -> bool:        \n",
    "    if n <= 2:\n",
    "        return False\n",
    "    \n",
    "    elif n>=3:\n",
    "        for i in range(2,n+1):\n",
    "            if n//i == n/i:\n",
    "                j = n/i\n",
    "                if is_prime(i) and is_prime(j):\n",
    "                    return True\n",
    "                else:\n",
    "                    return False\n",
    "            \n"
   ]
  },
  {
   "cell_type": "code",
   "execution_count": 62,
   "metadata": {},
   "outputs": [
    {
     "data": {
      "text/plain": [
       "True"
      ]
     },
     "execution_count": 62,
     "metadata": {},
     "output_type": "execute_result"
    }
   ],
   "source": [
    "P2(6)"
   ]
  },
  {
   "cell_type": "code",
   "execution_count": 63,
   "metadata": {},
   "outputs": [
    {
     "data": {
      "text/plain": [
       "True"
      ]
     },
     "execution_count": 63,
     "metadata": {},
     "output_type": "execute_result"
    }
   ],
   "source": [
    " P2(9)"
   ]
  },
  {
   "cell_type": "code",
   "execution_count": 64,
   "metadata": {},
   "outputs": [
    {
     "data": {
      "text/plain": [
       "False"
      ]
     },
     "execution_count": 64,
     "metadata": {},
     "output_type": "execute_result"
    }
   ],
   "source": [
    " P2(12)"
   ]
  },
  {
   "cell_type": "code",
   "execution_count": 58,
   "metadata": {},
   "outputs": [
    {
     "data": {
      "text/plain": [
       "False"
      ]
     },
     "execution_count": 58,
     "metadata": {},
     "output_type": "execute_result"
    }
   ],
   "source": [
    "P2(5)"
   ]
  },
  {
   "cell_type": "markdown",
   "metadata": {},
   "source": [
    "# 3\n",
    "**Instruction**\n",
    "<Social security number>\n",
    "Korean social security number is composed in this way\n",
    "First 6 digits indicate the birth year/month/day. When birth day is 1994/05/30 -> First 6 digits are 940530\n",
    "7th digit indicate the sex of the person. Male gets 1 or 3 and female gets 2 or 4.\n",
    "If the preson is born before year 2000, he or she receives 1 or 2, respectively\n",
    "If the person is born after yera 2000(inclusive), he or she receives 3 or 4 respectively.\n",
    "\n",
    "Complete P3 function for which input is the person's info and returns the first 7 digits of Korean social security number as string\n",
    "- Input is a list of form [str sex, int birth_year, int birth_month, int birth_day]\n",
    "- sex is either 'MALE' or 'FEMALE'\n",
    "- Input does not include invalid dates(e.g. don't worry about 2021-02-29, 1998-04-31, 2007-13-01 etc)\n",
    "\n",
    "#>>> P3(['MALE', 1996, 10, 30])\n",
    "'9610301'\n",
    "\n",
    "#>>> P3(['FEMALE', 2000, 1, 2])\n",
    "'0001024'\n",
    "\n",
    "#>>> P3(['FEMALE', 2021, 3, 28])\n",
    "'2103284'"
   ]
  },
  {
   "cell_type": "code",
   "execution_count": 87,
   "metadata": {},
   "outputs": [],
   "source": [
    "def P3(info:list) -> str:        \n",
    "    \n",
    "    #first and second digits\n",
    "    num12 = info[1]%100\n",
    "    \n",
    "    if num12 >=10:\n",
    "        num12 = str(num12)\n",
    "    elif num12 < 10:\n",
    "        num12 = '0'+str(num12)\n",
    "                \n",
    "    \n",
    "    #third and forth digits\n",
    "    if info[2] <10:\n",
    "        num34 = '0' + str(info[2])\n",
    "    elif info[2] >= 10:\n",
    "        num34 = str(info[2])\n",
    "        \n",
    "    #fifth and sixth digits\n",
    "    if info[3] <10:\n",
    "        num56 = '0' + str(info[3])\n",
    "    elif info[3] >= 10:\n",
    "        num56 = str(info[3])\n",
    "        \n",
    "    #seventh digit\n",
    "    if info[1] < 2000:\n",
    "        if info[0] == 'MALE':\n",
    "            num7 = '1'\n",
    "        elif info[0] == 'FEMALE':\n",
    "            num7 = '2'\n",
    "    elif info[1] >= 2000:\n",
    "        if info[0] == 'MALE':\n",
    "            num7 = '3'\n",
    "        elif info[0] == 'FEMALE':\n",
    "            num7 = '4'    \n",
    "    \n",
    "    return num12+num34+num56+num7\n"
   ]
  },
  {
   "cell_type": "code",
   "execution_count": 88,
   "metadata": {},
   "outputs": [
    {
     "data": {
      "text/plain": [
       "'9610301'"
      ]
     },
     "execution_count": 88,
     "metadata": {},
     "output_type": "execute_result"
    }
   ],
   "source": [
    " P3(['MALE', 1996, 10, 30])"
   ]
  },
  {
   "cell_type": "code",
   "execution_count": 89,
   "metadata": {},
   "outputs": [
    {
     "data": {
      "text/plain": [
       "'0001024'"
      ]
     },
     "execution_count": 89,
     "metadata": {},
     "output_type": "execute_result"
    }
   ],
   "source": [
    "P3(['FEMALE', 2000, 1, 2])"
   ]
  },
  {
   "cell_type": "code",
   "execution_count": 90,
   "metadata": {},
   "outputs": [
    {
     "data": {
      "text/plain": [
       "'2103284'"
      ]
     },
     "execution_count": 90,
     "metadata": {},
     "output_type": "execute_result"
    }
   ],
   "source": [
    "P3(['FEMALE', 2021, 3, 28])"
   ]
  },
  {
   "cell_type": "code",
   "execution_count": 91,
   "metadata": {},
   "outputs": [
    {
     "data": {
      "text/plain": [
       "'2103283'"
      ]
     },
     "execution_count": 91,
     "metadata": {},
     "output_type": "execute_result"
    }
   ],
   "source": [
    "P3(['MALE', 2021, 3, 28])"
   ]
  },
  {
   "cell_type": "code",
   "execution_count": null,
   "metadata": {},
   "outputs": [],
   "source": []
  }
 ],
 "metadata": {
  "kernelspec": {
   "display_name": "Python 3",
   "language": "python",
   "name": "python3"
  },
  "language_info": {
   "codemirror_mode": {
    "name": "ipython",
    "version": 3
   },
   "file_extension": ".py",
   "mimetype": "text/x-python",
   "name": "python",
   "nbconvert_exporter": "python",
   "pygments_lexer": "ipython3",
   "version": "3.9.1"
  }
 },
 "nbformat": 4,
 "nbformat_minor": 4
}
