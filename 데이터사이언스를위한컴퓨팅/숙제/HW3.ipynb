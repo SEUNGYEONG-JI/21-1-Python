{
 "cells": [
  {
   "cell_type": "markdown",
   "metadata": {},
   "source": [
    "# 1"
   ]
  },
  {
   "cell_type": "code",
   "execution_count": 3,
   "metadata": {},
   "outputs": [
    {
     "data": {
      "text/plain": [
       "False"
      ]
     },
     "execution_count": 3,
     "metadata": {},
     "output_type": "execute_result"
    }
   ],
   "source": [
    "from P1 import P1\n",
    "P1([1,1,1,1,2])"
   ]
  },
  {
   "cell_type": "markdown",
   "metadata": {},
   "source": [
    "# 2"
   ]
  },
  {
   "cell_type": "code",
   "execution_count": 4,
   "metadata": {},
   "outputs": [],
   "source": [
    "def P2(L1: list, L2: list) -> bool:\n",
    "    if len(L1) > len(L2):\n",
    "        return True\n",
    "    else:\n",
    "        return False"
   ]
  },
  {
   "cell_type": "code",
   "execution_count": 6,
   "metadata": {},
   "outputs": [
    {
     "data": {
      "text/plain": [
       "False"
      ]
     },
     "execution_count": 6,
     "metadata": {},
     "output_type": "execute_result"
    }
   ],
   "source": [
    "from P2 import P2\n",
    "P2([1,1,1,1,1],[2,2,2,2,2,2,2])"
   ]
  },
  {
   "cell_type": "markdown",
   "metadata": {},
   "source": [
    "# 3"
   ]
  },
  {
   "cell_type": "code",
   "execution_count": 7,
   "metadata": {},
   "outputs": [],
   "source": [
    "def P3(L1: list) -> list:\n",
    "    ##### Write your Code Here #####\n",
    "    result = []\n",
    "    for i in L1:\n",
    "        result.append(i+1)\n",
    "\n",
    "\n",
    "    return result\n",
    "    ##### End of your code #####"
   ]
  },
  {
   "cell_type": "code",
   "execution_count": 8,
   "metadata": {},
   "outputs": [
    {
     "data": {
      "text/plain": [
       "[6, 5, 8, 4, 3, 4, 3, 7, 5, 3, 2, 8, 2, 4]"
      ]
     },
     "execution_count": 8,
     "metadata": {},
     "output_type": "execute_result"
    }
   ],
   "source": [
    "from P3 import P3\n",
    "P3([5, 4, 7, 3, 2, 3, 2, 6, 4, 2, 1, 7, 1, 3])"
   ]
  },
  {
   "cell_type": "code",
   "execution_count": 9,
   "metadata": {},
   "outputs": [
    {
     "data": {
      "text/plain": [
       "[2, 2, 2]"
      ]
     },
     "execution_count": 9,
     "metadata": {},
     "output_type": "execute_result"
    }
   ],
   "source": [
    "P3([1,1,1])"
   ]
  },
  {
   "cell_type": "markdown",
   "metadata": {},
   "source": [
    "# 4\n",
    "**Instruction**\n",
    "Inputs are two integers start_i, end_i. (start_i < end_i)\n",
    "This function sums all integers between start_i and end_i(both inclusive), \n",
    "then calculate average of these integers using loop.\n",
    "Complete P4 function. \n",
    "\n",
    "P4(2, 22)\n",
    "12\n",
    "\n",
    "P4(0, 100)\n",
    "50"
   ]
  },
  {
   "cell_type": "code",
   "execution_count": 10,
   "metadata": {},
   "outputs": [],
   "source": [
    "def P4(start_i: int, end_i: int) -> float:\n",
    "    ##### Write your Code Here #####\n",
    "    result = 0\n",
    "    for num in range(start_i,end_i+1):\n",
    "        result += num\n",
    "    result = result/(end_i-start_i+1)\n",
    "    return result\n",
    "    \n",
    "    ##### End of your code #####"
   ]
  },
  {
   "cell_type": "code",
   "execution_count": 12,
   "metadata": {},
   "outputs": [
    {
     "data": {
      "text/plain": [
       "(12.0, 50.0)"
      ]
     },
     "execution_count": 12,
     "metadata": {},
     "output_type": "execute_result"
    }
   ],
   "source": [
    "%run P4.py\n",
    "P4(2,22), P4(0,100)"
   ]
  },
  {
   "cell_type": "markdown",
   "metadata": {},
   "source": [
    "# 5\n",
    "remove negetive number in list"
   ]
  },
  {
   "cell_type": "code",
   "execution_count": 18,
   "metadata": {},
   "outputs": [],
   "source": [
    "from typing import List\n",
    "def P5(num_list: List[float]) -> List[float]:\n",
    "    ##### Modify code Here #####\n",
    "    count = 0\n",
    "    for i in range(len(num_list)):\n",
    "        if num_list[i] < 0:\n",
    "            num_list[i] = 'negative'\n",
    "            count += 1\n",
    "    for n in range(count):\n",
    "        num_list.remove('negative')\n",
    "    return num_list\n",
    "    ##### End of your code #####\n",
    "\n"
   ]
  },
  {
   "cell_type": "code",
   "execution_count": 20,
   "metadata": {},
   "outputs": [
    {
     "data": {
      "text/plain": [
       "[1, 1, 2, 3, 3, 2, 2]"
      ]
     },
     "execution_count": 20,
     "metadata": {},
     "output_type": "execute_result"
    }
   ],
   "source": [
    "%run P5.py\n",
    "P5([1,1,2,3,-1,-1,-1,-1,-1,3,2,2,-4])"
   ]
  },
  {
   "cell_type": "markdown",
   "metadata": {},
   "source": [
    "# 6\n",
    "Complete P6 function that changes input list as following\n",
    "a. Remove 3382 from the list.\n",
    "b. Extend the list by adding [5566, 1830] to it.\n",
    "c. Sort the list in ascending order.\n",
    "Assume 3382 is always included in the input list and each element of input list is always number.\n",
    "Assume there is only one 3382 in the input list."
   ]
  },
  {
   "cell_type": "code",
   "execution_count": 27,
   "metadata": {},
   "outputs": [],
   "source": [
    "from typing import List\n",
    "def P6(num_list: List[float]) -> List[float]: \n",
    "    ##### Modify code Here #####\n",
    "    count = 0\n",
    "    for i in range(len(num_list)):\n",
    "        if num_list[i] == 3382:\n",
    "            count+=1\n",
    "    for n in range(count):\n",
    "        num_list.remove(3382)\n",
    "        num_list.append(5566)\n",
    "        num_list.append(1830)\n",
    "    num_list.sort()\n",
    "    return num_list\n",
    "    ##### End of your code #####"
   ]
  },
  {
   "cell_type": "code",
   "execution_count": 28,
   "metadata": {},
   "outputs": [
    {
     "data": {
      "text/plain": [
       "[1830, 2314, 2956, 3900, 4353, 5566, 9362]"
      ]
     },
     "execution_count": 28,
     "metadata": {},
     "output_type": "execute_result"
    }
   ],
   "source": [
    "%run P6.py\n",
    "P6([4353, 2314, 2956, 3382, 9362, 3900])"
   ]
  },
  {
   "cell_type": "markdown",
   "metadata": {},
   "source": [
    "# 7\n",
    "Inputs are a nested list having two lists. \n",
    "Complete P7 function that returns a list whose elements are as following:\n",
    "- the list has 2 items\n",
    "- the first item is the first item of the first inner list of input\n",
    "- the second item is the last item of the second inner list of input\n",
    "\n",
    "P7([['km','miles','league'],['kg','pound','stone']])\n",
    "#>>> ['km','stone']\n",
    "\n",
    "P7([[0,1,2,3],[4,5,6]])\n",
    "#>>> [0,6]\n",
    "\n",
    "P7([[0,0,0],[1]])\n",
    "#>>> [0,1]"
   ]
  },
  {
   "cell_type": "code",
   "execution_count": 29,
   "metadata": {},
   "outputs": [],
   "source": [
    "def P7(nested_list: list) -> list:  \n",
    "    ##### Modify code Here #####\n",
    "    result = []\n",
    "    result.append(nested_list[0][0])\n",
    "    result.append(nested_list[1][-1])\n",
    "    return result\n",
    "    ##### End of your code #####"
   ]
  },
  {
   "cell_type": "code",
   "execution_count": 30,
   "metadata": {},
   "outputs": [
    {
     "data": {
      "text/plain": [
       "['km', 'stone']"
      ]
     },
     "execution_count": 30,
     "metadata": {},
     "output_type": "execute_result"
    }
   ],
   "source": [
    "%run P7.py\n",
    "P7([['km','miles','league'],['kg','pound','stone']])"
   ]
  },
  {
   "cell_type": "code",
   "execution_count": 31,
   "metadata": {},
   "outputs": [
    {
     "data": {
      "text/plain": [
       "[0, 6]"
      ]
     },
     "execution_count": 31,
     "metadata": {},
     "output_type": "execute_result"
    }
   ],
   "source": [
    "P7([[0,1,2,3],[4,5,6]])"
   ]
  },
  {
   "cell_type": "code",
   "execution_count": 32,
   "metadata": {},
   "outputs": [
    {
     "data": {
      "text/plain": [
       "[0, 1]"
      ]
     },
     "execution_count": 32,
     "metadata": {},
     "output_type": "execute_result"
    }
   ],
   "source": [
    "P7([[0,0,0],[1]])"
   ]
  },
  {
   "cell_type": "markdown",
   "metadata": {},
   "source": [
    "# 8\n",
    "You are given two lists, rat_1 and rat_2, that contain the daily weights of\n",
    "two rats over a period of ten days. Assume the rats never have exactly\n",
    "the same weight. \n",
    "Complete P8 function to return True if the weight of rat 1 is greater than rat2 on day n,\n",
    "return False if the weight of rat 1 is less than rat2 on day n.\n",
    "Assume 1 <= n <= 10\n",
    "\n",
    "rat_1 = [5, 6, 7, 6, 7, 8, 10, 9, 8, 10]\n",
    "rat_2 = [7, 8, 6, 7, 8, 10, 9, 8, 10, 11]\n",
    "\n",
    "P8(rat_1, rat_2, 1)\n",
    "#>>> False\n",
    "\n",
    "P8(rat_1, rat_2, 5)\n",
    "#>>> False\n",
    "\n",
    "P8(rat_1, rat_2, 3)\n",
    "#>>> True\n",
    "\"\"\""
   ]
  },
  {
   "cell_type": "code",
   "execution_count": 33,
   "metadata": {},
   "outputs": [],
   "source": [
    "def P8(rat_1: list, rat_2: list, measure_day: int) -> bool:\n",
    "    if rat_1[measure_day-1] > rat_2[measure_day-1]:\n",
    "        return True\n",
    "    else:\n",
    "        return False"
   ]
  },
  {
   "cell_type": "code",
   "execution_count": 38,
   "metadata": {},
   "outputs": [
    {
     "data": {
      "text/plain": [
       "False"
      ]
     },
     "execution_count": 38,
     "metadata": {},
     "output_type": "execute_result"
    }
   ],
   "source": [
    "%run P8.py\n",
    "rat_1 = [5, 6, 7, 6, 7, 8, 10, 9, 8, 10];rat_2 = [7, 8, 6, 7, 8, 10, 9, 8, 10, 11]\n",
    "P8(rat_1, rat_2, 1)"
   ]
  },
  {
   "cell_type": "code",
   "execution_count": 39,
   "metadata": {},
   "outputs": [
    {
     "data": {
      "text/plain": [
       "True"
      ]
     },
     "execution_count": 39,
     "metadata": {},
     "output_type": "execute_result"
    }
   ],
   "source": [
    "P8(rat_1, rat_2, 3)"
   ]
  },
  {
   "cell_type": "markdown",
   "metadata": {},
   "source": [
    "# 9\n",
    "Practical programming Chapter 9 Exercise 8\n",
    "\n",
    "**Instruction**\n",
    "You are given two lists, rat_1 and rat_2, that contain the daily weights of\n",
    "two rats.  \n",
    "Complete P9 function to return output_list as following:\n",
    "  the first element of output_list is the first element of rat_1\n",
    "  the second element of output_list is the first element of rat_2\n",
    "  the third element of output_list is the second element of rat_1\n",
    "  the fourth element of output_list is the second element of rat_2\n",
    "  the 5th element of output_list is the third element of rat_1\n",
    "  the 6th element of output_list is the third element of rat_2\n",
    "  ...\n",
    "Assume the length of rat_1 is equal to the length of rat_2\n",
    "\n",
    "rat_1 = [5, 6, 7, 6, 7, 8, 10, 9, 8, 10]\n",
    "rat_2 = [7, 8, 6, 7, 8, 10, 9, 8, 10, 11]"
   ]
  },
  {
   "cell_type": "code",
   "execution_count": 40,
   "metadata": {},
   "outputs": [],
   "source": [
    "def P9(rat_1: list, rat_2: list) -> list:\n",
    "    result = []\n",
    "    for i in range(len(rat_1)):\n",
    "        result.append(rat_1[i])\n",
    "        result.append(rat_2[i])\n",
    "  \n",
    "    return result\n"
   ]
  },
  {
   "cell_type": "code",
   "execution_count": 42,
   "metadata": {},
   "outputs": [
    {
     "data": {
      "text/plain": [
       "[1, 7, 1, 8, 1, 6, 1, 7, 1, 8]"
      ]
     },
     "execution_count": 42,
     "metadata": {},
     "output_type": "execute_result"
    }
   ],
   "source": [
    "%run P9.py\n",
    "rat_1 = [1,1,1,1,1]\n",
    "rat_2 = [7, 8, 6, 7, 8]\n",
    "P9(rat_1, rat_2)"
   ]
  },
  {
   "cell_type": "markdown",
   "metadata": {},
   "source": [
    "# 10\n",
    "Practical programming Chapter 9 Exercise 9\n",
    "\n",
    "**Instruction**\n",
    "You are given two integers, start_i and end_i(start_i < end_i)\n",
    "Complete P10 function to return a list that contains all integers in the range start_i to end_i(inclusive)\n",
    "in ascending order\n",
    "\n",
    "P10(33, 49)\n",
    "#>>> [33, 34, 35, 36, 37, 38, 39, 40, 41, 42, 43, 44, 45, 46, 47, 48, 49]\n",
    "\n",
    "P10(-10, -7)\n",
    "#>>> [-10, -9, -8, -7]\n",
    "\n",
    "P10(10, 11)\n",
    "#>>> [10, 11]\n",
    "\"\"\""
   ]
  },
  {
   "cell_type": "code",
   "execution_count": 43,
   "metadata": {},
   "outputs": [],
   "source": [
    "def P10(start_i: int, end_i: int) -> list:\n",
    "    result = []\n",
    "    for num in range(start_i,end_i+1):\n",
    "        result.append(num)\n",
    "  \n",
    "    return result"
   ]
  },
  {
   "cell_type": "code",
   "execution_count": 45,
   "metadata": {},
   "outputs": [
    {
     "data": {
      "text/plain": [
       "[10, 11]"
      ]
     },
     "execution_count": 45,
     "metadata": {},
     "output_type": "execute_result"
    }
   ],
   "source": [
    "%run P10.py\n",
    "P10(33, 49)\n",
    "#[33, 34, 35, 36, 37, 38, 39, 40, 41, 42, 43, 44, 45, 46, 47, 48, 49]\n",
    "\n",
    "P10(-10, -7)\n",
    "#>>> [-10, -9, -8, -7]\n",
    "\n",
    "P10(10, 11)\n",
    "#>>> [10, 11]"
   ]
  },
  {
   "cell_type": "code",
   "execution_count": 46,
   "metadata": {},
   "outputs": [
    {
     "data": {
      "text/plain": [
       "[-10, -9, -8, -7]"
      ]
     },
     "execution_count": 46,
     "metadata": {},
     "output_type": "execute_result"
    }
   ],
   "source": [
    "P10(-10, -7)"
   ]
  },
  {
   "cell_type": "code",
   "execution_count": 47,
   "metadata": {},
   "outputs": [
    {
     "data": {
      "text/plain": [
       "[33, 34, 35, 36, 37, 38, 39, 40, 41, 42, 43, 44, 45, 46, 47, 48, 49]"
      ]
     },
     "execution_count": 47,
     "metadata": {},
     "output_type": "execute_result"
    }
   ],
   "source": [
    "P10(33, 49)"
   ]
  },
  {
   "cell_type": "code",
   "execution_count": null,
   "metadata": {},
   "outputs": [],
   "source": []
  },
  {
   "cell_type": "code",
   "execution_count": null,
   "metadata": {},
   "outputs": [],
   "source": []
  }
 ],
 "metadata": {
  "kernelspec": {
   "display_name": "Python 3",
   "language": "python",
   "name": "python3"
  },
  "language_info": {
   "codemirror_mode": {
    "name": "ipython",
    "version": 3
   },
   "file_extension": ".py",
   "mimetype": "text/x-python",
   "name": "python",
   "nbconvert_exporter": "python",
   "pygments_lexer": "ipython3",
   "version": "3.9.1"
  }
 },
 "nbformat": 4,
 "nbformat_minor": 4
}
