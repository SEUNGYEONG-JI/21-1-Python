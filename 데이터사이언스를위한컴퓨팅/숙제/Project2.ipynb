{
 "cells": [
  {
   "cell_type": "markdown",
   "metadata": {},
   "source": [
    "# 문제 1. 경로 단순화  (string.translate이용해서 '//'중복없애자)\n",
    "파일 경로를 입력받아 단순화된 경로를 반환하는 함수를 작성하여라. 단순화 법칙은 아래와 같다.\n",
    "\n",
    " 입력경로에서 ‘.’은 현재 폴더를 의미하고, ‘..’는 상위 폴더를 의미한다. ‘…’은 파일 또는\n",
    "폴더명에 포함되는 것으로 취급한다.\n",
    "\n",
    "\n",
    " 반환값에서 ‘.’ 또는 ‘..’는 사용하지 않는다.\n",
    "\n",
    "\n",
    " 입력경로에서 파일/폴더는 ‘/’로 구분되며, ‘//’는 ‘/’와 동일하게 취급된다. 반환값에서는\n",
    "‘/’로만 경로구분이 되어야 한다.\n",
    "\n",
    "\n",
    " 반환값은 ‘/’로 시작되어야 하고, 마지막에 붙은 ‘/’ 또는 ‘//’는 제거한다.\n",
    "\n",
    "\n",
    " 시작 폴더는 root 폴더라고 가정한다. 즉 시작 폴더에는 상위 폴더가 없다. 시작 폴더를\n",
    "반환하는 경우는 ‘/’를 반환하여라.\n",
    "\n",
    "\n",
    "예시 1) 마지막의 ‘/’는 제거하여야 한다.\n",
    "\n",
    "#>>> P1(‘/home/’)\n",
    "\n",
    "‘/home\n",
    "\n",
    "\n",
    "예시 2) 마지막의 ‘/’를 제거하고 현재 폴더의 상위 폴더를 반환한다. 그렇지만 시작폴더에는 상위\n",
    "폴더가 없다고 가정하였으므로 시작 폴더를 반환한다.\n",
    "\n",
    "#>>> P1(‘/../’)\n",
    "\n",
    "‘/’\n",
    "\n",
    "\n",
    "예시 3) 마지막의 ‘/’를 제거하고 중간의 ‘//’는 ‘/’로 대체한다.\n",
    "\n",
    "#>>> P1(‘/home//foo/’)\n",
    "‘/home/foo’\n",
    "\n",
    "예시 4) a 폴더 – 현재 폴더(‘.’) - b 폴더로 갔다가 상위(‘..’) – 상위(‘..’) 폴더로 돌아오면 시작 폴더가\n",
    "된다. 여기에서 다시 c 폴더로 들어가므로 ‘/c’가 된다.\n",
    "\n",
    "#>>> P1(‘/a/./b/../../c/’)\n",
    "\n",
    "‘/c’"
   ]
  },
  {
   "cell_type": "code",
   "execution_count": 2,
   "metadata": {},
   "outputs": [
    {
     "data": {
      "text/plain": [
       "47"
      ]
     },
     "execution_count": 2,
     "metadata": {},
     "output_type": "execute_result"
    }
   ],
   "source": [
    "ord('/')"
   ]
  },
  {
   "cell_type": "code",
   "execution_count": 10,
   "metadata": {},
   "outputs": [],
   "source": [
    "def P1(path: str) -> str:        \n",
    "    L = path.split('/')\n",
    "    resultL = []\n",
    "    result = ''\n",
    "    \n",
    "    for i in range(len(L)):\n",
    "        #delete 중복된'/'   ,   ord('/') =47 이다.\n",
    "        L[i] = L[i].translate({47:None})\n",
    "    \n",
    "    #resultL에 return 될 str의 순서대로 L의 내용을 정렬한다.\n",
    "    for i in range(len(L)):\n",
    "        if L[i]:\n",
    "            # '.' 이라면 현재디렉토리이므로 아무것도 안함\n",
    "            if L[i] == '.':\n",
    "                continue\n",
    "            #'..'이라면 하나 위 디렉토리고 올라가야 하므로 최근 디렉토리 삭제    \n",
    "            elif L[i] == '..':\n",
    "                if resultL:\n",
    "                    resultL.pop(-1)\n",
    "            #그외 문자열들은 디렉토리 이름이므로 resultL에 넣어준다.        \n",
    "            else:\n",
    "                resultL.append(L[i])\n",
    "    \n",
    "    #resultL에 있는 것 앞에 '/'를 붙여서 str으로 반환하면 된다.\n",
    "    for i in range(len(resultL)):\n",
    "        result += '/'+ resultL[i]\n",
    "    \n",
    "    if result:\n",
    "        return result\n",
    "    else:\n",
    "        return '/'"
   ]
  },
  {
   "cell_type": "code",
   "execution_count": 5,
   "metadata": {},
   "outputs": [],
   "source": [
    "a = '/a/b'\n",
    "L=a.split('/')"
   ]
  },
  {
   "cell_type": "code",
   "execution_count": 91,
   "metadata": {},
   "outputs": [
    {
     "data": {
      "text/plain": [
       "('/home/foo', '/', '/home', '/c')"
      ]
     },
     "execution_count": 91,
     "metadata": {},
     "output_type": "execute_result"
    }
   ],
   "source": [
    "P1('/home//foo/'), P1('/../'),  P1('/home/'), P1('/a/./b/../../c/')"
   ]
  },
  {
   "cell_type": "markdown",
   "metadata": {},
   "source": [
    "# 문제 2. 괄호 열고 닫기\n",
    "\n",
    "'(', ')', '{', '}', '[', ']'으로 구성된 String 을 Input 으로 받고, 이 String 이 아래 규칙에 의해 유효한지를\n",
    "판단하는 함수를 만들어라.\n",
    "\n",
    "\n",
    " 괄호가 열렸다면 같은 타입의 괄호에 의해 닫혀야 한다.\n",
    "\n",
    "\n",
    " 적절한 순서로 괄호가 배열되어야 한다.안쪽에서 열린 괄호가 먼저 닫히고, 바깥쪽 괄호가\n",
    "닫혀야 한다.\n",
    "\n",
    "\n",
    "예시 1) 유효한 입력이다.\n",
    "\n",
    "#>>> P2(‘()’)\n",
    "\n",
    "True\n",
    "\n",
    "\n",
    "예시 2) 유효한 입력이다.\n",
    "\n",
    "#>>> P2(‘()[]{}’)\n",
    "\n",
    "True\n",
    "\n",
    "\n",
    "예시 3) 안쪽에서 열린 ‘[‘가 닫히기 전에 ‘]’가 먼저 닫혔으므로 유효하지 않다.\n",
    "\n",
    "#>>> P2(‘([)]’)\n",
    "\n",
    "False\n"
   ]
  },
  {
   "cell_type": "code",
   "execution_count": 27,
   "metadata": {},
   "outputs": [
    {
     "data": {
      "text/plain": [
       "(91, 93, 123, 125, 40, 41)"
      ]
     },
     "execution_count": 27,
     "metadata": {},
     "output_type": "execute_result"
    }
   ],
   "source": [
    "ord('['),ord(']'), ord('{'), ord('}') , ord('('), ord(')')"
   ]
  },
  {
   "cell_type": "code",
   "execution_count": 85,
   "metadata": {},
   "outputs": [],
   "source": [
    "def P2(parentheses: str) -> bool:        \n",
    "    delete = -2\n",
    "    L = []\n",
    "    for i in parentheses:\n",
    "        L.append(i)\n",
    "    \n",
    "    #올바른 괄호사용이라면 L에는 항상 연속적으로 [] {} () 중 하나가 반드시 존재한다.\n",
    "    #이를 만족하는 것을 한 쌍만 찾자. 그리고 삭제해주자.\n",
    "    #또한 len(L)==0 되면  아래의 for문이 안돌아가서 delete가 이전에 삭제한 index를 계속 가지고 있어서 \n",
    "    #L.pop을 또하게 되므로 길이제한 len(L)>1넣어주자.\n",
    "    while delete !=-1 and len(L)>1:\n",
    "        for i in range(len(L)-1):\n",
    "            # ord('['),ord(']'), ord('{'), ord('}') = 91, 93, 123, 125\n",
    "            if (ord(L[i]) == 91 or 93) and ord(L[i+1]) == ord(L[i]) +2:\n",
    "                delete = i\n",
    "                break\n",
    "                \n",
    "            #  ord('('), ord(')') = 40, 41  \n",
    "            elif (ord(L[i]) == 40) and ord(L[i+1]) == 41:\n",
    "                delete = i\n",
    "                break\n",
    "            else:\n",
    "                delete = -1\n",
    "   \n",
    "\n",
    "        #[] {} () 와 같은 것들이 L에 있다면 삭제한다.\n",
    "        if delete != -1:\n",
    "            L.pop(delete)\n",
    "            L.pop(delete)\n",
    "    \n",
    "    #L이 존재한다면 괄호는 잘 닫기지 못한 것이다.\n",
    "    if L:\n",
    "         return False\n",
    "    #L이 empty가 되면 괄호는 다 잘 닫긴것이다.\n",
    "    else:\n",
    "        return True"
   ]
  },
  {
   "cell_type": "code",
   "execution_count": 90,
   "metadata": {},
   "outputs": [
    {
     "data": {
      "text/plain": [
       "(False, True, True, False)"
      ]
     },
     "execution_count": 90,
     "metadata": {},
     "output_type": "execute_result"
    }
   ],
   "source": [
    "P2('{(}))'), P2('()'),  P2('()[]{}'),  P2('([)]')"
   ]
  },
  {
   "cell_type": "markdown",
   "metadata": {},
   "source": [
    "# 문제 3. Singly linked list 정렬하기\n",
    "\n",
    "\n",
    "Singly linked list 의 Head node 가 주어졌을 때 이를 정렬하고 정렬된 Singly linked list 의\n",
    "Head node 를 반환하여라. \n",
    "\n",
    "여러가지 방법으로 구현할 수 있으나, Merge sort 의 방법론을\n",
    "이용한 구현이 일부 뼈대 코드에 작성되어 있다. 뼈대 코드의 나머지 부분을 완성하여라.\n",
    "\n",
    "\n",
    " 현재 작성된 부분은 Merge sort 의 divide 부분이고, 과제로 작성해야 할 부분은\n",
    "conquer 부분이다. \n",
    "(각 Division 을 sort 하고 Merge 하는 과정)Merge sort 의 방법론과\n",
    "singly linked list 의 특성을 잘 이용하면 완성할 수 있다.\n",
    "\n",
    "\n",
    " Merge sort 방법론이 아닌 다른 방법론을 이용하고 싶다면 뼈대 코드를 수정해서\n",
    "구현해도 괜찮으며, 결과가 맞게 나오면 정답으로 인정할 것이다. \n",
    "단, Singly linked\n",
    "list 를 list 로 해체하여 정렬 후 다시 linked list 를 생성하는 방법 등은 인정하지\n",
    "않는다.\n",
    "\n",
    "\n",
    " 함께 제공된 linked_list_helper.py 파일에 ListNode 의 정의와 구현 확인을 위해\n",
    "활용할 수 있는 Helper function 들을 입력해 두었다.\n",
    "\n",
    "o create_linked_list: list 를 입력하면 list 의 순서대로 singly linked list 를 생성하고 head\n",
    "node 를 반환한다.\n",
    "\n",
    "\n",
    "o print_linked_list: singly linked list 의 head node 와 빈 list 를 입력하면 singly linked\n",
    "list 의 원소들을 리스트 형태로 출력해준다.\n",
    "\n",
    "\n",
    " 제출시 테스트 코드는 제거하고 제출한다."
   ]
  },
  {
   "cell_type": "code",
   "execution_count": 53,
   "metadata": {},
   "outputs": [],
   "source": [
    "from linked_list_helper import ListNode\n",
    "\n",
    "##### Write your Code Here #####\n",
    "def merge(leftnode:ListNode, rightnode:ListNode)->ListNode:\n",
    "    sortedL = None\n",
    "    if not leftnode:\n",
    "        return rightnode\n",
    "    \n",
    "    if not rightnode:\n",
    "        return leftnode\n",
    "    \n",
    "\n",
    "    if leftnode.val <= rightnode.val:\n",
    "        sortedL = leftnode\n",
    "        sortedL.next = merge(leftnode.next, rightnode)\n",
    "        #print( \"left is small: \"), print_linked_list(sortedL,[])  \n",
    "    elif leftnode.val > rightnode.val:\n",
    "        sortedL = rightnode\n",
    "        sortedL.next = merge(leftnode, rightnode.next)\n",
    "        #print(\"right is small: \"), print_linked_list(sortedL,[]) \n",
    "      \n",
    "    return sortedL\n",
    "    ##### End of your code #####\n",
    "    \n",
    "\n",
    "def P3(head: ListNode) -> ListNode: \n",
    "\n",
    "    if head is None:\n",
    "        return None\n",
    "    if head.next is None:\n",
    "        return head\n",
    "    \n",
    "    # Find the number of nodes\n",
    "    cnt = 0\n",
    "    curr = head\n",
    "\n",
    "    while curr != None:\n",
    "        curr = curr.next        \n",
    "        cnt += 1\n",
    "\n",
    "    #Divide into left and right\n",
    "    mid = cnt // 2    \n",
    "    left= head\n",
    "\n",
    "    curr = head\n",
    "    cnt = 0\n",
    "    while cnt < mid-1:\n",
    "        curr = curr.next\n",
    "        cnt += 1\n",
    "    #mid번째 node가 right node\n",
    "    right = curr.next\n",
    "    curr.next = None \n",
    "\n",
    "    \n",
    "    \n",
    "    ##### Write your Code Here #####\n",
    "    \n",
    "    \n",
    "    result = merge(P3(left), P3(right))\n",
    "    \n",
    "    \n",
    "    return result\n",
    "    ##### End of your code #####"
   ]
  },
  {
   "cell_type": "code",
   "execution_count": 6,
   "metadata": {},
   "outputs": [
    {
     "name": "stdout",
     "output_type": "stream",
     "text": [
      "[1, 2, 3, 4]\n"
     ]
    }
   ],
   "source": [
    "l1 = create_linked_list([4,2,1,3])\n",
    "a = P3(l1)\n",
    "print_linked_list(a,[]) "
   ]
  },
  {
   "cell_type": "code",
   "execution_count": 5,
   "metadata": {},
   "outputs": [
    {
     "name": "stdout",
     "output_type": "stream",
     "text": [
      "[-1, 0, 2, 3, 5]\n"
     ]
    }
   ],
   "source": [
    "l2 = create_linked_list([-1,5,0,2,3])\n",
    "print_linked_list(P3(l2),[])\n",
    "#[-1, 0, 2, 3, 5]"
   ]
  },
  {
   "cell_type": "code",
   "execution_count": 56,
   "metadata": {},
   "outputs": [
    {
     "name": "stdout",
     "output_type": "stream",
     "text": [
      "[1, 1, 1, 1, 1, 1, 1, 1, 2, 2, 2, 2, 2, 2, 2, 2, 3, 3, 3, 3, 3, 3, 3]\n"
     ]
    }
   ],
   "source": [
    "l3 = create_linked_list([1,3,3,1,3,1,3,3,2,3,2,2,1,1,1,3,2,2,1,1,2,2,2])\n",
    "print_linked_list(P3(l3),[])\n",
    "#[1, 1, 1, 1, 1, 1, 1, 1, 2, 2, 2, 2, 2, 2, 2, 2, 3, 3, 3, 3, 3, 3, 3]"
   ]
  },
  {
   "cell_type": "code",
   "execution_count": 4,
   "metadata": {},
   "outputs": [
    {
     "name": "stdout",
     "output_type": "stream",
     "text": [
      "[1, 1, 1, 1, 1, 1, 1, 1, 2, 2, 2, 2, 2, 2, 2, 2, 3, 3, 3, 3, 3, 3, 3]\n"
     ]
    }
   ],
   "source": [
    "%run P3.py\n",
    "%run linked_list_helper.py\n",
    "l3 = create_linked_list([1,3,3,1,3,1,3,3,2,3,2,2,1,1,1,3,2,2,1,1,2,2,2])\n",
    "print_linked_list(P3(l3),[])"
   ]
  },
  {
   "cell_type": "markdown",
   "metadata": {},
   "source": [
    "# 문제 4. Linked list 순서 뒤집기\n",
    "\n",
    "\n",
    "Singly linked list 를 입력받아 순서를 뒤집은 Singly linked list 로 만드는 함수를 작성하여라.\n",
    "\n",
    "Linked list 의 각 Node 는 linked_list_helper.py 파일의 ListNode 정의를 활용하고, 함수의\n",
    "\n",
    "return 값은 뒤집은 Linked list 의 첫번째 Node 로 한다."
   ]
  },
  {
   "cell_type": "code",
   "execution_count": 71,
   "metadata": {},
   "outputs": [],
   "source": [
    "from linked_list_helper import ListNode\n",
    "def P4(head: ListNode) -> ListNode: \n",
    "    ##### Write your Code Here #####         \n",
    "    curnode = head\n",
    "    L = []\n",
    "    #node의 value를 저장해서, 새로운 ListNode를 만들자.\n",
    "    while curnode!=None:\n",
    "        L.append(curnode.val)\n",
    "        curnode = curnode.next\n",
    "    \n",
    "    reverse = None\n",
    "    \n",
    "    \n",
    "    if L:\n",
    "        reverse = ListNode(L.pop())\n",
    "    \n",
    "    node = reverse\n",
    "    while L:\n",
    "        new_node = ListNode(L.pop())\n",
    "        node.next = new_node\n",
    "        node = node.next\n",
    "    \n",
    "    return reverse\n",
    "    ##### End of your code #####"
   ]
  },
  {
   "cell_type": "code",
   "execution_count": 73,
   "metadata": {},
   "outputs": [
    {
     "name": "stdout",
     "output_type": "stream",
     "text": [
      "[3, 1, 2, 4]\n",
      "[3, 2, 0, 5, -1]\n",
      "[]\n"
     ]
    }
   ],
   "source": [
    "l1 = create_linked_list([4,2,1,3])\n",
    "print_linked_list(P4(l1),[])\n",
    "l2 = create_linked_list([-1,5,0,2,3])\n",
    "print_linked_list(P4(l2),[])\n",
    "l3 = create_linked_list([])\n",
    "print_linked_list(P3(l3),[])"
   ]
  },
  {
   "cell_type": "code",
   "execution_count": 105,
   "metadata": {},
   "outputs": [
    {
     "data": {
      "text/plain": [
       "True"
      ]
     },
     "execution_count": 105,
     "metadata": {},
     "output_type": "execute_result"
    }
   ],
   "source": [
    "a = ListNode(1)\n",
    "b = ListNode(2)\n",
    "a.next = b\n",
    "c = a\n",
    "c is a"
   ]
  },
  {
   "cell_type": "code",
   "execution_count": null,
   "metadata": {},
   "outputs": [],
   "source": []
  }
 ],
 "metadata": {
  "kernelspec": {
   "display_name": "Python 3",
   "language": "python",
   "name": "python3"
  },
  "language_info": {
   "codemirror_mode": {
    "name": "ipython",
    "version": 3
   },
   "file_extension": ".py",
   "mimetype": "text/x-python",
   "name": "python",
   "nbconvert_exporter": "python",
   "pygments_lexer": "ipython3",
   "version": "3.9.1"
  }
 },
 "nbformat": 4,
 "nbformat_minor": 5
}
