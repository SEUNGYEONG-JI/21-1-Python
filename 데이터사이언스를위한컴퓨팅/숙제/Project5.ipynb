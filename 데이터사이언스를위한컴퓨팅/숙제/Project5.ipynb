{
 "cells": [
  {
   "cell_type": "markdown",
   "metadata": {},
   "source": [
    "# P1.\n",
    "\n",
    "M x N 으로 된 방안에 뿡뿡이 몇 명이 방귀를 뀌었다. 방귀는 1 초가 지나면 인접한 공간 (위, 아래, 왼쪽,\n",
    "오른쪽)으로 퍼진다. 지독한 방귀여서 한번 퍼지면 사라지지 않는다. 몇 초 만에 방 전체로 방귀가 퍼지는지를\n",
    "계산해서 return 하는 함수를 구현해야 한다.\n",
    "\n",
    "방에 대한 정보 M x N 리스트인 rooms 를 함수의 입력으로 받는다.\n",
    "\n",
    "⚫ M 과 N 은 1 이상 자연수이다.\n",
    "\n",
    "⚫ 리스트는 0 또는 1 또는 -1 로 되어있다.\n",
    "\n",
    "◼ 0 은 방귀가 퍼질 수 있는 빈 공간이다.\n",
    "\n",
    "◼ 1 은 처음(0 초일 때) 뿡뿡이들이 방귀를 뀐 자리이다. 최소 한 곳 이상에 방귀를 뀌었고, 방귀는\n",
    "동시에 퍼진다.\n",
    "\n",
    "◆ 방귀는 위, 아래, 왼쪽, 오른쪽으로 퍼질 수 있고, 대각선으로는 퍼질 수 없다.\n",
    "\n",
    "◆ 1 초마다 퍼진다.\n",
    "\n",
    "◼ -1 은 벽이어서 방귀가 퍼질 수 없다.\n",
    "\n",
    "⚫ 방 전체 즉, 0 인 곳 모두로 방귀가 퍼질 때까지 걸린 시간을 return 해야 한다.\n",
    "\n",
    "◼ 방 전체로 방귀가 퍼질 수 없으면 -1 을 return 한다.\n",
    "\n",
    "◼ 처음(0 초)부터 방귀가 꽉 찬 상태면 0 을 return 한다."
   ]
  },
  {
   "cell_type": "markdown",
   "metadata": {},
   "source": [
    "## 해답 :\n",
    "\n",
    "좌표를 key로 가지는 dictionary를 만들어서 문제를 해결한다.\n",
    "\n",
    "그런데 한 번 searching이 다 끝난 후에 0이 1로 바뀌어야하므로, 똑같은 dictionary인데 참고 dictionary 를 만들어서 cf_dic을 기준으로 dic의  0을 1로 바꾼다."
   ]
  },
  {
   "cell_type": "code",
   "execution_count": 51,
   "metadata": {},
   "outputs": [],
   "source": [
    "def P1(room):\n",
    "    dic = {}\n",
    "    cf_dic = {}\n",
    "    num_of_0 = 0\n",
    "    time = 0\n",
    "    for i in range(len(room)):\n",
    "        for j in range(len(room[i])):\n",
    "            dic[(i,j)] = room[i][j]\n",
    "            cf_dic[(i,j)] = room[i][j]\n",
    "            if room[i][j] == 0:\n",
    "                num_of_0 += 1\n",
    "    \n",
    "    \n",
    "    before_0 = -1\n",
    "    \n",
    "    while num_of_0 > 0 and before_0 != num_of_0:\n",
    "        before_0 = num_of_0\n",
    "        for location in dic:\n",
    "            #만약 현재 위치가 방귀낀 위치라면\n",
    "            if cf_dic[location] == 1:\n",
    "                #오른쪽이 0인가?  0이라면 1로 바꿔주고, num_of_0 를 하나 빼준다.\n",
    "                if (location[0]+1, location[1]) in cf_dic:\n",
    "                        if cf_dic[(location[0]+1, location[1])] == 0 and dic[(location[0]+1, location[1])] == 0:\n",
    "                            dic[(location[0]+1, location[1])] = 1\n",
    "                            num_of_0 -= 1\n",
    "                \n",
    "                #왼쪽이 0인가?\n",
    "                if (location[0]-1, location[1]) in cf_dic:\n",
    "                        if cf_dic[(location[0]-1, location[1])] == 0 and dic[(location[0]-1, location[1])] == 0:\n",
    "                            dic[(location[0]-1, location[1])] = 1\n",
    "                            num_of_0 -= 1\n",
    "                        \n",
    "                #위쪽이 0 인가?\n",
    "                if (location[0], location[1]+1) in cf_dic:\n",
    "                        if cf_dic[(location[0], location[1]+1)] == 0 and dic[(location[0], location[1]+1)] == 0:\n",
    "                            dic[(location[0], location[1]+1)] = 1\n",
    "                            num_of_0 -= 1   \n",
    "                #아래쪽이 0인가?\n",
    "                if (location[0], location[1]-1) in cf_dic:\n",
    "                        if cf_dic[(location[0], location[1]-1)] == 0 and dic[(location[0], location[1]-1)] == 0:\n",
    "                            dic[(location[0], location[1]-1)] = 1\n",
    "                            num_of_0 -= 1\n",
    "        \n",
    "        #한 바퀴 돌았으니 time추가, cf_dic 도 dic과 같게 업데이트\n",
    "        time += 1\n",
    "        for location in dic:\n",
    "            cf_dic[location] = dic[location] \n",
    "    \n",
    "    if num_of_0 == 0:\n",
    "        return time\n",
    "    \n",
    "    elif num_of_0 > 0:\n",
    "        return -1\n",
    "    \n",
    "    else:\n",
    "        return \"What happen\"\n",
    "\n",
    "    \n",
    "\n",
    "  "
   ]
  },
  {
   "cell_type": "code",
   "execution_count": 1,
   "metadata": {},
   "outputs": [
    {
     "data": {
      "text/plain": [
       "0"
      ]
     },
     "execution_count": 1,
     "metadata": {},
     "output_type": "execute_result"
    }
   ],
   "source": [
    "%run P1.py\n",
    "P1([[-1, 1],\n",
    " [1, -1]])"
   ]
  },
  {
   "cell_type": "code",
   "execution_count": 2,
   "metadata": {},
   "outputs": [
    {
     "data": {
      "text/plain": [
       "1"
      ]
     },
     "execution_count": 2,
     "metadata": {},
     "output_type": "execute_result"
    }
   ],
   "source": [
    "P1([[1,0]])"
   ]
  },
  {
   "cell_type": "code",
   "execution_count": 3,
   "metadata": {},
   "outputs": [
    {
     "data": {
      "text/plain": [
       "8"
      ]
     },
     "execution_count": 3,
     "metadata": {},
     "output_type": "execute_result"
    }
   ],
   "source": [
    "P1([[0,0,0,0,0,0],\n",
    " [0,0,0,0,0,0],\n",
    " [0,0,0,0,0,0],\n",
    " [0,0,0,0,0,1]])"
   ]
  },
  {
   "cell_type": "code",
   "execution_count": 4,
   "metadata": {},
   "outputs": [
    {
     "data": {
      "text/plain": [
       "-1"
      ]
     },
     "execution_count": 4,
     "metadata": {},
     "output_type": "execute_result"
    }
   ],
   "source": [
    "P1([[ 0,-1,0,0,0,0],\n",
    " [-1, 0,0,0,0,0],\n",
    " [ 0, 0,0,0,0,0],\n",
    " [ 0, 0,0,0,0,1]])"
   ]
  },
  {
   "cell_type": "code",
   "execution_count": 5,
   "metadata": {},
   "outputs": [
    {
     "data": {
      "text/plain": [
       "6"
      ]
     },
     "execution_count": 5,
     "metadata": {},
     "output_type": "execute_result"
    }
   ],
   "source": [
    "P1([[1,-1,0,0, 0,0],\n",
    " [0,-1,0,0, 0,0],\n",
    " [0, 0,0,0,-1,0],\n",
    " [0, 0,0,0,-1,1]])"
   ]
  },
  {
   "cell_type": "code",
   "execution_count": 6,
   "metadata": {},
   "outputs": [
    {
     "data": {
      "text/plain": [
       "14"
      ]
     },
     "execution_count": 6,
     "metadata": {},
     "output_type": "execute_result"
    }
   ],
   "source": [
    "P1([[-1,1, 0, 0,0],\n",
    " [0,-1,-1,-1,0],\n",
    " [0,-1,-1,-1,0],\n",
    " [0,-1,-1,-1,0],\n",
    " [0, 0, 0, 0,0]])"
   ]
  },
  {
   "cell_type": "code",
   "execution_count": null,
   "metadata": {},
   "outputs": [],
   "source": []
  },
  {
   "cell_type": "markdown",
   "metadata": {},
   "source": [
    "# P2.\n",
    "\n",
    "Facebook 에는 1 번부터 n 번 까지의 회원이 있고, 친구 관계를 tuple 로 표현할 수 있다. 예를 들어, (1, 2)라는 것은\n",
    "1 번과 2 번이 서로 친구라는 것이다(쌍방향). 즉, 친구 관계는 그래프로 나타낼 수 있다.\n",
    "\n",
    "이 때, 친구 관계로 이어진\n",
    "모든 회원을 하나의 클러스터라고 하자. 1 번 회원이 속한 클러스터의 회원 수를 return 하는 함수를 구현하시오.\n",
    "\n",
    "회원 수 n 과 친구 관계를 나타내는 tuple 의 리스트 edges 를 입력으로 받는다.\n",
    "\n",
    "⚫ n 은 1 이상 자연수이고, edges 는 tuple 로 이루어진 리스트이다.\n",
    "\n",
    "◼ 리스트 원소의 개수는 0 이상\n",
    "\n",
    "◼ 각 tuple 은 서로 다른 2 개의 수(1 이상 n 이하)로 이루어져 있다. 똑같은 tuple 은 없다.\n",
    "\n",
    "⚫ 회원 수에는 1 번도 포함시킨다.\n"
   ]
  },
  {
   "cell_type": "code",
   "execution_count": 12,
   "metadata": {},
   "outputs": [],
   "source": [
    "def FindConnection(i,visited:dict,neighbor:dict)->int:\n",
    "    num_of_connection = 0\n",
    "    if visited[i] == False:\n",
    "        visited[i] = True\n",
    "        num_of_connection += 1\n",
    "        for j in neighbor[i]:\n",
    "            num_of_connection += FindConnection(j,visited,neighbor)\n",
    "            \n",
    "    return num_of_connection\n",
    "\n",
    "def P2(n, edges):\n",
    "    neighbor = {}\n",
    "    visited = {}\n",
    "    for i in range(1,n+1):\n",
    "        neighbor[i] = []\n",
    "        visited[i] = False\n",
    "    \n",
    "    for relation in edges:\n",
    "        neighbor[relation[0]].append(relation[1])\n",
    "        neighbor[relation[1]].append(relation[0])\n",
    "        \n",
    "    Max = 0\n",
    "    \n",
    "    for i in range(1,n+1):\n",
    "        num_of_connection = 0\n",
    "        num_of_connection += FindConnection(i,visited, neighbor)\n",
    "        Max = max(Max, num_of_connection)\n",
    "        \n",
    "   \n",
    "\n",
    "    return Max"
   ]
  },
  {
   "cell_type": "code",
   "execution_count": 1,
   "metadata": {},
   "outputs": [
    {
     "data": {
      "text/plain": [
       "5"
      ]
     },
     "execution_count": 1,
     "metadata": {},
     "output_type": "execute_result"
    }
   ],
   "source": [
    "%run P2.py\n",
    "P2(7, [(1, 2), (2,3), (1,5), (5, 2), (5, 6), (4, 7)])"
   ]
  },
  {
   "cell_type": "code",
   "execution_count": 14,
   "metadata": {},
   "outputs": [
    {
     "data": {
      "text/plain": [
       "1"
      ]
     },
     "execution_count": 14,
     "metadata": {},
     "output_type": "execute_result"
    }
   ],
   "source": [
    "P2(1, [])"
   ]
  },
  {
   "cell_type": "code",
   "execution_count": 15,
   "metadata": {},
   "outputs": [
    {
     "data": {
      "text/plain": [
       "2"
      ]
     },
     "execution_count": 15,
     "metadata": {},
     "output_type": "execute_result"
    }
   ],
   "source": [
    "P2(3, [(1,2)])"
   ]
  },
  {
   "cell_type": "code",
   "execution_count": 16,
   "metadata": {},
   "outputs": [
    {
     "data": {
      "text/plain": [
       "2"
      ]
     },
     "execution_count": 16,
     "metadata": {},
     "output_type": "execute_result"
    }
   ],
   "source": [
    "P2(4, [(1, 2), (2, 1)])"
   ]
  },
  {
   "cell_type": "markdown",
   "metadata": {},
   "source": [
    "# P3.\n",
    "\n",
    "M x N 리스트인 world 를 함수의 입력으로 받는다.\n",
    "리스트의 원소는 1 또는 0 으로 이루어져 있고, 1 은 땅,\n",
    "0 은 물을 의미한다. \n",
    "이 때, 인접한 땅으로 연결되어 있고, 물로 둘러 싸여 있는 지역을 섬이라고 하자. 섬의\n",
    "개수를 return 하는 함수를 구현하시오.\n",
    "\n",
    "⚫ M 과 N 은 1 이상 자연수이다.\n",
    "\n",
    "⚫ 리스트 바깥은 물이라고 가정한다.\n",
    "\n",
    "⚫ 인접해 있다는 것은 상, 하, 좌, 우 네 방향 중 한 곳에서 붙어 있는 것이고, 대각선 방향은\n",
    "인접해 있는 것이 아니다.\n",
    "\n",
    "⚫ 섬이 아닌 땅은 없다."
   ]
  },
  {
   "cell_type": "markdown",
   "metadata": {},
   "source": [
    "## 해법:\n",
    "\n",
    "1. 우선 dic[location] = 0 or 1, location = tuple(i,j) 꼴로 데이터를 변화한다.\n",
    "\n",
    "2. visited[location] = False or Ture인 dictionary를 만든다.\n",
    "\n",
    "\n",
    "3. Find1 function을 통해서 dic[location]=1이라면, visited[location] = True로 바꾸고, location 위치기준 상하좌우가 1인지 탐색하고, 1이라면 방문한다.\n",
    "\n",
    "\n",
    "4. Find1 function을 통해서 연결된 1들은 그 중 하나의 1만 input으로 넣으면 모두 방문할 수 있다.\n",
    "\n",
    "\n",
    "5. 따라서 dic에 있는 모든 location에 대해서 방문되지 않은 1이 있을 때에만 Find1을 실행하는 loop를 돌리면, 이 loop가 돌아간 개수가 섬의 개수이다.\n",
    "\n"
   ]
  },
  {
   "cell_type": "code",
   "execution_count": 51,
   "metadata": {},
   "outputs": [],
   "source": [
    "def Find1(dic:dict, location:tuple, visited:dict)->None:\n",
    "    if visited[location]==True:\n",
    "        return\n",
    "    \n",
    "    visited[location] = True\n",
    "    #print(\"here\",location)\n",
    "    \n",
    "    if (location[0]+1,location[1]) in dic:\n",
    "        right = (location[0]+1,location[1])\n",
    "        if dic[right] == 1 and visited[right] == False:\n",
    "            #print(\"here\",location, \"go to right\")\n",
    "            Find1(dic,right,visited)\n",
    "\n",
    "            \n",
    "    if (location[0]-1,location[1]) in dic:\n",
    "        left = (location[0]-1,location[1])\n",
    "        if dic[left] == 1 and visited[left] == False:\n",
    "            #print(\"here\",location, \"go to left\")\n",
    "            Find1(dic,left,visited)\n",
    "        \n",
    "    if (location[0],location[1]+1) in dic:\n",
    "        up = (location[0],location[1]+1)\n",
    "        if dic[up] == 1 and visited[up] == False:\n",
    "            #print(\"here\",location, \"go to up\")\n",
    "            Find1(dic,up,visited)\n",
    "    \n",
    "    if (location[0],location[1]-1) in dic:\n",
    "        down = (location[0],location[1]-1)\n",
    "        if dic[down] == 1 and visited[down]==False:\n",
    "            #print(\"here\",location, \"go to down\")\n",
    "            Find1(dic,down,visited)\n",
    "            \n",
    "    \n",
    "\n",
    "def P3(world):\n",
    "    dic = {}\n",
    "    for i in range(len(world)):\n",
    "        for j in range(len(world[i])):\n",
    "            dic[(i,j)] = world[i][j]\n",
    "    \n",
    "    visited = {}\n",
    "    for location in dic:\n",
    "        if dic[location] == 0:\n",
    "            visited[location] = False\n",
    "        elif dic[location] == 1:\n",
    "            visited[location] = False\n",
    "            \n",
    "    num_of_island = 0    \n",
    "    for location in dic:\n",
    "        if visited[location] == False and dic[location]==1:\n",
    "            #print(\"new loop location\",location)\n",
    "            Find1(dic,location,visited)\n",
    "            num_of_island += 1\n",
    "            \n",
    "            \n",
    "    return num_of_island\n",
    "    \n",
    "    \n",
    "    \n",
    "    \n",
    "    "
   ]
  },
  {
   "cell_type": "code",
   "execution_count": 2,
   "metadata": {},
   "outputs": [
    {
     "data": {
      "text/plain": [
       "1"
      ]
     },
     "execution_count": 2,
     "metadata": {},
     "output_type": "execute_result"
    }
   ],
   "source": [
    "%run P3.py\n",
    "P3([[1,1,1,1,0],\n",
    " [1,0,0,1,0],\n",
    " [1,1,0,1,0],\n",
    " [1,1,0,0,0]])"
   ]
  },
  {
   "cell_type": "code",
   "execution_count": 3,
   "metadata": {},
   "outputs": [
    {
     "data": {
      "text/plain": [
       "3"
      ]
     },
     "execution_count": 3,
     "metadata": {},
     "output_type": "execute_result"
    }
   ],
   "source": [
    "P3([[1,1,0,0,0],\n",
    " [1,1,0,0,0],\n",
    " [0,0,1,1,0],\n",
    " [0,0,0,0,1]])\n"
   ]
  },
  {
   "cell_type": "code",
   "execution_count": 4,
   "metadata": {},
   "outputs": [
    {
     "data": {
      "text/plain": [
       "1"
      ]
     },
     "execution_count": 4,
     "metadata": {},
     "output_type": "execute_result"
    }
   ],
   "source": [
    "P3([[1,1,1,1,1],\n",
    " [1,1,1,1,1],\n",
    " [1,1,1,1,1],\n",
    " [1,1,1,1,1]])"
   ]
  },
  {
   "cell_type": "code",
   "execution_count": 5,
   "metadata": {},
   "outputs": [
    {
     "data": {
      "text/plain": [
       "4"
      ]
     },
     "execution_count": 5,
     "metadata": {},
     "output_type": "execute_result"
    }
   ],
   "source": [
    "P3([[1,0,0,0,1],\n",
    " [1,1,0,0,0],\n",
    " [0,0,0,1,1],\n",
    " [0,1,0,1,0]])"
   ]
  },
  {
   "cell_type": "code",
   "execution_count": 6,
   "metadata": {},
   "outputs": [
    {
     "data": {
      "text/plain": [
       "2"
      ]
     },
     "execution_count": 6,
     "metadata": {},
     "output_type": "execute_result"
    }
   ],
   "source": [
    "P3([[1],\n",
    " [0],\n",
    " [1],\n",
    " [1]])"
   ]
  },
  {
   "cell_type": "code",
   "execution_count": 7,
   "metadata": {},
   "outputs": [
    {
     "data": {
      "text/plain": [
       "2"
      ]
     },
     "execution_count": 7,
     "metadata": {},
     "output_type": "execute_result"
    }
   ],
   "source": [
    "P3([[1,0,0,0,1]])"
   ]
  },
  {
   "cell_type": "code",
   "execution_count": null,
   "metadata": {},
   "outputs": [],
   "source": []
  },
  {
   "cell_type": "markdown",
   "metadata": {},
   "source": [
    "# P4.\n",
    "\n",
    "루피가 보물을 찾으려 한다. 루피의 위치와 보물의 위치는 수직선 위의 점으로 표현된다. 루피는 걷거나 점프를 할\n",
    "수 있다. \n",
    "\n",
    "루피의 현재 위치가 X 일 때 걷는다면 1 초 뒤에 X+1 또는 X-1 로 갈 수 있고, 점프를 하면 1 초 뒤에 2*X 로\n",
    "갈 수 있다. \n",
    "\n",
    "남들이 보물을 찾기 전에 빨리 찾아야 한다. 가장 빠르게 찾을 때, 몇 초 만에 보물이 있는 곳에 도달할\n",
    "수 있는 지 걸린 시간을 return 하는 함수를 구현하시오.\n",
    "\n",
    "⚫ 함수의 입력으로 루피의 현재 위치 L 과 보물의 위치 T 를 입력받는다.\n",
    "\n",
    "◼ 0 <= L <= 100000, 0 <= T <= 100000, L 과 T 는 정수\n"
   ]
  },
  {
   "cell_type": "markdown",
   "metadata": {},
   "source": [
    "## 해법:\n",
    "\n",
    "T//2-1, T//2, T//2 +1 모두로 가는 최단 경로를 구해야 한다. "
   ]
  },
  {
   "cell_type": "code",
   "execution_count": 115,
   "metadata": {},
   "outputs": [
    {
     "data": {
      "text/plain": [
       "43046721"
      ]
     },
     "execution_count": 115,
     "metadata": {},
     "output_type": "execute_result"
    }
   ],
   "source": [
    "# T에 대해서 T//2-1, T//2, T//2 +1 모든 경우의 trace를 만들어주는 함수필요\n",
    "def MakeAllTrace(T)->dict:\n",
    "    result = {}\n",
    "    \n",
    "\n",
    "\n",
    "\n",
    "\n",
    "\n",
    "#위의 아웃풋 각각에 대해서 최단 경로를 구하는 함수 필요.\n",
    "\n",
    "#trace 하나가 주어졌을 때, 최단경로 구하는 함수 필요.\n",
    "100000//2**16\n",
    "3**16"
   ]
  },
  {
   "cell_type": "code",
   "execution_count": 1,
   "metadata": {},
   "outputs": [
    {
     "ename": "IndentationError",
     "evalue": "unexpected indent (<ipython-input-1-21d57ca21071>, line 2)",
     "output_type": "error",
     "traceback": [
      "\u001b[1;36m  File \u001b[1;32m\"<ipython-input-1-21d57ca21071>\"\u001b[1;36m, line \u001b[1;32m2\u001b[0m\n\u001b[1;33m    new_trace = []\u001b[0m\n\u001b[1;37m    ^\u001b[0m\n\u001b[1;31mIndentationError\u001b[0m\u001b[1;31m:\u001b[0m unexpected indent\n"
     ]
    }
   ],
   "source": [
    "#trace 가 [T,홀수1,홀수2,홀수3]꼴로 이루어지는 경우 이 중 1개로 가서 2배씩 해준 후에 -1 해주면 된다, \n",
    "    new_trace = []\n",
    "    for i in range(len(trace)):\n",
    "        if trace[i] % 2 == 0:\n",
    "            new_trace[i] = -1\n",
    "        elif trace[i] %2 ==1 :\n",
    "            new_trace[i] = trace[i]\n",
    "            \n",
    "    new_time = []\n",
    "    for i in range(len(trace)_new):\n",
    "        if trace_new[i] = -1:\n",
    "            new_time[i] = -1\n",
    "        elif trace_new[i] >0 :\n",
    "            #예를들어 (31,15,7,3)이라면 31에 도달하는 시간은 8에 도달하는 시간 + jump, jump, -1 (총3초)\n",
    "            new_time[i] = FindTime(L,trace_new[i]+1) +1\n",
    "            \n",
    "    for i in range(len(trace_new)-1,0,-1):\n",
    "        for j in range(i,-1,-1):\n",
    "            if trace_new[j] > 0 and trace_new[j-1]> 0:\n",
    "                trace_new[j-1] = min(trace_new[j-1], trace_new[j]+1)\n",
    "                "
   ]
  },
  {
   "cell_type": "code",
   "execution_count": null,
   "metadata": {},
   "outputs": [],
   "source": [
    "def P4(L:int, T:int)->int:\n",
    "    \n",
    "    #1)T의 위치를 2로 계속 나누어 저장한다.\n",
    "    trace = []\n",
    "    Q = T\n",
    "    while Q > 0:\n",
    "        trace.append(Q)\n",
    "        Q = Q//2\n",
    "    \n",
    "    #2)T의 위치를 2로 나눈 수들 중 하나로 L이 가장빨리 도달하는 방법을 찾는다.\n",
    "    #2-1) 2배씩 가다가 목표지점 넘어가기 전부터는 1씩 걸어가는것\n",
    "    TimeList_notover = []\n",
    "    for i in range(len(trace)):\n",
    "        if trace[i]<L:\n",
    "            TimeList_notover.append(L-trace[i])\n",
    "        \n",
    "        elif trace[i] ==L:\n",
    "            TimeList_notover.append(0)\n",
    "        \n",
    "        elif trace[i] > L:\n",
    "            target = trace[i]\n",
    "            now = L\n",
    "            time = 0\n",
    "            while target >= 2*now:\n",
    "                now = 2*now\n",
    "                time += 1\n",
    "            time += target - now\n",
    "            TimeList_notover.append(time)\n",
    "            \n",
    "    #2-2) 1씩걸어가다가 2배했을 때 목표지점 넘어가면 넘어간 후 뒤로 걸어서 목표지점가기\n",
    "    TimeList_over = []\n",
    "    for i in range(len(trace)):\n",
    "        if trace[i]<L:\n",
    "            TimeList_over.append(L-trace[i])\n",
    "        \n",
    "        elif trace[i] == L:\n",
    "            TimeList_over.append(0)\n",
    "            \n",
    "        elif trace[i]>L:\n",
    "            traget = trace[i]\n",
    "            now = L\n",
    "            time = 0\n",
    "            while target >= 2*now:\n",
    "                now += 1\n",
    "                time += 1\n",
    "            #jump\n",
    "            #1)\n",
    "            if 2*now == target:\n",
    "                now = 2*now\n",
    "                time +=1\n",
    "                TimeList_over.append(time)\n",
    "\n",
    "            #2)\n",
    "            elif 2*(now+1) > target:\n",
    "                now += 1\n",
    "                time += 1\n",
    "                now = 2*now\n",
    "                time += 1\n",
    "                \n",
    "                #walk to target\n",
    "                time += now - target\n",
    "                #save\n",
    "                TimeList_over.append(time)\n",
    "            \n",
    "    \n",
    "    #2-3) find minimum value: compare TimeList_notover with TimeList_over\n",
    "    TimeList = []\n",
    "    for i in range(len(TimeList_notover)):\n",
    "        if TimeList_notover[i] <= TimeList_over[i]:\n",
    "            TimeList.append(TimeList_notover[i])\n",
    "        elif TimeList_notover[i] > TimeList_over[i]:\n",
    "            TimeList.append(TimeList_over[i])\n",
    "    \n",
    "    #3) 2에서 찾은 위치로 L을 옮기고, 그 후 T로 옮긴다.\n",
    "    ResultTimeList = []\n",
    "    ResultTimeList.append(TimeList[0])\n",
    "    if len(trace) > 1:\n",
    "        for i in range(1,len(trace)):\n",
    "            curtime = TimeList[i]\n",
    "            during = 0\n",
    "            for j in range(i,0,-1):\n",
    "                if trace[j-1]%trace[j] == 0:\n",
    "                    curtime += 1\n",
    "                    during += 1\n",
    "                elif trace[j-1]%trace[j] == 1:\n",
    "                    curtime += 2\n",
    "                    during += 2\n",
    "                #print('this is :',\"i is\",i, \"and\", trace[i], \"to\", trace[0], \"curtiem is\",during)\n",
    "            ResultTimeList.append(curtime)\n",
    "   \n",
    "    print(trace,TimeList,ResultTimeList)    \n",
    "    Min = min(ResultTimeList)\n",
    "    \n",
    "    return Min \n"
   ]
  },
  {
   "cell_type": "code",
   "execution_count": 3,
   "metadata": {},
   "outputs": [],
   "source": [
    "def P4(L:int, T:int)->int:\n",
    "    \n",
    "    #1)T의 위치를 2로 계속 나누어 저장한다.\n",
    "    trace = []\n",
    "    Q = T\n",
    "    while Q > 0:\n",
    "        trace.append(Q)\n",
    "        Q = Q//2\n",
    "    \n",
    "    #2)T의 위치를 2로 나눈 수들 중 하나로 L이 가장빨리 도달하는 방법을 찾는다.\n",
    "    #2-1) 2배씩 가다가 목표지점 넘어가기 전부터는 1씩 걸어가는것\n",
    "    TimeList_notover = []\n",
    "    for i in range(len(trace)):\n",
    "        if trace[i]<L:\n",
    "            TimeList_notover.append(L-trace[i])\n",
    "        \n",
    "        elif trace[i] ==L:\n",
    "            TimeList_notover.append(0)\n",
    "        \n",
    "        elif trace[i] > L:\n",
    "            target = trace[i]\n",
    "            now = L\n",
    "            time = 0\n",
    "            while target >= 2*now:\n",
    "                now = 2*now\n",
    "                time += 1\n",
    "            time += target - now\n",
    "            TimeList_notover.append(time)\n",
    "            \n",
    "    #아래짝수에서 위 홀수로 올라가는 경우 계산해주자.\n",
    "    new1_time = TimeList_notover[:]\n",
    "    for i in range(len(trace)-1,0,-1):\n",
    "        for j in range(i,-1,-1):\n",
    "            if trace[j] %2== 1 and trace[j-1]%2==1> 0:\n",
    "                new1_time[j-1] = min(new1_time[j-1], new1_time[j]+3)    \n",
    "    \n",
    "    TimeResult1 =[]\n",
    "    for i in range(len(new1_time)):\n",
    "        TimeResult1.append(min(TimeList_notover[i],new1_time[i]))\n",
    "            \n",
    "            \n",
    "            \n",
    "    #2-2) 1씩걸어가다가 2배했을 때 목표지점 넘어가면 넘어간 후 뒤로 걸어서 목표지점가기\n",
    "    TimeList_over = []\n",
    "    for i in range(len(trace)):\n",
    "        if trace[i]<L:\n",
    "            TimeList_over.append(L-trace[i])\n",
    "        \n",
    "        elif trace[i] == L:\n",
    "            TimeList_over.append(0)\n",
    "            \n",
    "        elif trace[i]>L:\n",
    "            traget = trace[i]\n",
    "            now = L\n",
    "            time = 0\n",
    "            while target >= 2*now:\n",
    "                now += 1\n",
    "                time += 1\n",
    "            #jump\n",
    "            #1)\n",
    "            if 2*now == target:\n",
    "                now = 2*now\n",
    "                time +=1\n",
    "                TimeList_over.append(time)\n",
    "\n",
    "            #2)\n",
    "            elif 2*(now+1) > target:\n",
    "                now += 1\n",
    "                time += 1\n",
    "                now = 2*now\n",
    "                time += 1\n",
    "                \n",
    "                #walk to target\n",
    "                time += now - target\n",
    "                #save\n",
    "                TimeList_over.append(time)\n",
    "    \n",
    "    #위짝수에서 아래 홀수로 내려간 경우\n",
    "    new2_time = TimeList_over[:]\n",
    "    for i in range(len(trace)-1,0,-1):\n",
    "        for j in range(i,-1,-1):\n",
    "            if trace[j] %2== 1 and trace[j-1]%2==1> 0:\n",
    "                new2_time[j-1] = min(new2_time[j-1], new2_time[j]+1)    \n",
    "    \n",
    "    TimeResult2 =[]\n",
    "    for i in range(len(new2_time)):\n",
    "        TimeResult2.append(min(TimeList_over[i],new2_time[i]))\n",
    "    \n",
    "    \n",
    "    \n",
    "    \n",
    "    #2-3) find minimum value: compare TimeList_notover with TimeList_over\n",
    "    TimeList = []\n",
    "    for i in range(len(TimeList_notover)):\n",
    "        TimeList.append(min(TimeResult1[i],TimeResult2[i]))\n",
    "    \n",
    "    \n",
    "    \n",
    "    #3) 2에서 찾은 위치로 L을 옮기고, 그 후 T로 옮긴다.\n",
    "    ResultTimeList = []\n",
    "    ResultTimeList.append(TimeList[0])\n",
    "    if len(trace) > 1:\n",
    "        for i in range(1,len(trace)):\n",
    "            curtime = TimeList[i]\n",
    "            during = 0\n",
    "            for j in range(i,0,-1):\n",
    "                if trace[j-1]%trace[j] == 0:\n",
    "                    curtime += 1\n",
    "                    during += 1\n",
    "                elif trace[j-1]%trace[j] == 1:\n",
    "                    curtime += 2\n",
    "                    during += 2\n",
    "                #print('this is :',\"i is\",i, \"and\", trace[i], \"to\", trace[0], \"curtiem is\",during)\n",
    "            ResultTimeList.append(curtime)\n",
    "   \n",
    "    print(trace,TimeList,ResultTimeList)    \n",
    "    Min = min(ResultTimeList)\n",
    "    \n",
    "    return Min \n",
    "\n",
    "\n"
   ]
  },
  {
   "cell_type": "markdown",
   "metadata": {},
   "source": [
    "# 아래가 최종본.....아..덕지덕지..."
   ]
  },
  {
   "cell_type": "code",
   "execution_count": 105,
   "metadata": {},
   "outputs": [],
   "source": [
    "def P4(L:int, T:int)->int:\n",
    "    \n",
    "    #1)T의 위치를 2로 계속 나누어 저장한다.\n",
    "    trace = []\n",
    "    Q = T\n",
    "    while Q > 0:\n",
    "        trace.append(Q)\n",
    "        Q = Q//2\n",
    "    \n",
    "    #2)T의 위치를 2로 나눈 수들 중 하나로 L이 가장빨리 도달하는 방법을 찾는다.\n",
    "    #2-1) 2배씩 가다가 목표지점 넘어가기 전부터는 1씩 걸어가는것\n",
    "    TimeList_notover = []\n",
    "    for i in range(len(trace)):\n",
    "        if trace[i]<L:\n",
    "            TimeList_notover.append(L-trace[i])\n",
    "        \n",
    "        elif trace[i] ==L:\n",
    "            TimeList_notover.append(0)\n",
    "        \n",
    "        elif trace[i] > L:\n",
    "            target = trace[i]\n",
    "            now = L\n",
    "            time = 0\n",
    "            while target >= 2*now:\n",
    "                now = 2*now\n",
    "                time += 1\n",
    "            time += target - now\n",
    "            TimeList_notover.append(time)\n",
    "  \n",
    "    #아래짝수에서 위 홀수로 올라가는 경우 계산해주자.\n",
    "    new1_time = TimeList_notover[:]\n",
    "    for i in range(len(trace)-1,0,-1):\n",
    "        if trace[i] %2 ==0 and trace[i-1]%2 ==1:\n",
    "            j=1\n",
    "            while (i-j>=0 and trace[i-j]%2 ==1):\n",
    "                j+=1\n",
    "                \n",
    "            j -= 1    \n",
    "            new1_time[i-j] = min(new1_time[i-j],new1_time[i]+2+j)\n",
    "            \n",
    "        elif trace[i] %2 ==1:\n",
    "            j = 1\n",
    "            while(i-j>=0 and trace[i-j]%2==1):\n",
    "                j+=1\n",
    "            j -= 1    \n",
    "             \n",
    "            new1_time[i-j] = min(new1_time[i-j],new1_time[i]+2+j)\n",
    "            \n",
    "            \n",
    "    \n",
    "    TimeResult1 =[]\n",
    "    for i in range(len(new1_time)):\n",
    "        TimeResult1.append(min(TimeList_notover[i],new1_time[i]))\n",
    "            \n",
    "            \n",
    "            \n",
    "    #2-2) 1씩걸어가다가 2배했을 때 목표지점 넘어가면 넘어간 후 뒤로 걸어서 목표지점가기\n",
    "    TimeList_over = []\n",
    "    for i in range(len(trace)):\n",
    "        if trace[i]<L:\n",
    "            TimeList_over.append(L-trace[i])\n",
    "        \n",
    "        elif trace[i] == L:\n",
    "            TimeList_over.append(0)\n",
    "            \n",
    "        elif trace[i]>L:\n",
    "            traget = trace[i]\n",
    "            now = L\n",
    "            time = 0\n",
    "            while target >= 2*now:\n",
    "                now += 1\n",
    "                time += 1\n",
    "            #jump\n",
    "            #1)\n",
    "            if 2*now == target:\n",
    "                now = 2*now\n",
    "                time +=1\n",
    "                TimeList_over.append(time)\n",
    "\n",
    "            #2)\n",
    "            elif 2*(now+1) > target:\n",
    "                now += 1\n",
    "                time += 1\n",
    "                now = 2*now\n",
    "                time += 1\n",
    "                \n",
    "                #walk to target\n",
    "                time += now - target\n",
    "                #save\n",
    "                TimeList_over.append(time)\n",
    "    \n",
    "    \n",
    "    #위짝수에서 아래 홀수로 내려간 경우\n",
    "    new2_time = TimeList_over[:]\n",
    "    for i in range(len(trace)-1,0,-1):\n",
    "        if trace[i] %2 ==0 and trace[i-1]%2 ==1:\n",
    "            j=1\n",
    "            while (i-j>=0 and trace[i-j]%2 ==1):\n",
    "                j+=1\n",
    "                \n",
    "            j -= 1  \n",
    "  \n",
    "            new2_time[i-j] = min(new2_time[i-j],new2_time[i]+j)\n",
    "        \n",
    "        \n",
    "        \n",
    "    \n",
    "        elif trace[i] % 2 == 1:\n",
    "            j = 1\n",
    "            while(i-j>=0 and trace[i-j]%2==1):\n",
    "                j+=1\n",
    "            j -= 1    \n",
    "             \n",
    "            new2_time[i-j] = min(new2_time[i-j],new2_time[i]+j)\n",
    "    \n",
    "            \n",
    "    \n",
    "    TimeResult2 =[]\n",
    "    for i in range(len(new2_time)):\n",
    "        TimeResult2.append(min(TimeList_over[i],new2_time[i]))\n",
    "    \n",
    "    \n",
    "    \n",
    "    \n",
    "    #2-3) find minimum value: compare TimeList_notover with TimeList_over\n",
    "    TimeList = []\n",
    "    for i in range(len(TimeList_notover)):\n",
    "        TimeList.append(min(TimeResult1[i],TimeResult2[i]))\n",
    "    \n",
    "    \n",
    "    #자신이 짝수이고, 그 다음에 홀수가 이어질 때 예) 2->5->11->23->47... 이럴 때 2에서 끝에 연결된 홀수까지 빨리가는 시간.\n",
    "    TimeList2 = TimeList[:]\n",
    "    for i in range(len(TimeList2)-1,-1,-1):\n",
    "        if trace[i] %2 ==0:\n",
    "            #j is number of continuous even number before trace[i]\n",
    "            j = 1\n",
    "            while(i-j>=0 and trace[i-j+1]%2 == 0 and trace[i-j]%2 == 0):\n",
    "                j += 1\n",
    "            \n",
    "            j -= 1\n",
    "            \n",
    "            #k is number of continuous odd number before last even number\n",
    "            k =1\n",
    "            while (i-j-k>=0 and trace[i-j-k]%2==1):\n",
    "                k +=1\n",
    "                \n",
    "            k -=1\n",
    "            TimeList2[i-j-k] = min(TimeList2[i-j-k],TimeList[i]+j+k+2)\n",
    "            \n",
    "  \n",
    "    TimeList = TimeList2\n",
    "    \n",
    "    #-1씩 빼가며 뒤로 갔을 때 뒤로 정착하려는 곳이 짝수이고,\n",
    "    #그보다 큰 수가 짝수 홀수 홀수 홀수 ...인경우(L=123 ->96 ->192 ->홀수 ->홀수...) 이때 96까지 안가고, 97까지 가서 개수세기.\n",
    "    TimeList2 = TimeList[:]\n",
    "    for i in range(len(trace)-1,0,-1):\n",
    "        if trace[i] < L:\n",
    "            #j는 자신 앞에 있는 홀수의 개수\n",
    "            \n",
    "            if i-2>=0 and trace[i]%2==0 and trace[i-1]%2 == 0 and trace[i-2]%2==1:\n",
    "                j=1\n",
    "                while(i-2-j>=0 and trace[i-2-j]%2==1):\n",
    "                    j+=1\n",
    "                \n",
    "                if j>=2:\n",
    "                    TimeList2[i-1-j] = min(TimeList2[i-1-j],TimeList2[i]+j+2)\n",
    "                   \n",
    "          \n",
    "    TimeList = TimeList2\n",
    "    \n",
    "    \n",
    "    \n",
    "    \n",
    "    \n",
    "    #3) 2에서 찾은 위치로 L을 옮기고, 그 후 T로 옮긴다.\n",
    "    ResultTimeList = []\n",
    "    ResultTimeList.append(TimeList[0])\n",
    "    if len(trace) > 1:\n",
    "        for i in range(1,len(trace)):\n",
    "            curtime = TimeList[i]\n",
    "            during = 0\n",
    "            for j in range(i,0,-1):\n",
    "                if trace[j-1]%trace[j] == 0:\n",
    "                    curtime += 1\n",
    "                    during += 1\n",
    "                elif trace[j-1]%trace[j] == 1:\n",
    "                    curtime += 2\n",
    "                    during += 2\n",
    "                #print('this is :',\"i is\",i, \"and\", trace[i], \"to\", trace[0], \"curtiem is\",during)\n",
    "            ResultTimeList.append(curtime)\n",
    "   \n",
    " \n",
    "    Min = min(ResultTimeList)\n",
    "    \n",
    "    return Min \n"
   ]
  },
  {
   "cell_type": "code",
   "execution_count": null,
   "metadata": {},
   "outputs": [],
   "source": []
  },
  {
   "cell_type": "code",
   "execution_count": 2,
   "metadata": {},
   "outputs": [
    {
     "data": {
      "text/plain": [
       "4"
      ]
     },
     "execution_count": 2,
     "metadata": {},
     "output_type": "execute_result"
    }
   ],
   "source": [
    "%run P4.py\n",
    "P4(5, 17)"
   ]
  },
  {
   "cell_type": "code",
   "execution_count": 3,
   "metadata": {},
   "outputs": [
    {
     "data": {
      "text/plain": [
       "7"
      ]
     },
     "execution_count": 3,
     "metadata": {},
     "output_type": "execute_result"
    }
   ],
   "source": [
    "P4(8, 1)"
   ]
  },
  {
   "cell_type": "code",
   "execution_count": 4,
   "metadata": {},
   "outputs": [
    {
     "data": {
      "text/plain": [
       "0"
      ]
     },
     "execution_count": 4,
     "metadata": {},
     "output_type": "execute_result"
    }
   ],
   "source": [
    "P4(100, 100)"
   ]
  },
  {
   "cell_type": "code",
   "execution_count": 5,
   "metadata": {},
   "outputs": [
    {
     "data": {
      "text/plain": [
       "36"
      ]
     },
     "execution_count": 5,
     "metadata": {},
     "output_type": "execute_result"
    }
   ],
   "source": [
    "P4(123, 12345)\n"
   ]
  },
  {
   "cell_type": "code",
   "execution_count": 9,
   "metadata": {},
   "outputs": [
    {
     "data": {
      "text/plain": [
       "492"
      ]
     },
     "execution_count": 9,
     "metadata": {},
     "output_type": "execute_result"
    }
   ],
   "source": [
    "246*2"
   ]
  },
  {
   "cell_type": "code",
   "execution_count": 10,
   "metadata": {},
   "outputs": [
    {
     "data": {
      "text/plain": [
       "984"
      ]
     },
     "execution_count": 10,
     "metadata": {},
     "output_type": "execute_result"
    }
   ],
   "source": [
    "492*2"
   ]
  },
  {
   "cell_type": "code",
   "execution_count": 11,
   "metadata": {},
   "outputs": [
    {
     "data": {
      "text/plain": [
       "1968"
      ]
     },
     "execution_count": 11,
     "metadata": {},
     "output_type": "execute_result"
    }
   ],
   "source": [
    "984*2"
   ]
  },
  {
   "cell_type": "code",
   "execution_count": 12,
   "metadata": {},
   "outputs": [
    {
     "data": {
      "text/plain": [
       "3936"
      ]
     },
     "execution_count": 12,
     "metadata": {},
     "output_type": "execute_result"
    }
   ],
   "source": [
    "1968*2"
   ]
  },
  {
   "cell_type": "code",
   "execution_count": null,
   "metadata": {},
   "outputs": [],
   "source": []
  }
 ],
 "metadata": {
  "kernelspec": {
   "display_name": "Python 3",
   "language": "python",
   "name": "python3"
  },
  "language_info": {
   "codemirror_mode": {
    "name": "ipython",
    "version": 3
   },
   "file_extension": ".py",
   "mimetype": "text/x-python",
   "name": "python",
   "nbconvert_exporter": "python",
   "pygments_lexer": "ipython3",
   "version": "3.9.1"
  }
 },
 "nbformat": 4,
 "nbformat_minor": 5
}
