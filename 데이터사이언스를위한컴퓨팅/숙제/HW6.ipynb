{
 "cells": [
  {
   "cell_type": "markdown",
   "id": "cutting-wells",
   "metadata": {},
   "source": [
    "# 1\n",
    "P1.\n",
    "In this exercise, you will implement class Country, which represents a country with a name, a\n",
    "population, and an area.\n",
    "a. Here is a sample interaction from the Python shell:\n",
    "#>>> canada = Country('Canada', 34482779, 9984670)\n",
    "#>>> canada.name\n",
    "'Canada'\n",
    "#>>> canada.population\n",
    "34482779\n",
    "#>>> canada.area\n",
    "9984670\n",
    "Implement Country with a constructor (method __init__) that has three parameters: its name, its\n",
    "population, and its area.\n"
   ]
  },
  {
   "cell_type": "code",
   "execution_count": 1,
   "id": "reliable-treasure",
   "metadata": {},
   "outputs": [],
   "source": [
    "class Country:\n",
    "    def __init__(self, name, population, area):\n",
    "        self.name = name\n",
    "        self.population = population\n",
    "        self.area = area\n",
    "    \n",
    "    def is_larger(self, other):\n",
    "        if self.area > other.area:\n",
    "            return True\n",
    "        else:\n",
    "            return False\n",
    "    \n",
    "    def population_density(self):\n",
    "        return self.population/self.area\n"
   ]
  },
  {
   "cell_type": "code",
   "execution_count": 2,
   "id": "compact-greek",
   "metadata": {},
   "outputs": [],
   "source": [
    "canada = Country('Canada', 34482779, 9984670)\n",
    "canada2 = Country('Canada2', 344827792, 99846702)"
   ]
  },
  {
   "cell_type": "code",
   "execution_count": 9,
   "id": "little-chuck",
   "metadata": {},
   "outputs": [
    {
     "data": {
      "text/plain": [
       "3.4535722262227995"
      ]
     },
     "execution_count": 9,
     "metadata": {},
     "output_type": "execute_result"
    }
   ],
   "source": [
    "canada.population_density()"
   ]
  },
  {
   "cell_type": "markdown",
   "id": "social-causing",
   "metadata": {},
   "source": [
    "# 2\n",
    "In this exercise, you will implement a Continent class, which represents a continent with a name and a\n",
    "list of countries. Class Continent will use class Country from the previous exercise.\n",
    "(P1.py 와 P2.py 가 같은 경로에 있어야함)\n",
    "a. Here is a sample interaction from the Python shell:\n",
    "#>>>canada=Country('Canada', 34482779, 9984670)\n",
    "#>>>usa=Country('United States of America', 313914040, 9826675)\n",
    "#>>>mexico=Country('Mexico', 112336538, 1943950)\n",
    "#>>>countries= [canada, usa, mexico]\n",
    "#>>>north_america=Continent('North America', countries)\n",
    "#>>>north_america.name\n",
    "#'North America'"
   ]
  },
  {
   "cell_type": "code",
   "execution_count": 10,
   "id": "synthetic-chest",
   "metadata": {},
   "outputs": [],
   "source": [
    "class Continent:\n",
    "    def __init__(self, name, countries):\n",
    "        self.name = name\n",
    "        self.countries = countries\n",
    "        \n",
    "    def total_population(self):\n",
    "        answer = 0\n",
    "        for country in self.countries:\n",
    "            answer += country.population\n",
    "        return answer"
   ]
  },
  {
   "cell_type": "code",
   "execution_count": 12,
   "id": "homeless-tackle",
   "metadata": {},
   "outputs": [
    {
     "data": {
      "text/plain": [
       "460733357"
      ]
     },
     "execution_count": 12,
     "metadata": {},
     "output_type": "execute_result"
    }
   ],
   "source": [
    "canada=Country('Canada', 34482779, 9984670)\n",
    "usa=Country('United States of America', 313914040, 9826675)\n",
    "mexico=Country('Mexico', 112336538, 1943950)\n",
    "countries= [canada, usa, mexico]\n",
    "north_america=Continent('North America', countries)\n",
    "north_america.total_population()"
   ]
  },
  {
   "cell_type": "code",
   "execution_count": 13,
   "id": "apparent-dispute",
   "metadata": {},
   "outputs": [
    {
     "data": {
      "text/plain": [
       "460733357"
      ]
     },
     "execution_count": 13,
     "metadata": {},
     "output_type": "execute_result"
    }
   ],
   "source": [
    "34482779+313914040+112336538"
   ]
  },
  {
   "cell_type": "markdown",
   "id": "intimate-impression",
   "metadata": {},
   "source": [
    "# 3\n",
    "Point 클래스는 다음과 같이 x 좌표와 y 좌표를 입력 받는다.\n",
    "class Point:\n",
    " def __init__(self, x, y):\n",
    " self.x = x # x 좌표\n",
    " self.y = y # y 좌표\n",
    "Shape 클래스는 다음과 같이 Point 4 개를 입력 받는다.\n",
    "class Shape:\n",
    " def __init__(self, p1, p2, p3, p4):\n",
    " self.p1 = p1\n",
    " self.p2 = p2\n",
    " self.p3 = p3\n",
    " self.p4 = p4\n",
    "\n",
    " def is_square(self): # 점 4 개가 정사각형을 이루는 지 판별\n",
    "\n",
    " # return: boolean\n",
    "입력 받은 4 개의 점이 정사각형을 이루면 True 를, 그렇지 않으면 False 를 return 하는 is_square\n",
    "method 를 구현하시오.\n",
    "• 점의 좌표는 모두 정수이다.\n",
    "• 동일한 점일 수도 있다.\n",
    "• 클래스 내부 혹은 외부에 다른 함수를 구현하고 이용해도 상관없다."
   ]
  },
  {
   "cell_type": "code",
   "execution_count": 20,
   "id": "herbal-press",
   "metadata": {},
   "outputs": [],
   "source": [
    "class Point:\n",
    "    def __init__(self, x, y):\n",
    "        self.x = x\n",
    "        self.y = y\n",
    "\n",
    "class Shape:\n",
    "    def __init__(self, p1, p2, p3, p4):\n",
    "        self.p1 = p1\n",
    "        self.p2 = p2\n",
    "        self.p3 = p3\n",
    "        self.p4 = p4\n",
    "    \n",
    "    def is_square(self):\n",
    "        length_list = []\n",
    "        length_list.append( (self.p1.x - self.p2.x)**2+(self.p1.y - self.p2.y)**2 )\n",
    "        length_list.append( (self.p1.x - self.p3.x)**2+(self.p1.y - self.p3.y)**2 )\n",
    "        length_list.append( (self.p1.x - self.p4.x)**2+(self.p1.y - self.p4.y)**2 )\n",
    "        length_list.append( (self.p2.x - self.p3.x)**2+(self.p2.y - self.p3.y)**2 )\n",
    "        length_list.append( (self.p2.x - self.p4.x)**2+(self.p2.y - self.p4.y)**2 )\n",
    "        length_list.append( (self.p3.x - self.p4.x)**2+(self.p3.y - self.p4.y)**2 )\n",
    "        length_list.sort()\n",
    "        if length_list[0] == 0:\n",
    "            return False\n",
    "        \n",
    "        else:\n",
    "            if length_list[0] == length_list[1] == length_list[2] == length_list[3] and length_list[3] !=length_list[4] and length_list[4] == length_list[5]:\n",
    "                return True\n",
    "            else:\n",
    "                return False\n",
    "        \n",
    "        "
   ]
  },
  {
   "cell_type": "code",
   "execution_count": 18,
   "id": "cellular-japanese",
   "metadata": {},
   "outputs": [],
   "source": [
    " p1 = Point(0,0)\n",
    "p2 = Point(1,1)\n",
    "p3 = Point(1,0)\n",
    "p4 = Point(0,1)\n",
    "s = Shape(p1, p2, p3, p4)\n",
    "s.is_square()\n",
    "True\n",
    "예시 2.\n",
    "p1 = Point(1, 1)\n",
    "p2 = Point(3, 1)\n",
    "p3 = Point(3, 3)\n",
    "p4 = Point(5, 1)\n",
    "s = Shape(p1, p2, p3, p4)\n",
    "s.is_square()\n",
    "False\n",
    "예시 3.\n",
    "p1 = Point(-1, 0)\n",
    "p2 = Point(1, 0)\n",
    "p3 = Point(0, 1)\n",
    "p4 = Point(0, -1)\n",
    "s = Shape(p1, p2, p3, p4)\n",
    "s.is_square()\n",
    "True\n",
    "예시 4.\n",
    "p1 = Point(-1, 0)\n",
    "p2 = Point(1, 0)\n",
    "p3 = Point(0, 1)\n",
    "p4 = Point(1, 0)\n",
    "s = Shape(p1, p2, p3, p4)\n",
    "s.is_square()"
   ]
  },
  {
   "cell_type": "code",
   "execution_count": 21,
   "id": "judicial-crossing",
   "metadata": {},
   "outputs": [
    {
     "data": {
      "text/plain": [
       "True"
      ]
     },
     "execution_count": 21,
     "metadata": {},
     "output_type": "execute_result"
    }
   ],
   "source": [
    "p1 = Point(0,0)\n",
    "p2 = Point(1,1)\n",
    "p3 = Point(1,0)\n",
    "p4 = Point(0,1)\n",
    "s = Shape(p1, p2, p3, p4)\n",
    "s.is_square()"
   ]
  },
  {
   "cell_type": "code",
   "execution_count": 22,
   "id": "improving-heath",
   "metadata": {},
   "outputs": [
    {
     "data": {
      "text/plain": [
       "False"
      ]
     },
     "execution_count": 22,
     "metadata": {},
     "output_type": "execute_result"
    }
   ],
   "source": [
    "p1 = Point(1, 1)\n",
    "p2 = Point(3, 1)\n",
    "p3 = Point(3, 3)\n",
    "p4 = Point(5, 1)\n",
    "s = Shape(p1, p2, p3, p4)\n",
    "s.is_square()"
   ]
  },
  {
   "cell_type": "code",
   "execution_count": 23,
   "id": "suburban-purple",
   "metadata": {},
   "outputs": [
    {
     "data": {
      "text/plain": [
       "True"
      ]
     },
     "execution_count": 23,
     "metadata": {},
     "output_type": "execute_result"
    }
   ],
   "source": [
    "p1 = Point(-1, 0)\n",
    "p2 = Point(1, 0)\n",
    "p3 = Point(0, 1)\n",
    "p4 = Point(0, -1)\n",
    "s = Shape(p1, p2, p3, p4)\n",
    "s.is_square()"
   ]
  },
  {
   "cell_type": "code",
   "execution_count": 24,
   "id": "superior-summit",
   "metadata": {},
   "outputs": [
    {
     "data": {
      "text/plain": [
       "False"
      ]
     },
     "execution_count": 24,
     "metadata": {},
     "output_type": "execute_result"
    }
   ],
   "source": [
    "p1 = Point(-1, 0)\n",
    "p2 = Point(1, 0)\n",
    "p3 = Point(0, 1)\n",
    "p4 = Point(1, 0)\n",
    "s = Shape(p1, p2, p3, p4)\n",
    "s.is_square()"
   ]
  },
  {
   "cell_type": "markdown",
   "id": "stable-fantasy",
   "metadata": {},
   "source": [
    "# 4\n",
    "def __init__(self):\n",
    "• 초기 상태는 ‘0’ 만 입력되어 있는 상태이다.\n",
    "• 필요한 변수를 정의해서 사용하면 된다.\n",
    "def digit(self, num): #계산기의 숫자 버튼\n",
    "• parameter num 을 받는다. num 은 0 부터 9 까지의 정수.\n",
    "• 동작은 숫자 num 버튼을 한 번 클릭하는 것이다. 만약 연속으로 클릭하게 된다면 차례대로\n",
    "숫자가 입력된다. 예를 들어, 3 -> 5 -> 1 을 클릭하면 ‘351’이라는 숫자가 입력되는 것이다.\n",
    "• 1 ~ 9 를 입력하기 전에 0 을 여러 번 클릭한 것은 0 을 한 번 클릭한 것과 같다.\n",
    "def plus(self): # 계산기의 + 버튼\n",
    "• 동작은 계산기의 +버튼을 한 번 클릭하는 것이다.\n",
    "• 연속으로 + 버튼 혹은 - 버튼을 누른다면, 최종적으로 입력되는 버튼은 가장 마지막에\n",
    "입력한 연산 버튼이다.\n",
    "def minus(self): # 계산기의 - 버튼\n",
    "• 동작은 계산기의 - 버튼을 한 번 클릭하는 것이다.\n",
    "• 연속으로 + 버튼 혹은 - 버튼을 누른다면, 최종적으로 입력되는 버튼은 가장 마지막에\n",
    "입력한 연산 버튼이다.\n",
    "def clear(self): # 계산기의 C 버튼\n",
    "• 동작은 계산기의 C 버튼을 한 번 클릭하는 것이다.\n",
    "• 클릭하면 초기상태 (0 만 입력된 상태)로 돌아간다.\n",
    "def equal(self): # 계산기의 = 버튼\n",
    "• 계산기의 = 버튼을 한 번 클릭하는 것이다.\n",
    "• 현재까지의 입력을 바탕으로 연산 결과를 return 해야 한다.\n",
    "• 숫자만 입력된 상태에서 = 버튼을 클릭하면 해당 숫자를 return 한다.\n",
    "• 연산 버튼 다음에 바로 = 버튼을 입력하는 경우는 없다.\n",
    "• 각각의 test case 에서 = 버튼은 딱 한 번 마지막에 클릭을 한다. 그 때의 return 값으로\n",
    "채점을 한다."
   ]
  },
  {
   "cell_type": "code",
   "execution_count": 47,
   "id": "listed-kitty",
   "metadata": {},
   "outputs": [],
   "source": [
    "class Calculator:\n",
    "    def __init__(self):\n",
    "        self.inputnum = []\n",
    "        self.operator = []\n",
    "        self.oncalculation = []\n",
    "        self.answer = 0\n",
    "        \n",
    "    def digit(self, num):\n",
    "        if self.operator == []:\n",
    "            self.inputnum.append(num)\n",
    "        elif self.operator[-1] == '+':\n",
    "            self.inputnum.append(num)\n",
    "        elif self.operator[-1] =='-':\n",
    "            self.inputnum.append(-num)\n",
    "            \n",
    "    #+,-,= 때마다 inputnum 에 있는 숫자들을 answer에 계산해서 반영해 줌\n",
    "    def plus(self):\n",
    "        self.operator.append('+')\n",
    "        self.oncalculation = self.inputnum[:]\n",
    "        self.inputnum = []\n",
    "        for i in range(len(self.oncalculation)):\n",
    "            self.answer += self.oncalculation[-i-1]*(10**i )    \n",
    "        self.oncalculation = []\n",
    "\n",
    "    def minus(self):\n",
    "        self.operator.append('-')\n",
    "        self.oncalculation = self.inputnum[:]\n",
    "        self.inputnum = []\n",
    "        for i in range(len(self.oncalculation)):\n",
    "            self.answer += self.oncalculation[-i-1]*(10**i )    \n",
    "        self.oncalculation = []        \n",
    "        \n",
    "    def clear(self):\n",
    "        self.inputnum = []\n",
    "        self.operator = []\n",
    "        self.oncalculation = []\n",
    "        self.answer = 0\n",
    "        \n",
    "    def equal(self):\n",
    "        self.oncalculation = self.inputnum[:]\n",
    "        self.inputnum = []\n",
    "        for i in range(len(self.oncalculation)):\n",
    "            self.answer += self.oncalculation[-i-1]*(10**i )      \n",
    "        self.oncalculation = []\n",
    "        return self.answer\n",
    "        "
   ]
  },
  {
   "cell_type": "code",
   "execution_count": 40,
   "id": "velvet-statistics",
   "metadata": {},
   "outputs": [],
   "source": [
    "a = Calculator()"
   ]
  },
  {
   "cell_type": "code",
   "execution_count": 41,
   "id": "persistent-welding",
   "metadata": {},
   "outputs": [
    {
     "name": "stdout",
     "output_type": "stream",
     "text": [
      "[-2, -3]\n"
     ]
    }
   ],
   "source": [
    "a.minus()\n",
    "a.digit(2)\n",
    "a.digit(3)\n",
    "print(a.inputnum)"
   ]
  },
  {
   "cell_type": "code",
   "execution_count": 48,
   "id": "referenced-canberra",
   "metadata": {},
   "outputs": [
    {
     "data": {
      "text/plain": [
       "-200"
      ]
     },
     "execution_count": 48,
     "metadata": {},
     "output_type": "execute_result"
    }
   ],
   "source": [
    "c = Calculator()\n",
    "c.digit(1)\n",
    "c.digit(2)\n",
    "c.plus()\n",
    "c.minus()\n",
    "c.digit(3)\n",
    "c.digit(1)\n",
    "c.digit(2)\n",
    "c.plus()\n",
    "c.minus()\n",
    "c.minus()\n",
    "c.plus()\n",
    "c.digit(0)\n",
    "c.digit(0)\n",
    "c.digit(1)\n",
    "c.digit(0)\n",
    "c.digit(0)\n",
    "c.equal()"
   ]
  },
  {
   "cell_type": "code",
   "execution_count": 49,
   "id": "sought-pension",
   "metadata": {},
   "outputs": [
    {
     "data": {
      "text/plain": [
       "49"
      ]
     },
     "execution_count": 49,
     "metadata": {},
     "output_type": "execute_result"
    }
   ],
   "source": [
    "c = Calculator()\n",
    "c.clear()\n",
    "c.digit(9)\n",
    "c.plus()\n",
    "c.digit(1)\n",
    "c.digit(2)\n",
    "c.digit(5)\n",
    "c.minus()\n",
    "c.minus()\n",
    "c.digit(3)\n",
    "c.plus()\n",
    "c.clear()\n",
    "c.digit(5)\n",
    "c.digit(2)\n",
    "c.minus()\n",
    "c.digit(5)\n",
    "c.minus()\n",
    "c.plus()\n",
    "c.digit(2)\n",
    "c.equal()\n"
   ]
  },
  {
   "cell_type": "code",
   "execution_count": 49,
   "id": "portuguese-highland",
   "metadata": {},
   "outputs": [
    {
     "data": {
      "text/plain": [
       "49"
      ]
     },
     "execution_count": 49,
     "metadata": {},
     "output_type": "execute_result"
    }
   ],
   "source": [
    "c = Calculator()\n",
    "c.clear()\n",
    "c.digit(9)\n",
    "c.plus()\n",
    "c.digit(1)\n",
    "c.digit(2)\n",
    "c.digit(5)\n",
    "c.minus()\n",
    "c.minus()\n",
    "c.digit(3)\n",
    "c.plus()\n",
    "c.clear()\n",
    "c.digit(5)\n",
    "c.digit(2)\n",
    "c.minus()\n",
    "c.digit(5)\n",
    "c.minus()\n",
    "c.plus()\n",
    "c.digit(2)\n",
    "c.equal()\n"
   ]
  },
  {
   "cell_type": "code",
   "execution_count": null,
   "id": "tested-condition",
   "metadata": {},
   "outputs": [],
   "source": [
    "c = Calculator()\n",
    "c."
   ]
  }
 ],
 "metadata": {
  "kernelspec": {
   "display_name": "Python 3",
   "language": "python",
   "name": "python3"
  },
  "language_info": {
   "codemirror_mode": {
    "name": "ipython",
    "version": 3
   },
   "file_extension": ".py",
   "mimetype": "text/x-python",
   "name": "python",
   "nbconvert_exporter": "python",
   "pygments_lexer": "ipython3",
   "version": "3.9.1"
  }
 },
 "nbformat": 4,
 "nbformat_minor": 5
}
