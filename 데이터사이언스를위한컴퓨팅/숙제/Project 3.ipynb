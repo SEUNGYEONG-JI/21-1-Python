{
 "cells": [
  {
   "cell_type": "markdown",
   "metadata": {},
   "source": [
    "# - 이번 과제는 hashing 에 대한 과제이다. 다음 모든 문제들은 time complexity O(n)으로 해결할 수 있다.\n",
    "\n",
    "\n",
    "따라서 다음과 같이 두 부류로 test case 를 구성할 것이다.\n",
    "\n",
    "1) 입력 리스트의 원소의 개수가 적고, return 값만 맞으면 정답\n",
    "\n",
    "2) 입력 리스트의 원소의 개수가 충분히 많은 (107 이상) 경우. 실행 시간이 특정 시간을\n",
    "\n",
    "넘어가면 return 값에 상관없이 틀림\n",
    "\n",
    "여기서 특정 시간은 O(n)으로 실행하는 시간보다는 충분히 크고, O(n2\n",
    ")으로 실행하는 시간 보다는 충분히\n",
    "\n",
    "작은 시간으로 설정할 것이다. O(nlogn)으로 해결했을 경우, 정답을 보장할 수 없다. set 또는 dictionary 를\n",
    "이용해서 O(n)으로 해결해보자."
   ]
  },
  {
   "cell_type": "markdown",
   "metadata": {},
   "source": [
    "# P1.\n",
    "\n",
    "\n",
    "0 이상 정수로 이루어진 리스트 nums 와 0 이상 정수 k 를 입력으로 받는다. 리스트의 원소를 둘씩\n",
    "\n",
    "짝지으려고 하는데, 각각의 쌍의 합이 모두 k 로 나누어지도록 짝을 지으려 한다. 가능하면 True,\n",
    "\n",
    "불가능하면 False 를 return 하는 함수를 구현하시오.\n",
    "\n",
    "(리스트의 길이는 2 이상 짝수이다)"
   ]
  },
  {
   "cell_type": "code",
   "execution_count": 9,
   "metadata": {},
   "outputs": [],
   "source": [
    "def P1(nums:list, k:int):\n",
    "    dic = {}\n",
    "    for i in range(k):\n",
    "        dic[i] = 0\n",
    "    \n",
    "    #list의 각 수를 k로 나눈 나머지를 저장\n",
    "    for i in range(len(nums)):\n",
    "        dic[nums[i]%k] += 1\n",
    "    print(dic)\n",
    "    # 각 수가 나머지를 더해서 k가 되는 방법은 1개 씩밖에 없다. 예) 5가 되기위해서 1은 무조건 4와만 더할 수 있다.\n",
    "    # 따라서 합쳐서 k가 되는 항들의 원소개수가 같은지 보면 된다.\n",
    "    count= 0\n",
    "    for i in range(1,k):\n",
    "        if dic[i] != dic[k-i]:\n",
    "            count +=1\n",
    "            \n",
    "    if count != 0 :\n",
    "        return False\n",
    "    \n",
    "    elif count == 0:\n",
    "        return True\n",
    "    \n",
    "    \n",
    "    # return type: bool"
   ]
  },
  {
   "cell_type": "code",
   "execution_count": 10,
   "metadata": {},
   "outputs": [
    {
     "name": "stdout",
     "output_type": "stream",
     "text": [
      "{0: 4, 1: 2}\n",
      "{0: 4, 1: 2, 2: 0}\n",
      "{0: 2, 1: 1, 2: 1, 3: 1, 4: 1}\n"
     ]
    },
    {
     "data": {
      "text/plain": [
       "(True, False, True)"
      ]
     },
     "execution_count": 10,
     "metadata": {},
     "output_type": "execute_result"
    }
   ],
   "source": [
    "P1([123, 36, 54, 28, 39, 28], 2), P1([123, 36, 54, 28, 39, 28], 3), P1([3,7,6,5,4,5], 5)"
   ]
  },
  {
   "cell_type": "markdown",
   "metadata": {},
   "source": [
    "# P2.\n",
    "\n",
    "0 과 1 로만 이루어진 리스트 nums 를 입력으로 받는다. 0 과 1 의 개수가 같은 부분 리스트의 길이의\n",
    "\n",
    "최대값을 return 하는 함수를 구현하시오. 부분 리스트란, 𝑛𝑢𝑚𝑠[𝑖:𝑗], 0 ≤ 𝑖 ≤ 𝑗 ≤ 𝑙𝑒𝑛(𝑛𝑢𝑚𝑠) 와 같이\n",
    "\n",
    "리스트의 연속된 일부분을 뜻한다. 그러한 부분 리스트가 없으면 0 을 return 하면 된다.\n",
    "\n",
    "(리스트의 길이는 1 이상이다.)"
   ]
  },
  {
   "cell_type": "markdown",
   "metadata": {},
   "source": [
    "## 해법 :\n",
    "\n",
    "0을 -1로 바꿔서 각 항마다 더하여 나간다.\n",
    "\n",
    "각 항을 a_n 이라하고 더한 항들을 S_n이라 하자. time : O(n)\n",
    "\n",
    "그렇다면 S_i - S_j = 0 (i>j) 가 되는 가장 큰 (i-j)를 찾으면 된다.\n",
    "\n",
    "즉 S_n 수열에서 같은 값을 가지는 것들 중에서 가장 큰 차이가 나는 인덱스를 찾으면 된다.\n",
    "\n",
    "그래서 S_n의 값을 key로 갖고, 이때의 인덱스를 \\[min_index, max_index\\] list value로 갖는 딕셔너리를 만들면 된다.  : time : O(n)"
   ]
  },
  {
   "cell_type": "code",
   "execution_count": 63,
   "metadata": {},
   "outputs": [],
   "source": [
    "def P2(nums:list)->int:\n",
    "\n",
    "    #make Sum List\n",
    "    SumList = []\n",
    "    S = 0\n",
    "    if nums[0] == 0:\n",
    "        SumList.append(-1)\n",
    "        S = S -1\n",
    "    elif nums[0] == 1:\n",
    "        SumList.append(1)\n",
    "        S = S + 1\n",
    "        \n",
    "    for i in range(1,len(nums)):\n",
    "        if nums[i] == 0:\n",
    "            SumList.append(S -1)\n",
    "            S = S -1\n",
    "           # print(\"i-th sum: \", SumList)\n",
    "            \n",
    "        elif nums[i] == 1:\n",
    "            SumList.append(S+1)\n",
    "            S = S + 1\n",
    "           # print(\"i-th sum: \", SumList)\n",
    "            \n",
    "    \n",
    "    #make Same Sum dictionary with max,min index like {7:[min_index, max_index]} , 7 is value in {S_n}\n",
    "    SameSum = {}\n",
    "    \n",
    "    for index in range(len(SumList)):\n",
    "        Sum = SumList[index]\n",
    "        #dictionary에 이미 Sum이 있으면 index 추가\n",
    "        if Sum in SameSum:\n",
    "            if len(SameSum[Sum]) < 2:\n",
    "                SameSum[Sum].append(index)\n",
    "            \n",
    "            elif len(SameSum[Sum]) == 2:\n",
    "                SameSum[Sum].append(index)\n",
    "                \n",
    "        #dictionary에 Sum 없으면 추가해주고 인덱스 추가                        \n",
    "        elif not Sum in SameSum:\n",
    "            SameSum[Sum] = [index]\n",
    "            \n",
    "            \n",
    "    #find maximum difference of index in SameSum's value\n",
    "    Max = 0\n",
    "    \n",
    "    # Sum이 0 의 경우에는 앞의 0 index와 빼줄 필요 없이 그것 자체가 최고길이가 된다.\n",
    "    if 0 in SameSum:\n",
    "        Max = max(Max, SameSum[0][-1]+1 )\n",
    "    \n",
    "    #0이외의 Sum 값들은 index 최고와 최저를 빼줘야 한다.\n",
    "    for Sum in SameSum:\n",
    "        if len(SameSum[Sum]) == 2:\n",
    "            Max = max(Max, SameSum[Sum][1]-SameSum[Sum][0])\n",
    "               \n",
    "                \n",
    "    \n",
    "    return Max"
   ]
  },
  {
   "cell_type": "code",
   "execution_count": 66,
   "metadata": {},
   "outputs": [
    {
     "data": {
      "text/plain": [
       "(4, 0, 0, 2, 0, 4, 6, 0)"
      ]
     },
     "execution_count": 66,
     "metadata": {},
     "output_type": "execute_result"
    }
   ],
   "source": [
    "P2([1,0,1,1,1,1,0,0,0]), P2([1,1,0,1,0,1]), P2([1,1,1,1,1,1]), P2([1,1,0,1,1,1]), P2([1]), P2([0,1,0,1]),P2([0,1,0,1,0,1]),P2([0,0])"
   ]
  },
  {
   "cell_type": "markdown",
   "metadata": {},
   "source": [
    "# P3.\n",
    "\n",
    "0 과 1 로만 이루어진 리스트 A, B 를 입력으로 받는다. 다음 조건을 만족하는 부분 리스트 길이의 최대값을\n",
    "\n",
    "return 하는 함수를 구현하시오. 그러한 부분 리스트가 없으면 0 을 return 하면 된다.\n",
    "\n",
    "(A 와 B 는 길이가 1 이상이고, 길이가 서로 같다.)\n",
    "\n",
    "\n",
    "조건: 𝒔𝒖𝒎(𝑨[𝒊:𝒋]) == 𝒔𝒖𝒎(𝑩[𝒊:𝒋]), 𝟎 ≤ 𝒊 ≤ 𝒋 ≤ 𝒍𝒆𝒏(𝑨)"
   ]
  },
  {
   "cell_type": "markdown",
   "metadata": {},
   "source": [
    "## 해법: 위의 문제와 비슷하다\n",
    "\n",
    "An을 A의 n번 인덱스까지의 합\n",
    "\n",
    "Bn을 B의 n번 인덱스까지의 합이라고 하자. 그렇다면 위의 조건은\n",
    "\n",
    "Aj - Ai == Bj - Bi 이고 (물론 주어진 문제의 경우 j번째는 포함하지 않고 i번째를 포함하지만 차이만 보는 것이므로 상관없다)\n",
    "\n",
    "이는 Aj - Bj == Ai - Bi 인 것을 찾으면 된다. 결국 P2문제와 똑같은 문제다.\n",
    "\n",
    "Sum의 차이를 Sn = An-Bn 이라하자\n",
    "\n",
    "그러면 Sj == Si 인 최대의 인덱스 차이 (j - i) 를 구하면 된다"
   ]
  },
  {
   "cell_type": "code",
   "execution_count": 88,
   "metadata": {},
   "outputs": [],
   "source": [
    "def P3(A:list, B:list)->int:\n",
    "    #Sum Difference 수열을 List에 같은 index로 저장하자\n",
    "    SumDList = []\n",
    "    S = 0\n",
    "    \n",
    "    SumDList.append(A[0]-B[0])\n",
    "    S = S + A[0]-B[0]\n",
    "    \n",
    "    n = len(A)\n",
    "    for i in range(1,n):\n",
    "        SumDList.append(S+A[i]-B[i]) \n",
    "        S = S + A[i] - B[i]\n",
    "    \n",
    "    #Sj == Si 인 최대의 인덱스 차이 (j - i) 를 구하면 된다.\n",
    "    # Dic = {SameValue:[index]}\n",
    "    Dic = {}\n",
    "    \n",
    "    for index in range(n):\n",
    "        Sum = SumDList[index]\n",
    "        if Sum in Dic:\n",
    "            if len(Dic[Sum]) == 2:\n",
    "                Dic[Sum][1] = index\n",
    "            elif len(Dic[Sum]) < 2:\n",
    "                Dic[Sum].append(index)\n",
    "                \n",
    "        elif not Sum in Dic:\n",
    "            Dic[Sum] = [index]\n",
    "            \n",
    "    Max = 0\n",
    "    #만약 Sn = An - Bn = 0 이라면 이때 길이는 n+1이 된다.\n",
    "    if 0 in Dic:\n",
    "        Max = max(Max, Dic[0][-1]+1)\n",
    "        \n",
    "    \n",
    "    for Sum in Dic:\n",
    "        if len(Dic[Sum]) == 2:\n",
    "            Max = max(Max, Dic[Sum][1] - Dic[Sum][0])\n",
    "                \n",
    "        \n",
    "    return Max"
   ]
  },
  {
   "cell_type": "code",
   "execution_count": 89,
   "metadata": {},
   "outputs": [
    {
     "data": {
      "text/plain": [
       "5"
      ]
     },
     "execution_count": 89,
     "metadata": {},
     "output_type": "execute_result"
    }
   ],
   "source": [
    "A = [0,1,1,0,1,0,1,1,1]\n",
    "B = [0,0,0,1,0,1,0,1,0]\n",
    "P3(A, B)\n"
   ]
  },
  {
   "cell_type": "code",
   "execution_count": 90,
   "metadata": {},
   "outputs": [
    {
     "data": {
      "text/plain": [
       "2"
      ]
     },
     "execution_count": 90,
     "metadata": {},
     "output_type": "execute_result"
    }
   ],
   "source": [
    "A = [0,0,0,0,0,1]\n",
    "B = [1,1,1,1,1,0]\n",
    "P3(A, B)\n"
   ]
  },
  {
   "cell_type": "code",
   "execution_count": 91,
   "metadata": {},
   "outputs": [
    {
     "data": {
      "text/plain": [
       "6"
      ]
     },
     "execution_count": 91,
     "metadata": {},
     "output_type": "execute_result"
    }
   ],
   "source": [
    "A = [0,0,0,0,0,1]\n",
    "B = [1,0,0,0,0,0]\n",
    "P3(A, B)\n"
   ]
  },
  {
   "cell_type": "markdown",
   "metadata": {},
   "source": [
    "# P4.\n",
    "\n",
    "정수로 이루어진 리스트 nums 를 입력으로 받는다. 여기서 몇 개의 수를 뽑는데, 뽑은 수들이\n",
    "\n",
    "연속적이어야 한다(순서는 상관없음). 뽑을 수 있는 최대 개수를 return 하는 함수를 구현하시오.\n",
    "\n",
    "(리스트의 길이는 1 이상이다.)\n"
   ]
  },
  {
   "cell_type": "markdown",
   "metadata": {},
   "source": [
    "## 접근 :\n",
    "\n",
    "set으로 만든 다음에, set에서 각 원소 +-1 각각한 원소가 set에 있으면 있는 거 다 제거하고 길이 더해준다.\n",
    "\n",
    "그냥 계속 해주면 됨. 최대 2n번만 해주면 됨."
   ]
  },
  {
   "cell_type": "code",
   "execution_count": 44,
   "metadata": {},
   "outputs": [],
   "source": [
    "def P4(nums:list)->int:\n",
    "    \n",
    "    s = set()\n",
    "    sub = set()\n",
    "    for i in nums:\n",
    "        s.add(i)\n",
    "        sub.add(i)\n",
    "        \n",
    "    Max = 1\n",
    "    \n",
    "    for num in sub:\n",
    "        if num in s:\n",
    "            s.remove(num)\n",
    "            length = 1\n",
    "            if num +1 in sub:\n",
    "                s.remove(num+1)\n",
    "                length += 1\n",
    "            elif num-1 in sub :\n",
    "                s.remove(num-1)\n",
    "                length += 1\n",
    "        Max = max(Max,length)\n",
    "            \n",
    "    return s, Max\n",
    "\n",
    "    \n",
    "    \n",
    "    \n",
    "    \n",
    "    # return type: integer\n",
    "    "
   ]
  },
  {
   "cell_type": "code",
   "execution_count": 59,
   "metadata": {},
   "outputs": [],
   "source": [
    "def P4(nums:list)->int:\n",
    "    \n",
    "    s = set()\n",
    "    sub = set()\n",
    "    n = len(nums)\n",
    "    for i in nums:\n",
    "        s.add(i)\n",
    "        sub.add(i)\n",
    "\n",
    "        \n",
    "    Max = 1\n",
    "    \n",
    "    for num in sub:\n",
    "        if num in s:\n",
    "            s.remove(num)\n",
    "            length = 1\n",
    "            i = 1\n",
    "            while num + i or num - i in s:\n",
    "            \n",
    "                if num +i in sub:\n",
    "                    s.remove(num+i)\n",
    "                    length += 1\n",
    "                elif num-i in sub :\n",
    "                    s.remove(num-i)\n",
    "                    length += 1\n",
    "                i += 1    \n",
    "                    \n",
    "        Max = max(Max,length)\n",
    "            \n",
    "    return Max"
   ]
  },
  {
   "cell_type": "markdown",
   "metadata": {},
   "source": [
    "## 아래쪽 성공인듯? 시간만 한 번 재어보기"
   ]
  },
  {
   "cell_type": "code",
   "execution_count": 90,
   "metadata": {},
   "outputs": [],
   "source": [
    "def P4(nums:list)->int:\n",
    "    \n",
    "    s = set()\n",
    "    sub = set()\n",
    "    n = len(nums)\n",
    "    for i in nums:\n",
    "        s.add(i)\n",
    "        sub.add(i)\n",
    "\n",
    "        \n",
    "    Max = 1\n",
    "    \n",
    "    for num in sub: #1\n",
    "        if num in s: #2\n",
    "            s.remove(num)\n",
    "            length = 1\n",
    "            i = 1\n",
    "            j = 1\n",
    "            #여기 while이 있어서 for loop 을 2번 하는 것 같지만,\n",
    "            #여기서 삭제된 원소들은 #2에 의해 #1의 for loop을 안 돌기 때문에 결국 1번만 for loop도는 것임.\n",
    "            #즉 (모든 원소가 #1, #3, #4 중 1개만 돌음.) 이는 #2가 hash로 시간이 안들기 때문.\n",
    "            while num + i in s: #3\n",
    "                s.remove(num+i)\n",
    "                length += 1\n",
    "                i += 1\n",
    "            while num - j in s:#4\n",
    "                s.remove(num-j)\n",
    "                length += 1\n",
    "                j += 1\n",
    "                    \n",
    "        Max = max(Max,length)\n",
    "            \n",
    "    return Max"
   ]
  },
  {
   "cell_type": "code",
   "execution_count": 91,
   "metadata": {},
   "outputs": [
    {
     "data": {
      "text/plain": [
       "(4, 4, 1, 6)"
      ]
     },
     "execution_count": 91,
     "metadata": {},
     "output_type": "execute_result"
    }
   ],
   "source": [
    "P4([1,2,3,4,10]),P4([3,6,4,64,10,29,5,9,11]), P4([-1, 5, 2, -6, 8]) ,P4([-3, 2, 0, 1, -2, -1])"
   ]
  },
  {
   "cell_type": "markdown",
   "metadata": {},
   "source": [
    "## P4 time test . O(n)? 그런듯."
   ]
  },
  {
   "cell_type": "code",
   "execution_count": 89,
   "metadata": {},
   "outputs": [
    {
     "name": "stdout",
     "output_type": "stream",
     "text": [
      "3.1800000215298496e-05\n",
      "6.299999995462713e-05\n",
      "0.0006105000002207817\n",
      "0.006595699999706994\n",
      "0.05262440000024071\n",
      "0.7300316999999268\n",
      "8.060818200000085\n"
     ]
    }
   ],
   "source": [
    "import time\n",
    "import random\n",
    "\n",
    "for i in range(1,8):\n",
    "    L = [random.randint(-10**i,10**i) for r in range(10**i)]\n",
    "    T =L[:]\n",
    "    s = time.perf_counter()\n",
    "    P4(T)\n",
    "    end = time.perf_counter()\n",
    "    print(end-s)\n"
   ]
  },
  {
   "cell_type": "code",
   "execution_count": 67,
   "metadata": {},
   "outputs": [
    {
     "name": "stdout",
     "output_type": "stream",
     "text": [
      "1\n",
      "2\n",
      "3\n",
      "4\n"
     ]
    }
   ],
   "source": [
    "sub  = {1,2,3,4}\n",
    "s = {1,2,3,4,5}\n",
    "\n",
    "for num in sub:\n",
    "    if num in s:\n",
    "        print(num)\n",
    "        s.remove(num)\n",
    "        i = 1\n",
    "        if num+ i in s:\n",
    "            print(num+i)\n",
    "            s.remove(num+i)\n",
    "        elif num - i in s:\n",
    "            print(num-i)\n",
    "            s.remove(num-i)\n",
    "        "
   ]
  },
  {
   "cell_type": "code",
   "execution_count": null,
   "metadata": {},
   "outputs": [],
   "source": []
  }
 ],
 "metadata": {
  "kernelspec": {
   "display_name": "Python 3",
   "language": "python",
   "name": "python3"
  },
  "language_info": {
   "codemirror_mode": {
    "name": "ipython",
    "version": 3
   },
   "file_extension": ".py",
   "mimetype": "text/x-python",
   "name": "python",
   "nbconvert_exporter": "python",
   "pygments_lexer": "ipython3",
   "version": "3.9.1"
  }
 },
 "nbformat": 4,
 "nbformat_minor": 4
}
