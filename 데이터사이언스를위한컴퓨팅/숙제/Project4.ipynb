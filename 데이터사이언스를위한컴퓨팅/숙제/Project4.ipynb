{
 "cells": [
  {
   "cell_type": "markdown",
   "metadata": {},
   "source": [
    "# 문제 1. Range sum of BST\n",
    "\n",
    "Binary Search Tree 에서 range [low, high]에 해당하는 BST 의 모든 노드 값을 합산하여 반환하는\n",
    "함수를 작성하여라.\n"
   ]
  },
  {
   "cell_type": "code",
   "execution_count": 20,
   "metadata": {},
   "outputs": [],
   "source": [
    "from BST_Helper import *\n",
    "\n",
    "def P1(root: TreeNode, low: int, high: int) -> int:     \n",
    "    ans = 0\n",
    "    #1) base case\n",
    "    if root == None:\n",
    "        return 0\n",
    "    \n",
    "    #2) recursive case\n",
    "    \n",
    "    #2-1) only recursive case\n",
    "    if root.val > high:\n",
    "        ans += P1(root.left, low, high)\n",
    "    \n",
    "    elif root.val < low:\n",
    "        ans += P1(root.right, low, high)\n",
    "    \n",
    "    #2-2) rucursive and sum case\n",
    "    elif low < root.val < high:\n",
    "        ans += root.val\n",
    "        ans += P1(root.left, low, high)\n",
    "        ans += P1(root.right, low, high)\n",
    "        \n",
    "    elif low == root.val:\n",
    "        ans += root.val\n",
    "        ans += P1(root.right, low, high)\n",
    "        \n",
    "    elif root.val == high:\n",
    "        ans += root.val\n",
    "        ans += P1(root.left, low, high)\n",
    "        \n",
    "    return ans\n",
    "    "
   ]
  },
  {
   "cell_type": "code",
   "execution_count": 1,
   "metadata": {},
   "outputs": [
    {
     "data": {
      "text/plain": [
       "15"
      ]
     },
     "execution_count": 1,
     "metadata": {},
     "output_type": "execute_result"
    }
   ],
   "source": [
    "%run P1.py\n",
    "root = create_linked_bst([10,5,15,3,7, 9, 18])\n",
    "P1(root, 3, 9)"
   ]
  },
  {
   "cell_type": "code",
   "execution_count": 2,
   "metadata": {},
   "outputs": [
    {
     "data": {
      "text/plain": [
       "49"
      ]
     },
     "execution_count": 2,
     "metadata": {},
     "output_type": "execute_result"
    }
   ],
   "source": [
    "root = create_linked_bst([10,5,15,3,7, 9, 18])\n",
    "P1(root, 3, 15)"
   ]
  },
  {
   "cell_type": "code",
   "execution_count": 3,
   "metadata": {},
   "outputs": [
    {
     "data": {
      "text/plain": [
       "32"
      ]
     },
     "execution_count": 3,
     "metadata": {},
     "output_type": "execute_result"
    }
   ],
   "source": [
    "root = create_linked_bst([10,5,15,3,7,None,18])\n",
    "P1(root, 7, 15)"
   ]
  },
  {
   "cell_type": "code",
   "execution_count": 4,
   "metadata": {},
   "outputs": [
    {
     "data": {
      "text/plain": [
       "23"
      ]
     },
     "execution_count": 4,
     "metadata": {},
     "output_type": "execute_result"
    }
   ],
   "source": [
    "root = create_linked_bst ([10,5,15,3,7,13,18,1,None,6])\n",
    "P1(root, 6, 10)"
   ]
  },
  {
   "cell_type": "markdown",
   "metadata": {},
   "source": [
    "# 문제 2. Binary Tree Level Order Traversal\n",
    "\n",
    "Binary tree 에 대하여 Bottom-up level order traversal 을 return 하는 함수를 작성하시오.\n",
    "\n",
    "즉, Leaf 부터 Root 까지 각 level 에 대해, 왼쪽에서부터 오른쪽 순서로 저장되어야 한다.\n",
    "\n",
    " 이중 리스트 형태로 return 해야하며, 같은 Depth 인 Node 들의 값이 같은 List 에\n",
    "저장되어야 한다.\n",
    "\n",
    " input 으로는 binary tree 의 root 가 주어진다.\n"
   ]
  },
  {
   "cell_type": "markdown",
   "metadata": {},
   "source": [
    "## 해법:\n",
    "\n",
    "BFT의 q = FIFO List를 이용해서 (q.append(new) , q.pop(0)만 함) 좌에서 우 순으로 q에 node를 저장하는 그 사이에\n",
    "\n",
    "각 node의 level을 key로 가지는 dictionary를 만들어서, dictionary에 q에서 나오는 node들을 level에 맞춰서 저장하자.\n",
    "\n",
    "node를 직접 dictionary에 저장하는 이유는 Binary tree이기 때문에 똑같은 value의 값들을 가지는 node들이 있을 수 있어서, 이를 구분하기위해 굳이 node로 저장했다.\n",
    "\n",
    "그 후 이 dictionary의 node들을 원하는 output으로 변환해주자."
   ]
  },
  {
   "cell_type": "code",
   "execution_count": 48,
   "metadata": {},
   "outputs": [],
   "source": [
    "from BST_Helper import *\n",
    "\n",
    "def P2(root: TreeNode):       \n",
    "    result = []\n",
    "    level_dic = {}\n",
    "    if root == None:\n",
    "        return [[]]\n",
    "    \n",
    "    #make level_dic : 각 level을 key로 가지고, level에서의 node를 순서대로 List로 가지는 dictionary만들기\n",
    "    else:\n",
    "        q = [root]\n",
    "        level_dic[0] = [root]\n",
    "        while q:\n",
    "            \n",
    "            curNode = q.pop(0)\n",
    "            \n",
    "            #if 문이 병렬로 있기 때문에, BFT 처럼 같은 level 의 경우 왼쪽에서 오른쪽 순서로 level_dic에 저장된다.\n",
    "            # 사실 BFT와 같은 구조이고, 그 사이에 level_dic만 추가된 것이므로, 순서는 BFT 와 같이 유지된다.\n",
    "            \n",
    "            #curNode.left를 level_dic에 알맞게 저장하기\n",
    "            if curNode.left:\n",
    "                q.append(curNode.left)\n",
    "                #level_dic이 for loop 중 직접적으로 바뀌면 error 발생하므로 check_list에 자식 노드 정보 저장해서, level_dic에 추가\n",
    "                check_list = [] #[level, node] 형태\n",
    "                for i in level_dic:\n",
    "                    #부모 노드가 이미 level_dic에 들어가 있기 때문에 if문 항상 성립한다.\n",
    "                    if curNode in level_dic[i]:\n",
    "                        check_list=[i+1,curNode.left]\n",
    "                        \n",
    "                #자식 노드를 추가할 위치 찾기\n",
    "                if check_list[0] in level_dic:\n",
    "                    level_dic[check_list[0]].append(check_list[1])\n",
    "                else:\n",
    "                    level_dic[check_list[0]] = [check_list[1]]\n",
    "                    \n",
    "                                    \n",
    "            if curNode.right:\n",
    "                q.append(curNode.right)\n",
    "                check_list = []\n",
    "                for i in level_dic:\n",
    "                    if curNode in level_dic[i]:\n",
    "                        check_list=[i+1,curNode.right]\n",
    "                \n",
    "                if check_list[0] in level_dic:\n",
    "                    level_dic[check_list[0]].append(check_list[1])\n",
    "                else:\n",
    "                    level_dic[check_list[0]] = [check_list[1]]  \n",
    "    \n",
    "    #Change node in level_dic to node.val in double list\n",
    "    for i in range(len(level_dic)-1,-1,-1):\n",
    "        s = []\n",
    "        for j in range(len(level_dic[i])):\n",
    "            #Node를 Node.val로 변환해서 list에 저장\n",
    "            s.append(level_dic[i][j].val)\n",
    "        result.append(s)\n",
    "    \n",
    "    return result"
   ]
  },
  {
   "cell_type": "code",
   "execution_count": 5,
   "metadata": {},
   "outputs": [
    {
     "data": {
      "text/plain": [
       "[[15, 7], [9, 20], [3]]"
      ]
     },
     "execution_count": 5,
     "metadata": {},
     "output_type": "execute_result"
    }
   ],
   "source": [
    "%run P2.py\n",
    "root = create_linked_bst ([3,9,20,None,None,15,7])\n",
    "P2(root)"
   ]
  },
  {
   "cell_type": "code",
   "execution_count": 6,
   "metadata": {},
   "outputs": [
    {
     "data": {
      "text/plain": [
       "[[3, 7, 18], [5, 15], [10]]"
      ]
     },
     "execution_count": 6,
     "metadata": {},
     "output_type": "execute_result"
    }
   ],
   "source": [
    "root = create_linked_bst([10,5,15,3,7,None,18])\n",
    "P2(root)\n",
    "#[[3, 7, 18], [5, 15], [10]]"
   ]
  },
  {
   "cell_type": "code",
   "execution_count": 7,
   "metadata": {},
   "outputs": [
    {
     "data": {
      "text/plain": [
       "[[2, 4, 7], [3, 6], [5]]"
      ]
     },
     "execution_count": 7,
     "metadata": {},
     "output_type": "execute_result"
    }
   ],
   "source": [
    "root = create_linked_bst([5,3,6,2,4,None,7])\n",
    "P2(root)\n",
    "#[[2, 4, 7], [3, 6], [5]]"
   ]
  },
  {
   "cell_type": "markdown",
   "metadata": {},
   "source": [
    "# 문제 3. Insert value into BST: make full BST\n",
    "\n",
    "BST 에서 모든 Depth 의 모든 Node 에 값이 있는 경우 Full BST 라고 하자. 예를 들면 아래와 같은\n",
    "BST 를 지칭한다.\n",
    "\n",
    "  6 \n",
    "  \n",
    " / \\ \n",
    " \n",
    " 3 8 \n",
    " \n",
    "/ \\ / \\ \n",
    "\n",
    "2 5 7 9 \n",
    " \n",
    "\n",
    "Full BST 에서 1 개의 Node 만 비어있는 BST 에 1 개의 값을 추가하여 Full BST 로 만들고, root node 를\n",
    "return 하는 함수를 작성하여라.\n",
    "\n",
    " Input 은 BST 의 root node 와 추가할 정수값이다.\n",
    "\n",
    " Node 의 모든 값은 정수라고 가정한다.\n",
    "\n",
    " 추가되는 값은 Input BST 에 존재하지 않는다고 가정한다.\n",
    "\n",
    " Tree 를 새로 생성하는 방식으로의 구현은 인정하지 않는다."
   ]
  },
  {
   "cell_type": "markdown",
   "metadata": {},
   "source": [
    "## 해법:\n",
    "\n",
    "1. 우선 새로 넣을 newnode의 값을 root에서 부터 비교해 나간다. 그러다가\n",
    "\n",
    "curNode와 자식 노드 사이에 값이 위치하게 되면, 다음 중 한 가지 방식으로 newnode를 삽입한다.\n",
    "\n",
    "curNode와 자식 노드 사이에 위치 한다는 것의 예 ) curNode.val < newNode.val < curNode.right.val\n",
    "\n",
    "(1.a) 우선 curNode의 양쪽 방향으로 총 node의 개수를 비교한다.\n",
    "\n",
    "\n",
    "(1.b) 만약 현재 newnode가 끼인 자식 노드 쪽이 아닌, 반대쪽 자식노드 쪽의 node가 1개 비어있다면, newnode의 위치는 curnode의 위치가 된다. 그리고 반대쪽 자식노드쪽 tree를 curnode와 함께 재구성하면 된다.\n",
    "\n",
    "위의 예에서 이어서) (1.b)는 curNode.left 방향의 tree가 node가 1개 비어있는 경우이다. 이 경우 curNode 자리에 newNode를 놓고, curNode.left tree와 curNode를 다시 트리로 만든다\n",
    "\n",
    "\n",
    "(1.c) 만약 현재 newnode가 끼인 자식노드 쪽의 tree에 node가 비어있다면, newnode를 포함해서 tree를 다시 구조화하면 된다.\n",
    "\n",
    "위의 예에서 이어서) (1.c)는 curNode.right 방향의 tree node가 1개 비어있는 경우이다."
   ]
  },
  {
   "cell_type": "code",
   "execution_count": 151,
   "metadata": {},
   "outputs": [],
   "source": [
    "from BST_Helper import *\n",
    "\n",
    "\n",
    "def FindNodeAmount(curNode:TreeNode)->int:\n",
    "    num = 0 \n",
    "    \n",
    "\n",
    "    if curNode == None:\n",
    "        return 0\n",
    "    \n",
    "    if curNode.val:\n",
    "        num += 1\n",
    "    \n",
    "    if curNode.left:\n",
    "        num += FindNodeAmount(curNode.left)\n",
    "        \n",
    "    if curNode.right:\n",
    "        num += FindNodeAmount(curNode.right)\n",
    "        \n",
    "    return num\n",
    "\n",
    "#None인 tree에 TreeNode(None)으로 None 인 TreeNode 생성하자.\n",
    "def __MakeFullTreeHelp(curNode:TreeNode)->TreeNode:\n",
    "    if curNode == None:\n",
    "        return TreeNode(None)\n",
    "    \n",
    "    if FindNodeAmount(curNode.left) < FindNodeAmount(curNode.right):\n",
    "        curNode.left = __MakeFullTreeHelp(curNode.left)\n",
    "        \n",
    "    elif FindNodeAmount(curNode.left) > FindNodeAmount(curNode.right):\n",
    "        curNode.right = __MakeFullTreeHelp(curNode.right)\n",
    "        \n",
    "    return curNode    \n",
    "    \n",
    "    \n",
    "def MakeFullTree(root:TreeNode)->TreeNode:\n",
    "    root = __MakeFullTreeHelp(root)\n",
    "    \n",
    "    return root\n",
    "    \n",
    "    \n",
    "def __P3Help(curNode : TreeNode, val: int):\n",
    "    \n",
    "    if curNode == None:\n",
    "        return\n",
    "    \n",
    "    \n",
    "        \n",
    "    try:\n",
    "        curNode.val < val < curNode.right.val\n",
    "        if curNode.val < val < curNode.right.val:\n",
    "            #오른쪽 자식 노드 쪽 tree가 1개 빈 경우\n",
    "            #오른쪽 노드에 현재 val 넣어주고, 원래 오른쪽 노드에 있던 값을, 새로운 val을 root.val로 갖는 tree에 넣어주기\n",
    "            if FindNodeAmount(curNode.left) > FindNodeAmount(curNode.right):\n",
    "                right_val = curNode.right.val\n",
    "                curNode.right.val = val\n",
    "                __P3Help(curNode.right, right_val)\n",
    "        \n",
    "        #부모노드쪽 tree가 1개 빈 경우\n",
    "        #부모 노드에 현재 val 넣어주고, 부모 노드에 대해서 다시 recursion\n",
    "            elif FindNodeAmount(curNode.left) < FindNodeAmount(curNode.right):\n",
    "                parent_val = curNode.val\n",
    "                curNode.val = val\n",
    "                __P3Help(curNode, parent_val)\n",
    "            print('curNode.val < val < curNode.right.val')   \n",
    "    except TypeError:\n",
    "        print('typeerror')\n",
    "        \n",
    "        \n",
    "    finally :\n",
    "        curNode.right.val = val\n",
    "        \n",
    "    try:\n",
    "        curNode.left.val < val < curNode.val\n",
    "        if curNode.left.val < val < curNode.val:\n",
    "        \n",
    "            #왼쪽 자식 노드 쪽 tree가 1개 빈 경우\n",
    "            #왼쪽 노드에 현재 val 넣어주고, 원래 왼쪽 노드에 있던 값으로 왼쪽노드에 대해서 recursion\n",
    "            if FindNodeAmount(curNode.left) < FindNodeAmount(curNode.right):\n",
    "                left_val = curNode.left.val\n",
    "                curNode.left.val = val\n",
    "                __P3Help(curNode.left, left_val)\n",
    "            \n",
    "            #부모노드 쪽이 1개 빈 경우\n",
    "            #부모노드 값을 val로 바꿔주고, 부모노드 값에 대해서 부모노드에 recursion\n",
    "            elif FindNodeAmount(curNode.left) > FindNodeAmount(curNode.right):\n",
    "                parent_val = curNode.val\n",
    "                curNode.val = val\n",
    "                __P3Help(curNode,parent_val)\n",
    "            print('curNode.left.val < val < curNode.val')\n",
    "    except TypeError:\n",
    "        print('typeerror')\n",
    "        \n",
    "    finally :\n",
    "        curNode.left.val = val\n",
    "    \n",
    "    if val < curNode.left.val :\n",
    "        __P3Help(curNode.left,val)\n",
    "    \n",
    "    elif curNode.right.val < val:\n",
    "        __P3Help(curNode.right,val)\n",
    "    \n",
    "    \n",
    "            \n",
    "            \n",
    "def P3(root: TreeNode, val: int) -> TreeNode:\n",
    "    root = MakeFullTree(root)\n",
    "    __P3Help(root,val)\n",
    "\n",
    "\n",
    "    return root\n",
    "    ##### End of your code #####"
   ]
  },
  {
   "cell_type": "code",
   "execution_count": 169,
   "metadata": {},
   "outputs": [],
   "source": [
    "from BST_Helper import *\n",
    "\n",
    "\n",
    "def FindNodeAmount(curNode:TreeNode)->int:\n",
    "    num = 0 \n",
    "    \n",
    "\n",
    "    if curNode == None:\n",
    "        return 0\n",
    "    \n",
    "    if curNode.val:\n",
    "        num += 1\n",
    "    \n",
    "    if curNode.left:\n",
    "        num += FindNodeAmount(curNode.left)\n",
    "        \n",
    "    if curNode.right:\n",
    "        num += FindNodeAmount(curNode.right)\n",
    "        \n",
    "    return num\n",
    "\n",
    "#None인 tree에 TreeNode(None)으로 None 인 TreeNode 생성하자.\n",
    "def __MakeFullTreeHelp(curNode:TreeNode,val)->TreeNode:\n",
    "    if curNode == None:\n",
    "        return TreeNode(val)\n",
    "    \n",
    "    if FindNodeAmount(curNode.left) < FindNodeAmount(curNode.right):\n",
    "        curNode.left = __MakeFullTreeHelp(curNode.left,val)\n",
    "        \n",
    "    elif FindNodeAmount(curNode.left) > FindNodeAmount(curNode.right):\n",
    "        curNode.right = __MakeFullTreeHelp(curNode.right,val)\n",
    "        \n",
    "    return curNode    \n",
    "    \n",
    "    \n",
    "def MakeFullTree(root:TreeNode,val)->TreeNode:\n",
    "    root = __MakeFullTreeHelp(root,val)\n",
    "    \n",
    "    return root\n",
    "    \n",
    "    \n",
    "def __P3Help(curNode : TreeNode, val: int):\n",
    "    \n",
    "    if curNode == None:\n",
    "        return\n",
    "    \n",
    "    \n",
    "        \n",
    "    \n",
    "    if curNode.val < val < curNode.right.val:\n",
    "        #오른쪽 자식 노드 쪽 tree가 1개 빈 경우\n",
    "        #오른쪽 노드에 현재 val 넣어주고, 원래 오른쪽 노드에 있던 값을, 새로운 val을 root.val로 갖는 tree에 넣어주기\n",
    "        if FindNodeAmount(curNode.left) > FindNodeAmount(curNode.right):\n",
    "            right_val = curNode.right.val\n",
    "            curNode.right.val = val\n",
    "            __P3Help(curNode.right, right_val)\n",
    "            \n",
    "        #부모노드쪽 tree가 1개 빈 경우\n",
    "        #부모 노드에 현재 val 넣어주고, 부모 노드에 대해서 다시 recursion\n",
    "        elif FindNodeAmount(curNode.left) < FindNodeAmount(curNode.right):\n",
    "            parent_val = curNode.val\n",
    "            curNode.val = val\n",
    "            __P3Help(curNode, parent_val)\n",
    "        print('curNode.val < val < curNode.right.val')   \n",
    "        \n",
    "    elif curNode.left.val < val < curNode.val:\n",
    "        \n",
    "        #왼쪽 자식 노드 쪽 tree가 1개 빈 경우\n",
    "        #왼쪽 노드에 현재 val 넣어주고, 원래 왼쪽 노드에 있던 값으로 왼쪽노드에 대해서 recursion\n",
    "        if FindNodeAmount(curNode.left) < FindNodeAmount(curNode.right):\n",
    "            left_val = curNode.left.val\n",
    "            curNode.left.val = val\n",
    "            print('자식노드값바뀜')\n",
    "            print(root.printTree())\n",
    "            __P3Help(curNode.left, left_val)\n",
    "\n",
    "        #부모노드 쪽이 1개 빈 경우\n",
    "        #부모노드 값을 val로 바꿔주고, 부모노드 값에 대해서 부모노드에 recursion\n",
    "        elif FindNodeAmount(curNode.left) > FindNodeAmount(curNode.right):\n",
    "            parent_val = curNode.val\n",
    "            curNode.val = val\n",
    "            \n",
    "            print('부모노드값바뀜')\n",
    "            print(root.printTree())\n",
    "            \n",
    "            __P3Help(curNode,parent_val)\n",
    "        print('curNode.left.val < val < curNode.val')\n",
    "    \n",
    "    elif val < curNode.left.val :\n",
    "        __P3Help(curNode.left,val)\n",
    "    \n",
    "    elif curNode.right.val < val:\n",
    "        __P3Help(curNode.right,val)\n",
    "    \n",
    "    \n",
    "def P3(root: TreeNode, val: int) -> TreeNode:\n",
    "    root = MakeFullTree(root,val)\n",
    "    __P3Help(root,val)\n",
    "\n",
    "\n",
    "    return root\n",
    "    ##### End of your code #####\n"
   ]
  },
  {
   "cell_type": "code",
   "execution_count": null,
   "metadata": {},
   "outputs": [],
   "source": []
  },
  {
   "cell_type": "markdown",
   "metadata": {},
   "source": [
    "## inorder 식 접근(성공작)\n",
    "트리 빈 곳에 새로 넣을 val 넣고, tree 안 값들 전부다 뽑아내서, sorting 한 다음에,\n",
    "root 부터 알맞은 값 다시 넣어주기"
   ]
  },
  {
   "cell_type": "code",
   "execution_count": 220,
   "metadata": {},
   "outputs": [],
   "source": [
    "def FindNodeAmount(curNode:TreeNode)->int:\n",
    "    num = 0 \n",
    "    \n",
    "\n",
    "    if curNode == None:\n",
    "        return 0\n",
    "    \n",
    "    if curNode.val:\n",
    "        num += 1\n",
    "    \n",
    "    if curNode.left:\n",
    "        num += FindNodeAmount(curNode.left)\n",
    "        \n",
    "    if curNode.right:\n",
    "        num += FindNodeAmount(curNode.right)\n",
    "        \n",
    "    return num\n",
    "\n",
    "def __MakeFullTreeHelp(curNode:TreeNode,val)->TreeNode:\n",
    "    if curNode == None:\n",
    "        return TreeNode(val)\n",
    "    \n",
    "    if FindNodeAmount(curNode.left) < FindNodeAmount(curNode.right):\n",
    "        curNode.left = __MakeFullTreeHelp(curNode.left,val)\n",
    "        \n",
    "    elif FindNodeAmount(curNode.left) > FindNodeAmount(curNode.right):\n",
    "        curNode.right = __MakeFullTreeHelp(curNode.right,val)\n",
    "        \n",
    "    return curNode    \n",
    "    \n",
    "    \n",
    "def MakeFullTree(root:TreeNode,val):\n",
    "    root = __MakeFullTreeHelp(root,val)\n",
    "    \n",
    "    \n",
    "\n",
    "\n",
    "def FindAllNumber(root:TreeNode)->list:\n",
    "    L = []\n",
    "    if root:\n",
    "        L.append(root.val)\n",
    "        \n",
    "    if root.right:\n",
    "        L.extend(FindAllNumber(root.right))\n",
    "    if root.left:\n",
    "        L.extend(FindAllNumber(root.left))\n",
    "        \n",
    "    L.sort()\n",
    "    return L\n",
    "\n",
    "\n",
    "\n",
    "def ReNew(root,L):\n",
    "    if root == None:\n",
    "        return\n",
    "    else:\n",
    "        root.val = L.pop(len(L)//2)\n",
    "        L1 = L[0:len(L)//2]\n",
    "        L2 = L[len(L)//2:]\n",
    "    \n",
    "        ReNew(root.left,L1)\n",
    "        ReNew(root.right,L2)\n",
    "\n",
    "        \n",
    "        \n",
    "def P3(root: TreeNode, val: int) -> TreeNode:\n",
    "    MakeFullTree(root,val)\n",
    "    L = FindAllNumber(root)\n",
    "    ReNew(root,L)\n",
    "\n",
    "\n",
    "    return root"
   ]
  },
  {
   "cell_type": "code",
   "execution_count": 221,
   "metadata": {},
   "outputs": [
    {
     "name": "stdout",
     "output_type": "stream",
     "text": [
      "[6, 3, 8, 2, 5, 7, 9]\n"
     ]
    }
   ],
   "source": [
    "#예시1\n",
    "root = create_linked_bst( [7,3,8,2,5,None,9])\n",
    "fullBST = P3(root, 6)\n",
    "print(fullBST .printTree())\n",
    "#[6, 3, 8, 2, 5, 7, 9]"
   ]
  },
  {
   "cell_type": "code",
   "execution_count": 222,
   "metadata": {},
   "outputs": [
    {
     "name": "stdout",
     "output_type": "stream",
     "text": [
      "[7, 3, 9, 2, 5, 8, 10]\n"
     ]
    }
   ],
   "source": [
    "#예시2\n",
    "root = create_linked_bst( [7,3,8,2,5,None,9])\n",
    "fullBST = P3(root, 10)\n",
    "print(fullBST .printTree())\n",
    "#[7, 3, 9, 2, 5, 8, 10]"
   ]
  },
  {
   "cell_type": "code",
   "execution_count": 223,
   "metadata": {},
   "outputs": [
    {
     "name": "stdout",
     "output_type": "stream",
     "text": [
      "[10, 5, 15, 3, 7, 12, 18, 1, 4, 6, 8, 11, 13, 16, 20]\n"
     ]
    }
   ],
   "source": [
    "#예시3\n",
    "root = create_linked_bst( [10,5,15,3,6,12,18,1,4,None,8,11,13,16,20])\n",
    "fullBST = P3(root, 7)\n",
    "print(fullBST.printTree())\n",
    "#[10, 5, 15, 3, 7, 12, 18, 1, 4, 6, 8, 11, 13, 16, 20]"
   ]
  },
  {
   "cell_type": "code",
   "execution_count": 2,
   "metadata": {},
   "outputs": [
    {
     "name": "stdout",
     "output_type": "stream",
     "text": [
      "[10, 5, 14, 3, 7, 12, 18, 1, 4, 6, 8, 11, 13, 15, 20]\n"
     ]
    }
   ],
   "source": [
    "#예시4\n",
    "root = create_linked_bst( [10,5,15,3,7,12,18,1,4,6,8,11,13,None,20])\n",
    "fullBST = P3(root, 14)\n",
    "print(fullBST .printTree())\n",
    "#[10, 5, 14, 3, 7, 12, 18, 1, 4, 6, 8, 11, 13, 15, 20]"
   ]
  },
  {
   "cell_type": "code",
   "execution_count": 3,
   "metadata": {},
   "outputs": [
    {
     "name": "stdout",
     "output_type": "stream",
     "text": [
      "[9, 5, 13, 3, 7, 11, 18, 1, 4, 6, 8, 10, 12, 15, 20]\n"
     ]
    }
   ],
   "source": [
    "#예시5\n",
    "root = create_linked_bst( [10,5,15,3,7,12,18,1,4,6,8,11,13,None,20])\n",
    "fullBST = P3(root, 9)\n",
    "print(fullBST .printTree())\n",
    "#[9, 5, 13, 3, 7, 11, 18, 1, 4, 6, 8, 10, 12, 15, 20]"
   ]
  },
  {
   "cell_type": "code",
   "execution_count": 1,
   "metadata": {},
   "outputs": [
    {
     "name": "stdout",
     "output_type": "stream",
     "text": [
      "[9, 5, 13, 3, 7, 11, 18, 1, 4, 6, 8, 10, 12, 15, 20]\n"
     ]
    }
   ],
   "source": [
    "%run P3.py\n",
    "root = create_linked_bst( [10,5,15,3,7,12,18,1,4,6,8,11,13,None,20])\n",
    "fullBST = P3(root, 9)\n",
    "print(fullBST .printTree())"
   ]
  },
  {
   "cell_type": "code",
   "execution_count": null,
   "metadata": {},
   "outputs": [],
   "source": []
  }
 ],
 "metadata": {
  "kernelspec": {
   "display_name": "Python 3",
   "language": "python",
   "name": "python3"
  },
  "language_info": {
   "codemirror_mode": {
    "name": "ipython",
    "version": 3
   },
   "file_extension": ".py",
   "mimetype": "text/x-python",
   "name": "python",
   "nbconvert_exporter": "python",
   "pygments_lexer": "ipython3",
   "version": "3.9.1"
  }
 },
 "nbformat": 4,
 "nbformat_minor": 5
}
