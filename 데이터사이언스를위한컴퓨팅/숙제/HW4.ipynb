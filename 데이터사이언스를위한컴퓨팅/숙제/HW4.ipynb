{
 "cells": [
  {
   "cell_type": "markdown",
   "metadata": {},
   "source": [
    "# 1\n",
    "Implement a function that takes a list of integers as its input argument \n",
    "and returns a set of those integers occurring two or more times in the list.\n",
    "\n",
    "\n",
    "#>>>P1([1,2,3,1])\n",
    "{1}\n",
    "\n",
    "#>>>P1([1,2,3,4])\n",
    "set()\n",
    "\n",
    "#>>>P1([])\n",
    "set()\n",
    "\n",
    "#>>> P1([1,2,3,1,4,2])\n",
    "set({1,2})\n",
    "\"\"\""
   ]
  },
  {
   "cell_type": "code",
   "execution_count": 1,
   "metadata": {},
   "outputs": [],
   "source": [
    "def P1(lst:list)->set:\n",
    "    dic = {}\n",
    "    result=set()\n",
    "    for i in lst:\n",
    "        if i in dic:\n",
    "            dic[i]+=1\n",
    "        else:\n",
    "            dic[i]=1\n",
    "    for i in dic:\n",
    "        if dic[i]>=2:\n",
    "            result.add(i)\n",
    "    return result"
   ]
  },
  {
   "cell_type": "code",
   "execution_count": 3,
   "metadata": {},
   "outputs": [
    {
     "data": {
      "text/plain": [
       "{1}"
      ]
     },
     "execution_count": 3,
     "metadata": {},
     "output_type": "execute_result"
    }
   ],
   "source": [
    "%run P1.py\n",
    "P1([1,2,3,1])"
   ]
  },
  {
   "cell_type": "code",
   "execution_count": 4,
   "metadata": {},
   "outputs": [
    {
     "data": {
      "text/plain": [
       "set()"
      ]
     },
     "execution_count": 4,
     "metadata": {},
     "output_type": "execute_result"
    }
   ],
   "source": [
    "P1([1,2,3,4])"
   ]
  },
  {
   "cell_type": "code",
   "execution_count": 5,
   "metadata": {},
   "outputs": [
    {
     "data": {
      "text/plain": [
       "set()"
      ]
     },
     "execution_count": 5,
     "metadata": {},
     "output_type": "execute_result"
    }
   ],
   "source": [
    "P1([])"
   ]
  },
  {
   "cell_type": "code",
   "execution_count": 6,
   "metadata": {},
   "outputs": [
    {
     "data": {
      "text/plain": [
       "{1, 2}"
      ]
     },
     "execution_count": 6,
     "metadata": {},
     "output_type": "execute_result"
    }
   ],
   "source": [
    "P1([1,2,3,1,4,2]) "
   ]
  },
  {
   "cell_type": "markdown",
   "metadata": {},
   "source": [
    "# 2\n",
    "\"\"\"\n",
    "Implement a function that takes a single dictionary as an argument\n",
    "and returns the number of distinct values it contains.\n",
    "\n",
    "* Condition: All values are hashable.\n",
    "#>>>P2({'red': 1, 'green': 1, 'blue': 2})\n",
    "2\n",
    "\n",
    "#>>>P2({(1,2): 'a', 'g': 3, 1: True})\n",
    "3\n",
    "\n",
    "#>>>P2(dict())\n",
    "0\n",
    "\n",
    "#>>>P2({'a':True, 'b': True, 'c':True})\n",
    "1\n",
    "\"\"\""
   ]
  },
  {
   "cell_type": "code",
   "execution_count": 12,
   "metadata": {},
   "outputs": [],
   "source": [
    "def P2(dct:dict)->int:\n",
    "    result = set()\n",
    "    for i in dct:\n",
    "        result.add(dct[i])\n",
    "    return len(result)"
   ]
  },
  {
   "cell_type": "code",
   "execution_count": 15,
   "metadata": {},
   "outputs": [
    {
     "data": {
      "text/plain": [
       "2"
      ]
     },
     "execution_count": 15,
     "metadata": {},
     "output_type": "execute_result"
    }
   ],
   "source": [
    "%run P2.py\n",
    "P2({'red': 1, 'green': 1, 'blue': 2}) "
   ]
  },
  {
   "cell_type": "code",
   "execution_count": 16,
   "metadata": {},
   "outputs": [
    {
     "data": {
      "text/plain": [
       "3"
      ]
     },
     "execution_count": 16,
     "metadata": {},
     "output_type": "execute_result"
    }
   ],
   "source": [
    "P2({(1,2): 'a', 'g': 3, 1: True}) "
   ]
  },
  {
   "cell_type": "code",
   "execution_count": 18,
   "metadata": {},
   "outputs": [
    {
     "data": {
      "text/plain": [
       "0"
      ]
     },
     "execution_count": 18,
     "metadata": {},
     "output_type": "execute_result"
    }
   ],
   "source": [
    "P2(dict())"
   ]
  },
  {
   "cell_type": "code",
   "execution_count": 19,
   "metadata": {},
   "outputs": [
    {
     "data": {
      "text/plain": [
       "1"
      ]
     },
     "execution_count": 19,
     "metadata": {},
     "output_type": "execute_result"
    }
   ],
   "source": [
    "P2({'a':True, 'b': True, 'c':True}) "
   ]
  },
  {
   "cell_type": "markdown",
   "metadata": {},
   "source": [
    "# 3\n",
    "\"\"\"\n",
    "Implement a function that takes a dictionary as an argument\n",
    "and returns the number of values that appear two or more times.\n",
    "\n",
    "* Condition: All values are hashable.\n",
    "\n",
    "#>>>P3({'red': 1, 'green': 1, 'blue': 2})\n",
    "1\n",
    "\n",
    "#>>>P3({'r': 'a', 'g': 'b', 'b': 'c'})\n",
    "0\n",
    "\n",
    "#>>>P3(dict())\n",
    "0\n",
    "\n",
    "#>>>P3({'a':True, 'b': True, 'c':2, 'd':2})\n",
    "2\n",
    "\"\"\""
   ]
  },
  {
   "cell_type": "code",
   "execution_count": 20,
   "metadata": {},
   "outputs": [],
   "source": [
    "def P3(dct:dict)->int:\n",
    "    count = {}\n",
    "    numcount = 0\n",
    "    for key in dct:\n",
    "        if dct[key] in count:\n",
    "            count[dct[key]]+=1\n",
    "        else:\n",
    "            count[dct[key]] = 1\n",
    "    for key in count:\n",
    "        if count[key]>=2:\n",
    "            numcount+=1\n",
    "    return numcount"
   ]
  },
  {
   "cell_type": "code",
   "execution_count": 21,
   "metadata": {},
   "outputs": [
    {
     "data": {
      "text/plain": [
       "1"
      ]
     },
     "execution_count": 21,
     "metadata": {},
     "output_type": "execute_result"
    }
   ],
   "source": [
    "%run P3.py\n",
    "P3({'red': 1, 'green': 1, 'blue': 2})"
   ]
  },
  {
   "cell_type": "code",
   "execution_count": 22,
   "metadata": {},
   "outputs": [
    {
     "data": {
      "text/plain": [
       "0"
      ]
     },
     "execution_count": 22,
     "metadata": {},
     "output_type": "execute_result"
    }
   ],
   "source": [
    "P3({'r': 'a', 'g': 'b', 'b': 'c'})"
   ]
  },
  {
   "cell_type": "code",
   "execution_count": 23,
   "metadata": {},
   "outputs": [
    {
     "data": {
      "text/plain": [
       "0"
      ]
     },
     "execution_count": 23,
     "metadata": {},
     "output_type": "execute_result"
    }
   ],
   "source": [
    "P3(dict())"
   ]
  },
  {
   "cell_type": "code",
   "execution_count": 24,
   "metadata": {},
   "outputs": [
    {
     "data": {
      "text/plain": [
       "2"
      ]
     },
     "execution_count": 24,
     "metadata": {},
     "output_type": "execute_result"
    }
   ],
   "source": [
    "P3({'a':True, 'b': True, 'c':2, 'd':2})"
   ]
  },
  {
   "cell_type": "markdown",
   "metadata": {},
   "source": [
    "# 4\n",
    "\"\"\"\n",
    "A balanced color is one whose red, green, and blue values add up to 1.0. \n",
    "Implement a function that takes a dictionary whose keys are 'R', 'G', and 'B' \n",
    "and whose values are between 0 and 1 as input and that returns True \n",
    "if they represent a balanced color.\n",
    "\n",
    "#>>>P4({'R': 0.2, 'G': 0.3, 'B': 0.5})\n",
    "True\n",
    "\n",
    "#>>>P4({'R': 0.2, 'G': 0.3, 'B': 0.6})\n",
    "False\n",
    "\n",
    "#>>>P4({'R': 0.1, 'G': 0.1, 'B': 0.1})\n",
    "False\n",
    "\"\"\""
   ]
  },
  {
   "cell_type": "code",
   "execution_count": 28,
   "metadata": {},
   "outputs": [],
   "source": [
    "def P4(dct:dict)->bool:\n",
    "    for color in dct:\n",
    "        if dct[color]<0 or dct[color]>1:\n",
    "            return False\n",
    "    count = 0\n",
    "    for color in dct:\n",
    "        count = count + dct[color]\n",
    "    if count == 1:\n",
    "        return True\n",
    "    else:\n",
    "        return False"
   ]
  },
  {
   "cell_type": "code",
   "execution_count": 35,
   "metadata": {},
   "outputs": [
    {
     "data": {
      "text/plain": [
       "False"
      ]
     },
     "execution_count": 35,
     "metadata": {},
     "output_type": "execute_result"
    }
   ],
   "source": [
    "P4({'R': 0.1, 'G': 0.1, 'B': 0.1})"
   ]
  },
  {
   "cell_type": "code",
   "execution_count": 33,
   "metadata": {},
   "outputs": [
    {
     "data": {
      "text/plain": [
       "False"
      ]
     },
     "execution_count": 33,
     "metadata": {},
     "output_type": "execute_result"
    }
   ],
   "source": [
    "P4({'R': 0.2, 'G': 0.3, 'B': 0.6})"
   ]
  },
  {
   "cell_type": "code",
   "execution_count": 34,
   "metadata": {},
   "outputs": [
    {
     "data": {
      "text/plain": [
       "True"
      ]
     },
     "execution_count": 34,
     "metadata": {},
     "output_type": "execute_result"
    }
   ],
   "source": [
    "P4({'R': 0.2, 'G': 0.3, 'B': 0.5})"
   ]
  },
  {
   "cell_type": "markdown",
   "metadata": {},
   "source": [
    "# 5\n",
    "\"\"\"\n",
    "Implement a function that takes two dictionaries as arguments\n",
    "and returns a dictionary that contains only the key/value pairs found in both\n",
    "of the original dictionaries.\n",
    "\n",
    "#>>>P5({'a': 1, 'b':True, 'c':[1,2]}, {'a':1, 'b':123, 'c':[1,2]})\n",
    "{'a': 1, 'c': [1, 2]}\n",
    "\n",
    "#>>>P5({'a': 1, 'b':True }, {'c':1, 'd':123, 'e':[1,2]})\n",
    "{}\n",
    "\n",
    "#>>>P5({}, {'c':1, 'd':123, 'e':[1,2]})\n",
    "{}\n",
    "\"\"\""
   ]
  },
  {
   "cell_type": "code",
   "execution_count": 54,
   "metadata": {},
   "outputs": [],
   "source": [
    "def P5(dct1, dct2):\n",
    "    result ={}\n",
    "    intersection = dct1.keys()&dct2.keys()\n",
    "    for key in intersection:\n",
    "        if dct1[key]==dct2[key]:\n",
    "            result[key] = dct1[key]\n",
    "    return result"
   ]
  },
  {
   "cell_type": "code",
   "execution_count": 56,
   "metadata": {},
   "outputs": [
    {
     "data": {
      "text/plain": [
       "{'a': 1, 'c': [1, 2]}"
      ]
     },
     "execution_count": 56,
     "metadata": {},
     "output_type": "execute_result"
    }
   ],
   "source": [
    "P5({'a': 1, 'b':True, 'c':[1,2]}, {'a':1, 'b':123, 'c':[1,2]})"
   ]
  },
  {
   "cell_type": "code",
   "execution_count": 57,
   "metadata": {},
   "outputs": [
    {
     "data": {
      "text/plain": [
       "{}"
      ]
     },
     "execution_count": 57,
     "metadata": {},
     "output_type": "execute_result"
    }
   ],
   "source": [
    "P5({'a': 1, 'b':True }, {'c':1, 'd':123, 'e':[1,2]})"
   ]
  },
  {
   "cell_type": "code",
   "execution_count": 58,
   "metadata": {},
   "outputs": [
    {
     "data": {
      "text/plain": [
       "{}"
      ]
     },
     "execution_count": 58,
     "metadata": {},
     "output_type": "execute_result"
    }
   ],
   "source": [
    "P5({}, {'c':1, 'd':123, 'e':[1,2]})"
   ]
  },
  {
   "cell_type": "markdown",
   "metadata": {},
   "source": [
    "# 6\n",
    "Programmers sometimes use a dictionary of dictionaries as a simple database.\n",
    "For example, to keep track of information about famous scientists, you might\n",
    "have a dictionary where the keys are strings and the values are dictionaries,\n",
    "like this:\n",
    "{\n",
    "    'jgoodall' : {'surname' : 'Goodall',\n",
    "                'forename' : 'Jane',\n",
    "                'born' : 1934,\n",
    "                'died' : None,\n",
    "                'notes' : 'primate researcher',\n",
    "                'author' : ['In the Shadow of Man','The Chimpanzees of Gombe']},\n",
    "    'rfranklin' : {'surname' : 'Franklin',\n",
    "                'forename' : 'Rosalind',\n",
    "                'born' : 1920,\n",
    "                'died' : 1957,\n",
    "                'notes' : 'contributed to discovery of DNA'},\n",
    "    'rcarson' : {'surname' : 'Carson',\n",
    "                'forename' : 'Rachel',\n",
    "                'born' : 1907,\n",
    "                'died' : 1964,\n",
    "                'notes' : 'raised awareness of effects of DDT',\n",
    "                'author' : ['Silent Spring']}\n",
    "}\n",
    "Implement a function that returns the set of keys used in any of the inner dictionaries. \n",
    "\n",
    "* Condition 1: There is no case where the value of value is dictionary or the value of value of value is dictionary ... so on)\n",
    "* Condition 2: The values are all dictionaries.\n",
    "* Condition 3: There is no case where the input is empty.\n",
    "\n",
    "\n",
    "#>>>P6({\n",
    "    'jgoodall' : {'surname' : 'Goodall',\n",
    "                'forename' : 'Jane',\n",
    "                'born' : 1934,\n",
    "                'died' : None,\n",
    "                'notes' : 'primate researcher',\n",
    "                'author' : ['In the Shadow of Man','The Chimpanzees of Gombe']},\n",
    "    'rfranklin' : {'surname' : 'Franklin',\n",
    "                'forename' : 'Rosalind',\n",
    "                'born' : 1920,\n",
    "                'died' : 1957,\n",
    "                'notes' : 'contributed to discovery of DNA'},\n",
    "    'rcarson' : {'surname' : 'Carson',\n",
    "                'forename' : 'Rachel',\n",
    "                'born' : 1907,\n",
    "                'died' : 1964,\n",
    "                'notes' : 'raised awareness of effects of DDT',\n",
    "                'author' : ['Silent Spring']}\n",
    "    })\n",
    "{'author', 'born', 'died', 'forename', 'notes', 'surname'}\n",
    "\"\"\""
   ]
  },
  {
   "cell_type": "code",
   "execution_count": 4,
   "metadata": {},
   "outputs": [],
   "source": [
    "def P6(dct:dict)->set:\n",
    "    result = set()\n",
    "    for key in dct:\n",
    "        for innerkey in dct[key].keys():\n",
    "            result.add(innerkey)\n",
    "    return result"
   ]
  },
  {
   "cell_type": "code",
   "execution_count": 6,
   "metadata": {},
   "outputs": [
    {
     "data": {
      "text/plain": [
       "{'author', 'born', 'died', 'forename', 'notes', 'surname'}"
      ]
     },
     "execution_count": 6,
     "metadata": {},
     "output_type": "execute_result"
    }
   ],
   "source": [
    "P6({\n",
    "    'jgoodall' : {'surname' : 'Goodall',\n",
    "                'forename' : 'Jane',\n",
    "                'born' : 1934,\n",
    "                'died' : None,\n",
    "                'notes' : 'primate researcher',\n",
    "                'author' : ['In the Shadow of Man','The Chimpanzees of Gombe']},\n",
    "    'rfranklin' : {'surname' : 'Franklin',\n",
    "                'forename' : 'Rosalind',\n",
    "                'born' : 1920,\n",
    "                'died' : 1957,\n",
    "                'notes' : 'contributed to discovery of DNA'},\n",
    "    'rcarson' : {'surname' : 'Carson',\n",
    "                'forename' : 'Rachel',\n",
    "                'born' : 1907,\n",
    "                'died' : 1964,\n",
    "                'notes' : 'raised awareness of effects of DDT',\n",
    "                'author' : ['Silent Spring']}\n",
    "    })"
   ]
  },
  {
   "cell_type": "markdown",
   "metadata": {},
   "source": [
    "# 7\n",
    "Implement a function that takes a dictionary of dictionaries in the format \n",
    "described in the previous question(P6) and returns True\n",
    "if and only if every one of the inner dictionaries has exactly the same keys.\n",
    "\n",
    "* Condition 1: There is no case where the value of value is dictionary or the value of value of value is dictionary ... so on)\n",
    "* Condition 2: The values are all dictionaries.\n",
    "* Condition 3: There is no case where the input is empty.\n",
    "\n",
    "\n",
    "#>>>P7({\n",
    "    'jgoodall' : {'surname' : 'Goodall',\n",
    "                'forename' : 'Jane',\n",
    "                'born' : 1934,\n",
    "                'died' : None,\n",
    "                'notes' : 'primate researcher',\n",
    "                'author' : ['In the Shadow of Man','The Chimpanzees of Gombe']},\n",
    "    'rfranklin' : {'surname' : 'Franklin',\n",
    "                'forename' : 'Rosalind',\n",
    "                'born' : 1920,\n",
    "                'died' : 1957,\n",
    "                'notes' : 'contributed to discovery of DNA'},\n",
    "    'rcarson' : {'surname' : 'Carson',\n",
    "                'forename' : 'Rachel',\n",
    "                'born' : 1907,\n",
    "                'died' : 1964,\n",
    "                'notes' : 'raised awareness of effects of DDT',\n",
    "                'author' : ['Silent Spring']}\n",
    "    })\n",
    "False\n",
    "Explanation: The value of 'rfranklin' doesn't contain the 'author' key.)\n",
    "\n",
    "#>>>P7({'a':{'aa':123, 'ab':[1,2]}, 'b':{'aa':'bb', 'ab':'cc'}})\n",
    "True\n",
    "Explanation: All values have exactly the same keys. {'aa', 'ab'}\n",
    "\n",
    "\"\"\""
   ]
  },
  {
   "cell_type": "code",
   "execution_count": 10,
   "metadata": {},
   "outputs": [],
   "source": [
    "def P7(dct:dict)->bool:\n",
    "    innerkeydic = {}\n",
    "    for key in dct:\n",
    "        innerkeydic[key]=set()\n",
    "        for innerkey in dct[key]:\n",
    "            innerkeydic[key].add(innerkey)\n",
    "    one_value = innerkeydic.popitem()[1]\n",
    "    if all( value == one_value for value in innerkeydic.values() ):\n",
    "        return True\n",
    "    else:\n",
    "        return False"
   ]
  },
  {
   "cell_type": "code",
   "execution_count": 11,
   "metadata": {},
   "outputs": [
    {
     "data": {
      "text/plain": [
       "False"
      ]
     },
     "execution_count": 11,
     "metadata": {},
     "output_type": "execute_result"
    }
   ],
   "source": [
    "P7({\n",
    "    'jgoodall' : {'surname' : 'Goodall',\n",
    "                'forename' : 'Jane',\n",
    "                'born' : 1934,\n",
    "                'died' : None,\n",
    "                'notes' : 'primate researcher',\n",
    "                'author' : ['In the Shadow of Man','The Chimpanzees of Gombe']},\n",
    "    'rfranklin' : {'surname' : 'Franklin',\n",
    "                'forename' : 'Rosalind',\n",
    "                'born' : 1920,\n",
    "                'died' : 1957,\n",
    "                'notes' : 'contributed to discovery of DNA'},\n",
    "    'rcarson' : {'surname' : 'Carson',\n",
    "                'forename' : 'Rachel',\n",
    "                'born' : 1907,\n",
    "                'died' : 1964,\n",
    "                'notes' : 'raised awareness of effects of DDT',\n",
    "                'author' : ['Silent Spring']}\n",
    "    })"
   ]
  },
  {
   "cell_type": "code",
   "execution_count": 16,
   "metadata": {},
   "outputs": [
    {
     "data": {
      "text/plain": [
       "True"
      ]
     },
     "execution_count": 16,
     "metadata": {},
     "output_type": "execute_result"
    }
   ],
   "source": [
    "P7({'a':{'aa':123, 'ab':[1,2]}, 'b':{'aa':'bb', 'ab':'cc'}})"
   ]
  },
  {
   "cell_type": "code",
   "execution_count": 18,
   "metadata": {},
   "outputs": [
    {
     "data": {
      "text/plain": [
       "{}"
      ]
     },
     "execution_count": 18,
     "metadata": {},
     "output_type": "execute_result"
    }
   ],
   "source": []
  },
  {
   "cell_type": "markdown",
   "metadata": {},
   "source": [
    "# 8\n",
    "A sparse vector is a vector whose entries are almost all zero, like [1, 0, 0, 0, 0, 0, 3, 0, 0, 0]. \n",
    "Storing all those zeros in a list wastes memory, so programmers often use dictionaries instead \n",
    "to keep track of just the nonzero entries. For example, the vector shown earlier would be \n",
    "represented as {0:1, 6:3}, because the vector it is meant to represent has \n",
    "the value 1 at index 0 and the value 3 at index 6.\n",
    "\n",
    "The sum of two vectors is just the element-wise sum of their elements.\n",
    "For example, the sum of [1, 2, 3] and [4, 5, 6] is [5, 7, 9]. Implement a function\n",
    "that takes two sparse vectors stored as dictionaries and returns a new dictionary representing their sum.\n",
    "\n",
    "* Condition: All entries of vector are integers.\n",
    "\n",
    "\n",
    "#>>>P8({0:1, 6:3}, {0:2, 5:2, 6:2, 7:1})\n",
    "{0:3, 5:2, 6:5, 7:1}\n",
    "\n",
    "#>>>P8({0:1, 6:3}, {0:-1, 5:2, 6:2, 7:1})\n",
    "{6: 5, 5: 2, 7: 1}\n",
    "\n",
    "#>>>P8({0:1, 6:3}, {0:-1, 1:1, 2:2, 6:-3})\n",
    "{1: 1, 2: 2}\n",
    "\n",
    "#>>>P8({0:1, 6:-3}, {0:-1, 6:3})\n",
    "{}\n",
    "\"\"\""
   ]
  },
  {
   "cell_type": "code",
   "execution_count": 23,
   "metadata": {},
   "outputs": [],
   "source": [
    "def P8(dct1, dct2)->dict:\n",
    "    result = {}\n",
    "    for key1 in dct1.keys():\n",
    "        if key1 in dct2.keys():\n",
    "            result[key1] = dct1[key1]+dct2[key1]\n",
    "        else:\n",
    "            result[key1] = dct1[key1]\n",
    "    for key2 in dct2.keys():\n",
    "        if key2 in dct1.keys():\n",
    "            if result[key2] == 0:\n",
    "                result.pop(key2)\n",
    "        else:\n",
    "            result[key2] = dct2[key2]\n",
    "    \n",
    "    return result"
   ]
  },
  {
   "cell_type": "code",
   "execution_count": 24,
   "metadata": {},
   "outputs": [
    {
     "data": {
      "text/plain": [
       "{0: 3, 6: 5, 5: 2, 7: 1}"
      ]
     },
     "execution_count": 24,
     "metadata": {},
     "output_type": "execute_result"
    }
   ],
   "source": [
    "P8({0:1, 6:3}, {0:2, 5:2, 6:2, 7:1})"
   ]
  },
  {
   "cell_type": "code",
   "execution_count": 25,
   "metadata": {},
   "outputs": [
    {
     "data": {
      "text/plain": [
       "{6: 5, 5: 2, 7: 1}"
      ]
     },
     "execution_count": 25,
     "metadata": {},
     "output_type": "execute_result"
    }
   ],
   "source": [
    "P8({0:1, 6:3}, {0:-1, 5:2, 6:2, 7:1})"
   ]
  },
  {
   "cell_type": "code",
   "execution_count": 26,
   "metadata": {},
   "outputs": [
    {
     "data": {
      "text/plain": [
       "{1: 1, 2: 2}"
      ]
     },
     "execution_count": 26,
     "metadata": {},
     "output_type": "execute_result"
    }
   ],
   "source": [
    "P8({0:1, 6:3}, {0:-1, 1:1, 2:2, 6:-3})"
   ]
  },
  {
   "cell_type": "code",
   "execution_count": 27,
   "metadata": {},
   "outputs": [
    {
     "data": {
      "text/plain": [
       "{}"
      ]
     },
     "execution_count": 27,
     "metadata": {},
     "output_type": "execute_result"
    }
   ],
   "source": [
    "P8({0:1, 6:-3}, {0:-1, 6:3})"
   ]
  },
  {
   "cell_type": "markdown",
   "metadata": {},
   "source": [
    "# 9\n",
    "Same explanation with P8 (sparse vector)\n",
    "\n",
    "The dot product of two vectors is the sum of the products of corresponding elements. \n",
    "For example, the dot product of [1, 2, 3] and [4, 5, 6] is 4+10+18 = 32. \n",
    "Implement another function that calculates the dot product of two sparse vectors.\n",
    "\n",
    "\n",
    "#>>>P9({0:1, 6:3}, {0:2, 5:2, 6:2, 7:1})\n",
    "8\n",
    "\n",
    "#>>>P9({0:1, 6:3}, {1:-1, 2:2, 3:2, 4:1})\n",
    "0\n",
    "\n",
    "#>>>P9({0:1, 6:-3}, {0:-1, 6:3})\n",
    "-10\n",
    "\"\"\""
   ]
  },
  {
   "cell_type": "code",
   "execution_count": 45,
   "metadata": {},
   "outputs": [],
   "source": [
    "def P9(dct1, dct2)->int:\n",
    "    common = dct1.keys()&dct2.keys()\n",
    "    result = 0\n",
    "    for key in common:\n",
    "        result += dct1[key]*dct2[key]\n",
    "    return result"
   ]
  },
  {
   "cell_type": "code",
   "execution_count": 46,
   "metadata": {},
   "outputs": [
    {
     "data": {
      "text/plain": [
       "8"
      ]
     },
     "execution_count": 46,
     "metadata": {},
     "output_type": "execute_result"
    }
   ],
   "source": [
    "P9({0:1, 6:3}, {0:2, 5:2, 6:2, 7:1})"
   ]
  },
  {
   "cell_type": "code",
   "execution_count": 47,
   "metadata": {},
   "outputs": [
    {
     "data": {
      "text/plain": [
       "0"
      ]
     },
     "execution_count": 47,
     "metadata": {},
     "output_type": "execute_result"
    }
   ],
   "source": [
    "P9({0:1, 6:3}, {1:-1, 2:2, 3:2, 4:1})"
   ]
  },
  {
   "cell_type": "code",
   "execution_count": 48,
   "metadata": {},
   "outputs": [
    {
     "data": {
      "text/plain": [
       "-10"
      ]
     },
     "execution_count": 48,
     "metadata": {},
     "output_type": "execute_result"
    }
   ],
   "source": [
    "P9({0:1, 6:-3}, {0:-1, 6:3})"
   ]
  },
  {
   "cell_type": "markdown",
   "metadata": {},
   "source": [
    "# 10\n",
    "There is a set of words and a query word.\n",
    "You must change exactly one character of the query word.\n",
    "Implement a function that determins whether the changed word can be the element of the set.\n",
    "\n",
    "* Condition: Words consist of only lower-case alphabet(s) and no space.\n",
    "\n",
    "\n",
    ">>>P10({\"data\", \"science\"}, \"data\")\n",
    "False\n",
    "Explanation: If you change one character of the query word, there is no matching word in the set.\n",
    "\n",
    ">>>P10({\"data\", \"science\"}, \"daaa\")\n",
    "True\n",
    "Explanation: You can change one alphabet to make \"daaa\" -> \"data\" .\n",
    "\n",
    ">>>P10({\"data\", \"science\"}, \"scienzz\")\n",
    "False\n",
    "\n",
    ">>>P10({\"data\", \"science\", \"scienze\"}, \"scienzz\")\n",
    "True\n",
    "\n",
    ">>>P10({\"data\", \"science\"}, \"dataa\")\n",
    "False"
   ]
  },
  {
   "cell_type": "code",
   "execution_count": 63,
   "metadata": {},
   "outputs": [],
   "source": [
    "def P10(word_set, query_word):\n",
    "    candidate = set()\n",
    "    for word in word_set:\n",
    "        if (word[0] == query_word[0] or word[-1] == query_word[-1]) and len(word)==len(query_word):\n",
    "             candidate.add(word)\n",
    "    if not candidate:\n",
    "        return False\n",
    "    for candi_word in candidate:\n",
    "        count = 0\n",
    "        for i in range(len(query_word)):\n",
    "            if candi_word[i] == query_word[i]:\n",
    "                count +=1\n",
    "        if count == len(query_word) -1:\n",
    "            return True\n",
    "        else:\n",
    "            return False"
   ]
  },
  {
   "cell_type": "code",
   "execution_count": 66,
   "metadata": {},
   "outputs": [
    {
     "data": {
      "text/plain": [
       "False"
      ]
     },
     "execution_count": 66,
     "metadata": {},
     "output_type": "execute_result"
    }
   ],
   "source": [
    "P10({\"data\", \"science\"}, \"data\")"
   ]
  },
  {
   "cell_type": "code",
   "execution_count": 67,
   "metadata": {},
   "outputs": [
    {
     "data": {
      "text/plain": [
       "True"
      ]
     },
     "execution_count": 67,
     "metadata": {},
     "output_type": "execute_result"
    }
   ],
   "source": [
    "P10({\"data\", \"science\"}, \"daaa\")"
   ]
  },
  {
   "cell_type": "code",
   "execution_count": 68,
   "metadata": {},
   "outputs": [
    {
     "data": {
      "text/plain": [
       "False"
      ]
     },
     "execution_count": 68,
     "metadata": {},
     "output_type": "execute_result"
    }
   ],
   "source": [
    "P10({\"data\", \"science\"}, \"scienzz\")"
   ]
  },
  {
   "cell_type": "code",
   "execution_count": 69,
   "metadata": {},
   "outputs": [
    {
     "data": {
      "text/plain": [
       "True"
      ]
     },
     "execution_count": 69,
     "metadata": {},
     "output_type": "execute_result"
    }
   ],
   "source": [
    "P10({\"data\", \"science\", \"scienze\"}, \"scienzz\")"
   ]
  },
  {
   "cell_type": "code",
   "execution_count": 70,
   "metadata": {},
   "outputs": [
    {
     "data": {
      "text/plain": [
       "False"
      ]
     },
     "execution_count": 70,
     "metadata": {},
     "output_type": "execute_result"
    }
   ],
   "source": [
    "P10({\"data\", \"science\"}, \"dataa\")"
   ]
  },
  {
   "cell_type": "code",
   "execution_count": 71,
   "metadata": {},
   "outputs": [
    {
     "data": {
      "text/plain": [
       "False"
      ]
     },
     "execution_count": 71,
     "metadata": {},
     "output_type": "execute_result"
    }
   ],
   "source": [
    "P10({\"ab\"},'a')"
   ]
  },
  {
   "cell_type": "code",
   "execution_count": null,
   "metadata": {},
   "outputs": [],
   "source": []
  }
 ],
 "metadata": {
  "kernelspec": {
   "display_name": "Python 3",
   "language": "python",
   "name": "python3"
  },
  "language_info": {
   "codemirror_mode": {
    "name": "ipython",
    "version": 3
   },
   "file_extension": ".py",
   "mimetype": "text/x-python",
   "name": "python",
   "nbconvert_exporter": "python",
   "pygments_lexer": "ipython3",
   "version": "3.9.1"
  }
 },
 "nbformat": 4,
 "nbformat_minor": 4
}
