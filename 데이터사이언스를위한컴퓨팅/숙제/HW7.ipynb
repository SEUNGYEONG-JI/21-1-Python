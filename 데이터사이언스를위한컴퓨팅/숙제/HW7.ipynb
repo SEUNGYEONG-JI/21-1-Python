{
 "cells": [
  {
   "cell_type": "markdown",
   "metadata": {},
   "source": [
    "# 1\n",
    "버블 소팅 알고리즘은 인접한 두 원소의 순서가 잘못되었을 때(앞의 원소가 뒤의 원소보다 클 때) 서로\n",
    "swap 하면서 정렬하는 알고리즘이다.\n",
    "\n",
    "정수로 이루어진 list 를 입력으로 받아서 버블 소팅할 때, swap 이 일어나는 횟수를 return 하는 함수를\n",
    "구현하시오."
   ]
  },
  {
   "cell_type": "code",
   "execution_count": 7,
   "metadata": {},
   "outputs": [],
   "source": [
    "def swap_1time(lst)->int:\n",
    "    count = 0\n",
    "    for i in range(len(lst)-1):\n",
    "            if lst[i] > lst[i+1]:\n",
    "                lst[i], lst[i+1] = lst[i+1], lst[i]\n",
    "                count += 1\n",
    "    return count\n",
    "\n",
    "\n",
    "def P1(lst):\n",
    "    count = 0\n",
    "    if len(lst) == 1:\n",
    "        return 0\n",
    "    \n",
    "    #swap 1 time\n",
    "    elif len(lst)>1:\n",
    "        new_count = swap_1time(lst)\n",
    "        count += new_count\n",
    "        \n",
    "        #Base case\n",
    "        if new_count == 0 :\n",
    "            return count\n",
    "        \n",
    "        #Recursive case\n",
    "        else:\n",
    "            count+= P1(lst)\n",
    "            \n",
    "    return count"
   ]
  },
  {
   "cell_type": "code",
   "execution_count": 8,
   "metadata": {},
   "outputs": [
    {
     "data": {
      "text/plain": [
       "4"
      ]
     },
     "execution_count": 8,
     "metadata": {},
     "output_type": "execute_result"
    }
   ],
   "source": [
    "P1([5, 1, 4, 2, 8])"
   ]
  },
  {
   "cell_type": "code",
   "execution_count": 9,
   "metadata": {},
   "outputs": [
    {
     "data": {
      "text/plain": [
       "0"
      ]
     },
     "execution_count": 9,
     "metadata": {},
     "output_type": "execute_result"
    }
   ],
   "source": [
    "P1([-1, -1, -1, -1, -1])"
   ]
  },
  {
   "cell_type": "code",
   "execution_count": 10,
   "metadata": {},
   "outputs": [
    {
     "data": {
      "text/plain": [
       "15"
      ]
     },
     "execution_count": 10,
     "metadata": {},
     "output_type": "execute_result"
    }
   ],
   "source": [
    "P1([6, 5, 4, 3, 2, 1])"
   ]
  },
  {
   "cell_type": "code",
   "execution_count": 11,
   "metadata": {},
   "outputs": [
    {
     "data": {
      "text/plain": [
       "40"
      ]
     },
     "execution_count": 11,
     "metadata": {},
     "output_type": "execute_result"
    }
   ],
   "source": [
    "P1([1,5,2,3,6,6,1,2,3,4,21,1,11,-1])"
   ]
  },
  {
   "cell_type": "markdown",
   "metadata": {},
   "source": [
    "# 2\n",
    "다음 조건을 만족하는 list 가 있다.\n",
    "\n",
    "1. 모든 원소는 알파벳 소문자로 된 string 이다. (공백 없음)\n",
    "\n",
    "2. 각 string 의 길이는 1 이상 20 이하이다.\n",
    "\n",
    "이 list 를 입력으로 받아서 다음 조건에 따라 정렬하여 return 하는 함수를 구현하시오.\n",
    "\n",
    "1. 길이가 짧은 string 이 앞에 있어야 한다.\n",
    "\n",
    "2. 길이가 같다면 사전 순서가 빠른 string 이 앞에 있어야 한다.\n",
    "\n",
    "3. input list 를 정렬하고 return 해도 되고 새로운 list 를 return 해도 된다.\n"
   ]
  },
  {
   "cell_type": "code",
   "execution_count": null,
   "metadata": {},
   "outputs": [],
   "source": [
    "def compare(word:str)->int:\n",
    "    "
   ]
  },
  {
   "cell_type": "code",
   "execution_count": 12,
   "metadata": {},
   "outputs": [
    {
     "data": {
      "text/plain": [
       "False"
      ]
     },
     "execution_count": 12,
     "metadata": {},
     "output_type": "execute_result"
    }
   ],
   "source": [
    "#필요없어짐..\n",
    "def same_length_word_sort(lst):\n",
    "    length = len(lst[0])\n",
    "    count = 0\n",
    "    for i in range(len(lst)):\n",
    "        if compare(lst[i]) > compare(lst[i+1]):\n",
    "            lst[i], lst[i+1] = lst[i+1], lst[i]\n",
    "            count += 1\n",
    "    if count >0:\n",
    "        same_length_word_sort(lst)\n",
    "    else:\n",
    "        return\n",
    "        \n",
    "\n",
    "        "
   ]
  },
  {
   "cell_type": "code",
   "execution_count": 36,
   "metadata": {},
   "outputs": [],
   "source": [
    "def P2(lst):\n",
    "    result = []\n",
    "    #divide words by its length\n",
    "    #lst_by_len[i] is the list of length i words\n",
    "    lst_by_len = [[] for i in range(21)]\n",
    "    for i in range(len(lst)):\n",
    "        lst_by_len[len(lst[i])].append(lst[i])\n",
    "    \n",
    "    #sorting\n",
    "    for sublst in lst_by_len:\n",
    "        sublst.sort()\n",
    "    \n",
    "    for sublst in lst_by_len:\n",
    "        result.extend(sublst)\n",
    "        \n",
    "    return result\n",
    "    \n",
    "    \n"
   ]
  },
  {
   "cell_type": "code",
   "execution_count": 41,
   "metadata": {},
   "outputs": [
    {
     "data": {
      "text/plain": [
       "True"
      ]
     },
     "execution_count": 41,
     "metadata": {},
     "output_type": "execute_result"
    }
   ],
   "source": [
    "P2(['solve','this','problem','or','you','will','get','f']) == ['f', 'or', 'get', 'you', 'this', 'will', 'solve', 'problem']\n"
   ]
  },
  {
   "cell_type": "code",
   "execution_count": 42,
   "metadata": {},
   "outputs": [
    {
     "data": {
      "text/plain": [
       "True"
      ]
     },
     "execution_count": 42,
     "metadata": {},
     "output_type": "execute_result"
    }
   ],
   "source": [
    "\n",
    "P2(['making','homework','is','very','fun','ha','ha']) == ['ha', 'ha', 'is', 'fun', 'very', 'making', 'homework']"
   ]
  },
  {
   "cell_type": "code",
   "execution_count": 39,
   "metadata": {},
   "outputs": [
    {
     "data": {
      "text/plain": [
       "True"
      ]
     },
     "execution_count": 39,
     "metadata": {},
     "output_type": "execute_result"
    }
   ],
   "source": [
    "P2(['computing','class','is','so','funny','haha']) == ['is', 'so', 'haha', 'class', 'funny', 'computing']"
   ]
  },
  {
   "cell_type": "markdown",
   "metadata": {},
   "source": [
    "# 3\n",
    "행렬은 각 행을 list 로 가지는 list 로 표현할 수 있다. 즉, 다음과 같은 행렬은 [[1,3,0],[2,5,3],[3,4,1],[2,0,0]]과\n",
    "같이 표현한다.\n",
    "\n",
    "행렬을 입력으로 받아서 오른쪽 아래 대각선 방향으로 정렬한 행렬을 return 하는 함수를 구현하시오. \n",
    "\n",
    "즉,\n",
    "다음과 같이 정렬한 다음 return 해야 한다. (input list 를 정렬하고 return 해도 되고 새로운 list 를\n",
    "return 해도 된다"
   ]
  },
  {
   "cell_type": "code",
   "execution_count": 44,
   "metadata": {},
   "outputs": [
    {
     "data": {
      "text/plain": [
       "(12, [23])"
      ]
     },
     "execution_count": 44,
     "metadata": {},
     "output_type": "execute_result"
    }
   ],
   "source": [
    "L = [12,23]\n",
    "a = L.pop(0)\n",
    "a,L"
   ]
  },
  {
   "cell_type": "code",
   "execution_count": 74,
   "metadata": {},
   "outputs": [],
   "source": [
    "def P3(matrix):\n",
    "    n = len(matrix)\n",
    "    p = len(matrix[0])\n",
    "\n",
    "    #주어진 matrix를 오른쪽위 대각선 성분들부터 같은 대각선에 있는 성분들을 list로 모은다.\n",
    "    decomp = [[] for i in range(n+p-1)]\n",
    "    \n",
    "    for i in range(n+p-1):\n",
    "        #1행 오른쪽부터 시작해서 1행이 끝날때까지 모을 수 있는 것들 다 모은다.\n",
    "        if i < p:\n",
    "            for j in range(n):\n",
    "                if j+p-(i+1) < p and matrix[j]:\n",
    "\n",
    "                    decomp[i].append(matrix[j].pop(j+p-(i+1) ))\n",
    "        # a - j = p - (i+1) # a 는 pop index\n",
    "        \n",
    "        #1열 2번째 행부터 시작해서 1열이 다 끝날때까지 모을 수 있는 것들 다 모은다.\n",
    "        elif i >= p:\n",
    "            for j in range(n):\n",
    "                if j+p-(i+1) < p and matrix[j]:\n",
    "\n",
    "                    decomp[i].append(matrix[j].pop(j+p-(i+1) ))\n",
    "    \n",
    "    #decomp의 각 sublist를 정렬한다                \n",
    "    for sublist in decomp:\n",
    "        sublist.sort()\n",
    "    \n",
    "    #결과 matrix\n",
    "    result = [[] for i in range(n)]\n",
    "        \n",
    "    #1행의 앞에서부터 끝까지 다 채우고, 2행의 앞에서부터 끝까지... 하여 n 행의 앞에서부터 끝가지 채우는 방식으로 진행\n",
    "    #1행의 1열은 decomp의 p-1번째 리스트이다.\n",
    "    for i in range(n):\n",
    "        # 1행의 1열은 decomp의 p-1번째 리스트, 2행의 1열은 decomp의 p번째 리스트 \n",
    "        for j in range(p-1+i,-1+i,-1):\n",
    "            if decomp[j]:\n",
    "                result[i].append(decomp[j].pop(0))\n",
    " \n",
    "    \n",
    "    return result"
   ]
  },
  {
   "cell_type": "code",
   "execution_count": 62,
   "metadata": {},
   "outputs": [
    {
     "ename": "NameError",
     "evalue": "name 'decomp' is not defined",
     "output_type": "error",
     "traceback": [
      "\u001b[1;31m---------------------------------------------------------------------------\u001b[0m",
      "\u001b[1;31mNameError\u001b[0m                                 Traceback (most recent call last)",
      "\u001b[1;32m<ipython-input-62-9763f077124f>\u001b[0m in \u001b[0;36m<module>\u001b[1;34m\u001b[0m\n\u001b[1;32m----> 1\u001b[1;33m \u001b[0mdecomp\u001b[0m\u001b[1;33m[\u001b[0m\u001b[1;36m0\u001b[0m\u001b[1;33m]\u001b[0m\u001b[1;33m.\u001b[0m\u001b[0mappend\u001b[0m\u001b[1;33m(\u001b[0m\u001b[0mmatrix\u001b[0m\u001b[1;33m[\u001b[0m\u001b[1;36m0\u001b[0m\u001b[1;33m]\u001b[0m\u001b[1;33m.\u001b[0m\u001b[0mpop\u001b[0m\u001b[1;33m(\u001b[0m\u001b[0mp\u001b[0m\u001b[1;33m-\u001b[0m\u001b[1;36m1\u001b[0m\u001b[1;33m)\u001b[0m\u001b[1;33m)\u001b[0m\u001b[1;33m\u001b[0m\u001b[1;33m\u001b[0m\u001b[0m\n\u001b[0m\u001b[0;32m      2\u001b[0m \u001b[1;33m\u001b[0m\u001b[0m\n\u001b[0;32m      3\u001b[0m \u001b[0mdecomp\u001b[0m\u001b[1;33m[\u001b[0m\u001b[1;36m1\u001b[0m\u001b[1;33m]\u001b[0m\u001b[1;33m.\u001b[0m\u001b[0mappend\u001b[0m\u001b[1;33m(\u001b[0m\u001b[0mmatrix\u001b[0m\u001b[1;33m[\u001b[0m\u001b[1;36m0\u001b[0m\u001b[1;33m]\u001b[0m\u001b[1;33m.\u001b[0m\u001b[0mpop\u001b[0m\u001b[1;33m(\u001b[0m\u001b[0mp\u001b[0m\u001b[1;33m-\u001b[0m\u001b[1;36m2\u001b[0m\u001b[1;33m)\u001b[0m\u001b[1;33m)\u001b[0m\u001b[1;33m\u001b[0m\u001b[1;33m\u001b[0m\u001b[0m\n\u001b[0;32m      4\u001b[0m \u001b[0mdecomp\u001b[0m\u001b[1;33m[\u001b[0m\u001b[1;36m1\u001b[0m\u001b[1;33m]\u001b[0m\u001b[1;33m.\u001b[0m\u001b[0mappend\u001b[0m\u001b[1;33m(\u001b[0m\u001b[0mmatrix\u001b[0m\u001b[1;33m[\u001b[0m\u001b[1;36m1\u001b[0m\u001b[1;33m]\u001b[0m\u001b[1;33m.\u001b[0m\u001b[0mpop\u001b[0m\u001b[1;33m(\u001b[0m\u001b[0mp\u001b[0m\u001b[1;33m-\u001b[0m\u001b[1;36m1\u001b[0m\u001b[1;33m)\u001b[0m\u001b[1;33m)\u001b[0m\u001b[1;33m\u001b[0m\u001b[1;33m\u001b[0m\u001b[0m\n\u001b[0;32m      5\u001b[0m \u001b[1;33m\u001b[0m\u001b[0m\n",
      "\u001b[1;31mNameError\u001b[0m: name 'decomp' is not defined"
     ]
    }
   ],
   "source": [
    "decomp[0].append(matrix[0].pop(p-1))\n",
    "\n",
    "decomp[1].append(matrix[0].pop(p-2))\n",
    "decomp[1].append(matrix[1].pop(p-1))\n",
    "\n",
    "\n",
    "decomp[2].append(matrix[0].pop(p-3))\n",
    "decomp[2].append(matrix[1].pop(p-2))\n",
    "decomp[2].append(matrix[2].pop(p-1))\n",
    "\n",
    "decomp[3].append(matrix[1].pop(p-3))\n",
    "decomp[3].append(matrix[2].pop(p-2))\n",
    "decomp[3].append(matrix[3].pop(p-1))\n",
    "\n",
    "decomp[4].append(matrix[2].pop(p-3))\n",
    "decomp[4].append(matrix[3].pop(p-2))\n",
    "decomp[4].append(matrix[4].pop(p-1))"
   ]
  },
  {
   "cell_type": "code",
   "execution_count": 75,
   "metadata": {},
   "outputs": [
    {
     "data": {
      "text/plain": [
       "[[1, 3, 0, 2, 5], [2, 5, 3, 2, 5]]"
      ]
     },
     "execution_count": 75,
     "metadata": {},
     "output_type": "execute_result"
    }
   ],
   "source": [
    "P3([[1,3,0,2,5],[2,5,3,2,5]])"
   ]
  },
  {
   "cell_type": "code",
   "execution_count": 76,
   "metadata": {},
   "outputs": [
    {
     "data": {
      "text/plain": [
       "True"
      ]
     },
     "execution_count": 76,
     "metadata": {},
     "output_type": "execute_result"
    }
   ],
   "source": [
    "P3([[1,3,0],[2,5,3],[3,4,1],[2,0,0]]) == [[1, 3, 0], [0, 1, 3], [0, 2, 5], [2, 3, 4]]\n",
    "\n"
   ]
  },
  {
   "cell_type": "code",
   "execution_count": 77,
   "metadata": {},
   "outputs": [
    {
     "data": {
      "text/plain": [
       "True"
      ]
     },
     "execution_count": 77,
     "metadata": {},
     "output_type": "execute_result"
    }
   ],
   "source": [
    "P3([[1,6,2,4,6,2,4,7,0]])== [[1, 6, 2, 4, 6, 2, 4, 7, 0]]"
   ]
  },
  {
   "cell_type": "code",
   "execution_count": 78,
   "metadata": {},
   "outputs": [
    {
     "data": {
      "text/plain": [
       "True"
      ]
     },
     "execution_count": 78,
     "metadata": {},
     "output_type": "execute_result"
    }
   ],
   "source": [
    "P3([[1,5,20,-1,3],[-1,3,20,4,-1],[34,3,12,5,-12],[4,64,612,6,10]])==[[1, 5, -12, -1, 3],\n",
    "[-1, 3, 5, 4, -1],\n",
    "[34, 3, 6, 10, 20],\n",
    "[4, 64, 612, 12, 20]]"
   ]
  },
  {
   "cell_type": "markdown",
   "metadata": {},
   "source": [
    "# 4\n",
    "길이가 L 이고, 음이 아닌 정수로 이루어진 두 list A, B 가 있을 때, A 를 재배열해서 다음 값을 최소로\n",
    "만들려고 한다."
   ]
  },
  {
   "cell_type": "code",
   "execution_count": 83,
   "metadata": {},
   "outputs": [],
   "source": [
    "def P4(A, B):\n",
    "    S = 0\n",
    "    \n",
    "    for i in range(len(B)):\n",
    "        S += min(A) * max(B)\n",
    "        A.remove(min(A)), B.remove(max(B))\n",
    "        print(A, B)\n",
    "    return S"
   ]
  },
  {
   "cell_type": "code",
   "execution_count": 84,
   "metadata": {},
   "outputs": [
    {
     "name": "stdout",
     "output_type": "stream",
     "text": [
      "[1, 1, 1, 6] [2, 7, 3, 1]\n",
      "[1, 1, 6] [2, 3, 1]\n",
      "[1, 6] [2, 1]\n",
      "[6] [1]\n",
      "[] []\n"
     ]
    },
    {
     "data": {
      "text/plain": [
       "18"
      ]
     },
     "execution_count": 84,
     "metadata": {},
     "output_type": "execute_result"
    }
   ],
   "source": [
    " P4([1,1,1,6,0], [2,7,8,3,1])"
   ]
  },
  {
   "cell_type": "code",
   "execution_count": 81,
   "metadata": {},
   "outputs": [
    {
     "data": {
      "text/plain": [
       "21"
      ]
     },
     "execution_count": 81,
     "metadata": {},
     "output_type": "execute_result"
    }
   ],
   "source": [
    "P4([1,4,2,6,1,0], [3,5,1,2,4,1])"
   ]
  },
  {
   "cell_type": "code",
   "execution_count": 82,
   "metadata": {},
   "outputs": [
    {
     "data": {
      "text/plain": [
       "0"
      ]
     },
     "execution_count": 82,
     "metadata": {},
     "output_type": "execute_result"
    }
   ],
   "source": [
    " P4([1,0,1,0,1], [0,1,0,1,0])"
   ]
  },
  {
   "cell_type": "code",
   "execution_count": null,
   "metadata": {},
   "outputs": [],
   "source": [
    "(3,4) (3,4)"
   ]
  },
  {
   "cell_type": "code",
   "execution_count": 1,
   "metadata": {},
   "outputs": [
    {
     "data": {
      "text/plain": [
       "[0, 0, 0, 0, 0, 0, 0, 0, 0, 0]"
      ]
     },
     "execution_count": 1,
     "metadata": {},
     "output_type": "execute_result"
    }
   ],
   "source": [
    "A = [0]*10\n",
    "A"
   ]
  },
  {
   "cell_type": "code",
   "execution_count": 4,
   "metadata": {},
   "outputs": [],
   "source": [
    "def P5(lst):\n",
    "    n = len(lst)\n",
    "    conti = [0] * (n+1)\n",
    "# conti[num]: num 까지 연속적으로 증가하는 수의 개수\n",
    "# ex) conti[10] = 4 라는 것은 lst 에서 7, 8, 9, 10 이 순서를 이루고 있음\n",
    " # (각 수 사이에는 다른 수가 있을 수도 있고, 6 은 7 이후에 위치함)\n",
    "    for num in lst:\n",
    "        conti[num] = conti[num-1] + 1\n",
    "# 최대 개수로, 연속적으로 정렬된 순서인 수를 제외한 나머지에 수에 대해\n",
    "# 적절한 순서로 적절한 행동을 취하면 정렬된 수를 만들 수 있음\n",
    "# 이것 보다 적은 행동으로 정렬할 수 없다는 것은 증명 가능\n",
    "    return n - max(conti)"
   ]
  },
  {
   "cell_type": "code",
   "execution_count": 5,
   "metadata": {},
   "outputs": [
    {
     "data": {
      "text/plain": [
       "(1, 2, 11)"
      ]
     },
     "execution_count": 5,
     "metadata": {},
     "output_type": "execute_result"
    }
   ],
   "source": [
    "P5([3,1,2]) ,  P5([3,4,1,2]), P5([8, 11, 14, 1, 10, 5, 15, 7, 2, 6, 3, 9, 13, 12, 4])\n"
   ]
  },
  {
   "cell_type": "code",
   "execution_count": 6,
   "metadata": {},
   "outputs": [
    {
     "name": "stdout",
     "output_type": "stream",
     "text": [
      "1\n",
      "4\n",
      "10\n",
      "33\n",
      "44\n"
     ]
    }
   ],
   "source": [
    "L = [1,4,10,33,44]\n",
    "for num in L:\n",
    "    print(num)"
   ]
  },
  {
   "cell_type": "code",
   "execution_count": 7,
   "metadata": {},
   "outputs": [
    {
     "ename": "IndexError",
     "evalue": "list index out of range",
     "output_type": "error",
     "traceback": [
      "\u001b[1;31m---------------------------------------------------------------------------\u001b[0m",
      "\u001b[1;31mIndexError\u001b[0m                                Traceback (most recent call last)",
      "\u001b[1;32m<ipython-input-7-5d2b9a628939>\u001b[0m in \u001b[0;36m<module>\u001b[1;34m\u001b[0m\n\u001b[0;32m      2\u001b[0m \u001b[1;33m\u001b[0m\u001b[0m\n\u001b[0;32m      3\u001b[0m \u001b[1;32mfor\u001b[0m \u001b[0mnum\u001b[0m \u001b[1;32min\u001b[0m \u001b[0mL\u001b[0m\u001b[1;33m:\u001b[0m\u001b[1;33m\u001b[0m\u001b[1;33m\u001b[0m\u001b[0m\n\u001b[1;32m----> 4\u001b[1;33m     \u001b[0mconti\u001b[0m\u001b[1;33m[\u001b[0m\u001b[0mnum\u001b[0m\u001b[1;33m]\u001b[0m \u001b[1;33m=\u001b[0m \u001b[0mconti\u001b[0m\u001b[1;33m[\u001b[0m\u001b[0mnum\u001b[0m\u001b[1;33m-\u001b[0m\u001b[1;36m1\u001b[0m\u001b[1;33m]\u001b[0m\u001b[1;33m+\u001b[0m\u001b[1;36m1\u001b[0m\u001b[1;33m\u001b[0m\u001b[1;33m\u001b[0m\u001b[0m\n\u001b[0m",
      "\u001b[1;31mIndexError\u001b[0m: list index out of range"
     ]
    }
   ],
   "source": [
    "conti = [0]*(len(L)+1)\n",
    "\n",
    "for num in L:\n",
    "    conti[num] = conti[num-1]+1"
   ]
  },
  {
   "cell_type": "code",
   "execution_count": null,
   "metadata": {},
   "outputs": [],
   "source": []
  }
 ],
 "metadata": {
  "kernelspec": {
   "display_name": "Python 3",
   "language": "python",
   "name": "python3"
  },
  "language_info": {
   "codemirror_mode": {
    "name": "ipython",
    "version": 3
   },
   "file_extension": ".py",
   "mimetype": "text/x-python",
   "name": "python",
   "nbconvert_exporter": "python",
   "pygments_lexer": "ipython3",
   "version": "3.9.1"
  }
 },
 "nbformat": 4,
 "nbformat_minor": 4
}
