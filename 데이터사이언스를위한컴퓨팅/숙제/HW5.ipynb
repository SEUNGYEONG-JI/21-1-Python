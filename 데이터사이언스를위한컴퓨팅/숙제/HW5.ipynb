{
 "cells": [
  {
   "cell_type": "markdown",
   "id": "serial-begin",
   "metadata": {},
   "source": [
    "# 1\n",
    "\"\"\"\n",
    "Practical programming Chapter 10 Exercise 2\n",
    "\n",
    "**Instruction**\n",
    "Suppose the file alkaline_metals.txt contains the name, atomic number, and\n",
    "atomic weight of the alkaline earth metals:\n",
    "\n",
    "beryllium 4 9.012\n",
    "magnesium 12 24.305\n",
    "calcium 20 20.078\n",
    "strontium 38 87.62\n",
    "barium 56 137.327\n",
    "radium 88 226\n",
    "\n",
    "Complete P1 function that uses a for loop to read the contents of alkaline_metals.txt and store it in a list\n",
    "of lists, with each inner list containing the name, atomic number, and atomic weight for an element. (Do not include new line character('\\n'))\n",
    "Then return the list of lists."
   ]
  },
  {
   "cell_type": "code",
   "execution_count": 11,
   "id": "chief-hollywood",
   "metadata": {},
   "outputs": [],
   "source": [
    "def P1(filename: str) -> list:        \n",
    "    result = []\n",
    "    with open(filename,'r') as input_file:\n",
    "        for line in input_file:\n",
    "            line = line.strip()\n",
    "            L = line.split(' ')\n",
    "\n",
    "            result.append(L)\n",
    "    \n",
    "\n",
    "    return result\n"
   ]
  },
  {
   "cell_type": "code",
   "execution_count": 18,
   "id": "expressed-defendant",
   "metadata": {},
   "outputs": [
    {
     "data": {
      "text/plain": [
       "[['beryllium', '4', '9.012'],\n",
       " ['magnesium', '12', '24.305'],\n",
       " ['calcium', '20', '20.078'],\n",
       " ['strontium', '38', '87.62'],\n",
       " ['barium', '56', '137.327'],\n",
       " ['radium', '88', '226']]"
      ]
     },
     "execution_count": 18,
     "metadata": {},
     "output_type": "execute_result"
    }
   ],
   "source": [
    "P1('alkaline_metals.txt')"
   ]
  },
  {
   "cell_type": "markdown",
   "id": "mounted-reform",
   "metadata": {},
   "source": [
    "# 2\n",
    "\"\"\"\n",
    "Practical programming Chapter 10 Exercise 3\n",
    "\n",
    "**Instruction**\n",
    "All of the file-reading functions we have seen in this chapter read forward\n",
    "through the file from the first character or line to the last. \n",
    "Complete P2 function that would read from the last line through a file \n",
    "and return a list whose elements are lines of the input file from the last.\n",
    "\n",
    "For example, when you run P2 on alkaline_metals.txt (same text file as P1),\n",
    "it should return \n",
    "['radium 88 226', 'barium 56 137.327\\n', 'strontium 38 87.62\\n', 'calcium 20 20.078\\n', 'magnesium 12 24.305\\n', 'beryllium 4 9.012\\n']\n",
    "\n",
    "\"\"\""
   ]
  },
  {
   "cell_type": "code",
   "execution_count": 28,
   "id": "young-funeral",
   "metadata": {},
   "outputs": [],
   "source": [
    "def P2(filename: str) -> list:        \n",
    "    result = []\n",
    "    dic = {}\n",
    "    index = 0\n",
    "    #store file lines to dictionary\n",
    "    with open(filename, 'r') as input_file:\n",
    "        for line in input_file:\n",
    "            dic[index] = line\n",
    "            index +=1\n",
    "            \n",
    "    #reverse lines from dictionary\n",
    "    for i in range(index-1,-1,-1):\n",
    "        result.append(dic[i])\n",
    "    return result"
   ]
  },
  {
   "cell_type": "code",
   "execution_count": 30,
   "id": "comparable-speech",
   "metadata": {},
   "outputs": [
    {
     "data": {
      "text/plain": [
       "['radium 88 226',\n",
       " 'barium 56 137.327\\n',\n",
       " 'strontium 38 87.62\\n',\n",
       " 'calcium 20 20.078\\n',\n",
       " 'magnesium 12 24.305\\n',\n",
       " 'beryllium 4 9.012\\n']"
      ]
     },
     "execution_count": 30,
     "metadata": {},
     "output_type": "execute_result"
    }
   ],
   "source": [
    "P2('alkaline_metals.txt')"
   ]
  },
  {
   "cell_type": "markdown",
   "id": "occupied-african",
   "metadata": {},
   "source": [
    "# 3\n",
    "\"\"\"\n",
    "**Instruction**\n",
    "Write P3 function that reads a file and return a list of lines except header(any line starts with '//').\n",
    "Also exclude new lne character('\\n') and any commented part.(marked as '#')\n",
    "If any line starts with comment mark('#'), ignore the line.\n",
    "\n",
    "For example, if the input file has below lines, \n",
    "\n",
    "//Header: description\n",
    "//metals no weight\n",
    "beryllium 4 9.012\n",
    "magnesium 12 24.305\n",
    "calcium 20 20.078 #Good for your health\n",
    "strontium 38 87.62\n",
    "barium 56 137.327\n",
    "# This is comment line and  ignore\n",
    "radium 88 226\n",
    "\n",
    "\n",
    "P3 should return below list.\n",
    "['beryllium 4 9.012', 'magnesium 12 24.305', 'calcium 20 20.078 ', 'strontium 38 87.62', 'barium 56 137.327', 'radium 88 226']\n",
    "\n",
    "\"\"\""
   ]
  },
  {
   "cell_type": "code",
   "execution_count": 48,
   "id": "regulation-mobile",
   "metadata": {},
   "outputs": [],
   "source": [
    "def P3(filename: str) -> list:        \n",
    "    result = []\n",
    "    \n",
    "    with open(filename,'r') as input_file:\n",
    "        for line in input_file:\n",
    "            if line.startswith('//'):\n",
    "                continue\n",
    "            valid_str = line.strip()\n",
    "            valid_str = valid_str.split('#')[0]\n",
    "            valid_str = valid_str.strip()\n",
    "            if valid_str:\n",
    "                   result.append(valid_str)\n",
    "\n",
    "    return result\n"
   ]
  },
  {
   "cell_type": "code",
   "execution_count": 51,
   "id": "advanced-spell",
   "metadata": {},
   "outputs": [],
   "source": [
    "with open('test_P3_HW5.txt','w') as output_file:\n",
    "    output_file.write('//Header: description \\n//metals no weight \\n beryllium 4 9.012 \\n magnesium 12 24.305 \\n calcium 20 20.078 #Good for your health \\n strontium 38 87.62 \\n barium 56 137.327 \\n # This is comment line and ignore \\n radium 88 226')"
   ]
  },
  {
   "cell_type": "code",
   "execution_count": 52,
   "id": "dietary-victor",
   "metadata": {},
   "outputs": [
    {
     "data": {
      "text/plain": [
       "['beryllium 4 9.012',\n",
       " 'magnesium 12 24.305',\n",
       " 'calcium 20 20.078',\n",
       " 'strontium 38 87.62',\n",
       " 'barium 56 137.327',\n",
       " 'radium 88 226']"
      ]
     },
     "execution_count": 52,
     "metadata": {},
     "output_type": "execute_result"
    }
   ],
   "source": [
    "P3('test_P3_HW5.txt')"
   ]
  },
  {
   "cell_type": "markdown",
   "id": "encouraging-planning",
   "metadata": {},
   "source": [
    "# 4\n",
    "\"\"\"\n",
    "**Instruction**\n",
    "Write P4 function that reads a file and creates another file with different delimeter.\n",
    "- Assume the input file is delimited with blank(' ').\n",
    "- Output file has comma(',') as a delimeter\n",
    "- Assume there is no consecutive blanks in input file. i.e. '  ', '   ', '    ',...  does not appear in the input file.\n",
    "- Filenames of input and ouput file are entered as input of P4 function\n",
    "- there is no return value of P4 function\n",
    "For example, if the input file has below lines, \n",
    "\n",
    "beryllium 4 9.012\n",
    "magnesium 12 24.305\n",
    "calcium 20 20.078\n",
    "strontium 38 87.62\n",
    "barium 56 137.327\n",
    "radium 88 226\n",
    "\n",
    "output file should look like this.\n",
    "beryllium,4,9.012\n",
    "magnesium,12,24.305\n",
    "calcium,20,20.078\n",
    "strontium,38,87.62\n",
    "barium,56,137.327\n",
    "radium,88,226\n",
    "\"\"\""
   ]
  },
  {
   "cell_type": "code",
   "execution_count": 64,
   "id": "freelance-array",
   "metadata": {},
   "outputs": [],
   "source": [
    "def P4(input_filename: str, out_filename: str):        \n",
    "    \n",
    "    with open(input_filename, 'r') as input_file:\n",
    "        with open(out_filename,'w') as output_file:\n",
    "            for line in input_file:\n",
    "                output_file.write(line.replace(' ',','))"
   ]
  },
  {
   "cell_type": "code",
   "execution_count": 65,
   "id": "leading-converter",
   "metadata": {},
   "outputs": [],
   "source": [
    "P4('alkaline_metals.txt', 'out.txt')"
   ]
  },
  {
   "cell_type": "code",
   "execution_count": 66,
   "id": "thick-drawing",
   "metadata": {},
   "outputs": [
    {
     "data": {
      "text/plain": [
       "['beryllium,4,9.012\\n',\n",
       " 'magnesium,12,24.305\\n',\n",
       " 'calcium,20,20.078\\n',\n",
       " 'strontium,38,87.62\\n',\n",
       " 'barium,56,137.327\\n',\n",
       " 'radium,88,226']"
      ]
     },
     "execution_count": 66,
     "metadata": {},
     "output_type": "execute_result"
    }
   ],
   "source": [
    "with open('out.txt','r') as input_file:\n",
    "    L = input_file.readlines()\n",
    "L"
   ]
  },
  {
   "cell_type": "markdown",
   "id": "outside-breakfast",
   "metadata": {},
   "source": [
    "# 5\n",
    "\"\"\"\n",
    "**Instruction**\n",
    "Write P5 function that reads a file and write another file as following\n",
    "- Ignore header(starts with '//').\n",
    "- If there is any comment mark('#'), remove '#' and move commented parts to the next line\n",
    "- If there is another comment mark in the commented part, \n",
    "  move any parts that follows the second comment to the next line. \n",
    "  (i.e. A # B # C becomes three lines)\n",
    "- If any line starts with comment mark('#'), remove '#' only.\n",
    "- Assume there is no consecutive '#' in the input file \n",
    "  (i.e. '##', '###', ... does not appear in the input file)\n",
    "- Filenames of input and ouput file are entered as input of P5 function\n",
    "- There is no return value of P5 function\n",
    "\n",
    "For example, if the input file has below lines, \n",
    "\n",
    "//Header: description\n",
    "//metals no weight\n",
    "beryllium 4 9.012\n",
    "magnesium 12 24.305\n",
    "calcium 20 20.078 #Good for your health #Comment in comment\n",
    "strontium 38 87.62\n",
    "barium 56 137.327\n",
    "# This is comment line and  ignore \n",
    "radium 88 226\n",
    "\n",
    "\n",
    "Output file should look as below\n",
    "beryllium 4 9.012\n",
    "magnesium 12 24.305\n",
    "calcium 20 20.078 \n",
    "Good for your health \n",
    "Comment in comment\n",
    "strontium 38 87.62\n",
    "barium 56 137.327\n",
    " This is comment line and  ignore\n",
    "radium 88 226\n",
    "\n",
    "\"\"\""
   ]
  },
  {
   "cell_type": "code",
   "execution_count": 69,
   "id": "governmental-indiana",
   "metadata": {},
   "outputs": [
    {
     "data": {
      "text/plain": [
       "['', 'a', 'b', 'c']"
      ]
     },
     "execution_count": 69,
     "metadata": {},
     "output_type": "execute_result"
    }
   ],
   "source": [
    "a = '#a#b#c'\n",
    "b = a.split('#')\n",
    "b"
   ]
  },
  {
   "cell_type": "code",
   "execution_count": 98,
   "id": "boring-intelligence",
   "metadata": {},
   "outputs": [],
   "source": [
    "def P5(input_filename: str, out_filename: str):        \n",
    "    with open(input_filename, 'r') as input_file:\n",
    "        with open(out_filename, 'w') as output_file:\n",
    "            for line in input_file:\n",
    "                if line.startswith('//'):\n",
    "                        continue\n",
    "                line = line.strip()\n",
    "                L = line.split('#')\n",
    "                for string in L:\n",
    "                    if string:\n",
    "                         output_file.write(string+'\\n')"
   ]
  },
  {
   "cell_type": "code",
   "execution_count": 99,
   "id": "upper-medicaid",
   "metadata": {},
   "outputs": [],
   "source": [
    "P5('test_P3_HW5.txt', 'output.txt')"
   ]
  },
  {
   "cell_type": "code",
   "execution_count": null,
   "id": "starting-traveler",
   "metadata": {},
   "outputs": [],
   "source": []
  }
 ],
 "metadata": {
  "kernelspec": {
   "display_name": "Python 3",
   "language": "python",
   "name": "python3"
  },
  "language_info": {
   "codemirror_mode": {
    "name": "ipython",
    "version": 3
   },
   "file_extension": ".py",
   "mimetype": "text/x-python",
   "name": "python",
   "nbconvert_exporter": "python",
   "pygments_lexer": "ipython3",
   "version": "3.9.1"
  }
 },
 "nbformat": 4,
 "nbformat_minor": 5
}
