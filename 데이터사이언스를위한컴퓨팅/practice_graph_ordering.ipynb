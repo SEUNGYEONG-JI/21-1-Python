{
 "cells": [
  {
   "cell_type": "markdown",
   "metadata": {},
   "source": [
    "# Practice: Graph Ordering"
   ]
  },
  {
   "cell_type": "code",
   "execution_count": 3,
   "metadata": {},
   "outputs": [],
   "source": [
    "V = [0, 1, 2, 3, 4, 5, 6, 7, 8, 9]\n",
    "E = [(0,1), (1,4), (1,5), (4,6), (5,6), (5,7), (6,9), (7,8), (2,3)]"
   ]
  },
  {
   "cell_type": "code",
   "execution_count": 4,
   "metadata": {},
   "outputs": [],
   "source": [
    "from collections import deque\n",
    "\n",
    "class undi_graph():\n",
    "    def __init__(self, V: list, E: list) -> None:\n",
    "        self.V = V[:]\n",
    "        self.neighbor = {}\n",
    "        for v in V:\n",
    "            self.neighbor[v] = []\n",
    "        \n",
    "        for (v,w) in E:\n",
    "            self.neighbor[v].append(w)\n",
    "            self.neighbor[w].append(v)\n",
    "        \n",
    "    \n",
    "    def __DFTHelp(self, visited, v: int) -> None:   \n",
    "        if not visited[v]:\n",
    "            visited[v] = True\n",
    "            for w in self.neighbor[v]:\n",
    "                self.__DFTHelp(visited,w)\n",
    "            print(v)\n",
    "                        \n",
    "        \n",
    "    def DFT(self) -> None:\n",
    "        visited = {}\n",
    "        for v in self.V:\n",
    "            visited[v] = False\n",
    "        for v in self.V:\n",
    "            self.__DFTHelp(visited, v)\n",
    "            \n",
    "            \n",
    "            \n",
    "            \n",
    "    \n",
    "    \n",
    "    "
   ]
  },
  {
   "cell_type": "code",
   "execution_count": 5,
   "metadata": {},
   "outputs": [
    {
     "name": "stdout",
     "output_type": "stream",
     "text": [
      "8\n",
      "7\n",
      "5\n",
      "9\n",
      "6\n",
      "4\n",
      "1\n",
      "0\n",
      "3\n",
      "2\n"
     ]
    }
   ],
   "source": [
    "# Test\n",
    "myGraph = undi_graph(V,E)\n",
    "myGraph.DFT()"
   ]
  },
  {
   "cell_type": "code",
   "execution_count": 16,
   "metadata": {},
   "outputs": [
    {
     "name": "stdout",
     "output_type": "stream",
     "text": [
      "8\n",
      "7\n",
      "5\n",
      "9\n",
      "6\n",
      "4\n",
      "1\n",
      "0\n",
      "3\n",
      "2\n"
     ]
    }
   ],
   "source": [
    "# Test\n",
    "#myGraph = undi_graph(V,E)\n",
    "#myGraph.DFT()"
   ]
  }
 ],
 "metadata": {
  "kernelspec": {
   "display_name": "Python 3",
   "language": "python",
   "name": "python3"
  },
  "language_info": {
   "codemirror_mode": {
    "name": "ipython",
    "version": 3
   },
   "file_extension": ".py",
   "mimetype": "text/x-python",
   "name": "python",
   "nbconvert_exporter": "python",
   "pygments_lexer": "ipython3",
   "version": "3.9.1"
  }
 },
 "nbformat": 4,
 "nbformat_minor": 4
}
